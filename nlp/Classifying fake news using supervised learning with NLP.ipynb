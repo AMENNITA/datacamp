{
 "cells": [
  {
   "cell_type": "markdown",
   "metadata": {},
   "source": [
    "## What is supervised learning?\n",
    "- Form of machine learning\n",
    "- Problem has predefined training data\n",
    "- This data has a label (or outcome) you want the model to learn\n",
    "- Classification problem\n",
    "Goal: Make good hypotheses about the species based on geometric features\n",
    "\n",
    "\n",
    "## Supervised learning with NLP\n",
    "\n",
    "- Need to use **language** instead of geometric features\n",
    "- scikit-learn: Powerful open-source library\n",
    "- How to create supervised learning data from text?\n",
    "- Use bag-of-words models or tf-idf as features\n",
    "\n",
    "\n",
    "## IMDB Movie Dataset\n",
    "\n",
    "\n",
    "![](https://i.imgur.com/tdlKkz1.png)\n",
    "\n",
    "- Goal: Predict movie genre based on plot summary\n",
    "- Categorical features generated using preprocessing\n",
    "\n",
    "\n",
    "## Supervised learning steps\n",
    "- Collect and preprocess our data\n",
    "- Determine a label (Example: Movie genre)\n",
    "- Split data into training and test sets\n",
    "- Extract features from the text to help predict the label\n",
    "    - Bag-of-words vector built into scikit-learn\n",
    "- Evaluate trained model using the test set"
   ]
  },
  {
   "cell_type": "markdown",
   "metadata": {},
   "source": [
    "## Let's Practice"
   ]
  },
  {
   "cell_type": "code",
   "execution_count": null,
   "metadata": {},
   "outputs": [],
   "source": []
  },
  {
   "cell_type": "code",
   "execution_count": null,
   "metadata": {},
   "outputs": [],
   "source": []
  },
  {
   "cell_type": "code",
   "execution_count": null,
   "metadata": {},
   "outputs": [],
   "source": []
  },
  {
   "cell_type": "code",
   "execution_count": null,
   "metadata": {},
   "outputs": [],
   "source": []
  },
  {
   "cell_type": "markdown",
   "metadata": {},
   "source": [
    "# Building word count vectors with scikitlearn\n",
    "\n",
    "\n",
    "## Predicting movie genre\n",
    "- Dataset consisting of movie plots and corresponding genre\n",
    "- Goal: Create bag-of-word vectors for the movie plots\n",
    "    - Can we predict genre based on the words used in the plot summary?\n",
    "    \n",
    "    \n",
    "## Count Vectorize w Python\n",
    "\n",
    "```python\n",
    "# import req libraries\n",
    "In [1]: import pandas as pd\n",
    "In [2]: from sklearn.model_selection import train_test_split\n",
    "In [3]: from sklearn.feature_extraction.text import CountVectorizer\n",
    "    \n",
    "# load dataset as df\n",
    "In [4]: df = ... # Load data into DataFrame\n",
    "\n",
    "# create y, labels or outcome we want the model to learn \n",
    "In [5]: y = df['Sci-Fi']  # 1 if scifi 0 if action\n",
    "\n",
    "# split df into training and testing\n",
    "# it splits the features and labels into train & test\n",
    "# test_size is the perc of split ex 33% of data as test data\n",
    "# random_state is seed to replicate split vals\n",
    "\n",
    "In [6]: X_train, X_test, y_train, y_test = train_test_split(\n",
    "df['plot'], y,\n",
    "test_size=0.33,\n",
    "random_state=53)\n",
    "    \n",
    "# turns text into bag of words vectors similar to gensim corpus, also remove english stop words\n",
    "# from the movie plot summary as a preprocessing step \n",
    "# each token will act as a feature for ML classification problem like the flower mesurmens of iris dataset\n",
    "In [7]: count_vectorizer = CountVectorizer(stop_words='english')\n",
    "    \n",
    "# call fit_transform\n",
    "In [8]: count_train = count_vectorizer.fit_transform(X_train.values)\n",
    "In [9]: count_test = count_vectorizer.transform(X_test.values)\n",
    "    ```"
   ]
  },
  {
   "cell_type": "markdown",
   "metadata": {},
   "source": [
    "## Let's Practice"
   ]
  },
  {
   "cell_type": "code",
   "execution_count": null,
   "metadata": {},
   "outputs": [],
   "source": []
  },
  {
   "cell_type": "code",
   "execution_count": null,
   "metadata": {},
   "outputs": [],
   "source": []
  },
  {
   "cell_type": "code",
   "execution_count": null,
   "metadata": {},
   "outputs": [],
   "source": []
  },
  {
   "cell_type": "code",
   "execution_count": null,
   "metadata": {},
   "outputs": [],
   "source": []
  },
  {
   "cell_type": "code",
   "execution_count": null,
   "metadata": {},
   "outputs": [],
   "source": []
  },
  {
   "cell_type": "code",
   "execution_count": null,
   "metadata": {},
   "outputs": [],
   "source": []
  },
  {
   "cell_type": "markdown",
   "metadata": {},
   "source": [
    "# Training and testing a classification model with scikit-learn\n",
    "\n",
    "## Naive Bayes classifier\n",
    "- Naive Bayes Model\n",
    "    - Commonly used for testing NLP classification problems\n",
    "    - Basis in probability\n",
    "- Given a particular piece of data, how likely is a particular outcome?\n",
    "- Examples:\n",
    "    - If the plot has a spaceship, how likely is it to be sci-fi?\n",
    "    - Given a spaceship and an alien, how likely now is it sci-fi?\n",
    "- Each word from CountVectorizer acts as a feature\n",
    "- Naive Bayes: Simple and effective\n",
    "\n",
    "## Naive Bayes w scikit-learn\n",
    "\n",
    "```python\n",
    "In [10]: from sklearn.naive_bayes import MultinomialNB\n",
    "In [11]: from sklearn import metrics\n",
    "In [12]: nb_classifier = MultinomialNB()\n",
    "In [13]: nb_classifier.fit(count_train, y_train)\n",
    "In [14]: pred = nb_classifier.predict(count_test)\n",
    "In [15]: metrics.accuracy_score(\n",
    "```\n",
    "\n",
    "## Confustion Matrix\n",
    "\n",
    "```python\n",
    "In [16]: metrics.confusion_matrix(y_test, pred, labels=[0,1])\n",
    "Out [16]:\n",
    "array([[6410, 563],\n",
    "[ 864, 2242]])\n",
    "\n",
    "```\n",
    "\n",
    "\n",
    "![](https://i.imgur.com/yJowLkX.png)\n",
    "\n"
   ]
  },
  {
   "cell_type": "markdown",
   "metadata": {},
   "source": [
    "## Let's Practice"
   ]
  },
  {
   "cell_type": "code",
   "execution_count": null,
   "metadata": {},
   "outputs": [],
   "source": []
  },
  {
   "cell_type": "code",
   "execution_count": null,
   "metadata": {},
   "outputs": [],
   "source": []
  },
  {
   "cell_type": "code",
   "execution_count": null,
   "metadata": {},
   "outputs": [],
   "source": []
  },
  {
   "cell_type": "code",
   "execution_count": null,
   "metadata": {},
   "outputs": [],
   "source": []
  },
  {
   "cell_type": "code",
   "execution_count": null,
   "metadata": {},
   "outputs": [],
   "source": []
  },
  {
   "cell_type": "markdown",
   "metadata": {},
   "source": [
    "# Simple NLP, Complex Problems\n",
    "\n",
    "## Translation\n",
    "![](https://i.imgur.com/PfopGKE.png)\n",
    "\n",
    "(source: https://twitter.com/Lupintweets/status/865533182455685121)\n",
    "\n",
    "## Sentiment Analysis\n",
    "\n",
    "![](https://i.imgur.com/3NDgJQg.png)\n",
    "\n",
    "(source: https://nlp.stanford.edu/projects/socialsent/)\n",
    "\n",
    "## Language Biases\n",
    "\n",
    "![](https://i.imgur.com/sCT6oSV.png)\n",
    "\n",
    "(related talk: https://www.youtube.com/watch?v=j7FwpZB1hWc)\n"
   ]
  },
  {
   "cell_type": "markdown",
   "metadata": {},
   "source": [
    "## Let's Practice"
   ]
  },
  {
   "cell_type": "code",
   "execution_count": null,
   "metadata": {},
   "outputs": [],
   "source": []
  },
  {
   "cell_type": "code",
   "execution_count": null,
   "metadata": {},
   "outputs": [],
   "source": []
  }
 ],
 "metadata": {
  "kernelspec": {
   "display_name": "Python [conda env:datacamp]",
   "language": "python",
   "name": "conda-env-datacamp-py"
  },
  "language_info": {
   "codemirror_mode": {
    "name": "ipython",
    "version": 3
   },
   "file_extension": ".py",
   "mimetype": "text/x-python",
   "name": "python",
   "nbconvert_exporter": "python",
   "pygments_lexer": "ipython3",
   "version": "3.6.4"
  }
 },
 "nbformat": 4,
 "nbformat_minor": 2
}
