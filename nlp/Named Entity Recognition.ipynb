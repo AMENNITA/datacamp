{
 "cells": [
  {
   "cell_type": "markdown",
   "metadata": {},
   "source": [
    "## What is Named Entity Recognition?\n",
    "- NLP task to identify important named entities in the text\n",
    "    - People, places, organizations\n",
    "    - Dates, states, works of art\n",
    "    - ... and other categories!\n",
    "- Can be used alongside topic identification\n",
    "    -... or on its own!\n",
    "- Who? What? When? Where?\n",
    "\n",
    "\n",
    "\n",
    "## Example of NER\n",
    "\n",
    "![](https://i.imgur.com/qEK89qR.png)\n",
    "\n",
    "(Source: Europeana Newspapers (http://www.europeana-newspapers.eu))\n",
    "\n",
    "- text  has been highlighted for diffrent types of entities\n",
    "- dates, locations, people, and organizaitons\n",
    "- extract information based on these entities\n",
    "\n",
    "- use it for fact extracton and show wicht entities are related using  computational language models\n",
    "- ex: \n",
    "    - `Einstein` has something to do with `United States`, `Adof Hitler` and `Germany`\n",
    "    - we can see by token proxemity that `Russel` and `Einstein` created `Russel-Einsten Manifesto`\n",
    "    \n",
    "\n",
    "\n",
    "## nltk and the Stanford CoreNLP Library\n",
    "- The Stanford CoreNLP library:\n",
    "    - Integrated into Python via nltk\n",
    "    - Java based\n",
    "    - Support for NER as well as coreference and dependency trees"
   ]
  },
  {
   "cell_type": "code",
   "execution_count": 5,
   "metadata": {},
   "outputs": [
    {
     "data": {
      "text/plain": [
       "[('In', 'IN'), ('New', 'NNP'), ('York', 'NNP')]"
      ]
     },
     "execution_count": 5,
     "metadata": {},
     "output_type": "execute_result"
    }
   ],
   "source": [
    "'''\n",
    "LookupError: \n",
    "**********************************************************************\n",
    "  Resource averaged_perceptron_tagger not found.\n",
    "  Please use the NLTK Downloader to obtain the resource:\n",
    "\n",
    "  >>> import nltk\n",
    "  >>> nltk.download('averaged_perceptron_tagger')\n",
    "  \n",
    "  Searched in:\n",
    "    - '/home/frank/nltk_data'\n",
    "    - '/usr/share/nltk_data'\n",
    "    - '/usr/local/share/nltk_data'\n",
    "    - '/usr/lib/nltk_data'\n",
    "    - '/usr/local/lib/nltk_data'\n",
    "    - '/home/frank/miniconda3/envs/datacamp/nltk_data'\n",
    "    - '/home/frank/miniconda3/envs/datacamp/share/nltk_data'\n",
    "    - '/home/frank/miniconda3/envs/datacamp/lib/nltk_data'\n",
    "**********************************************************************\n",
    "'''\n",
    "\n",
    "import nltk\n",
    "\n",
    "# normal sentence\n",
    "sentence = '''In New York, I like to ride the Metro to visit MOMA\n",
    "and some restaurants rated well by Ruth Reichl.'''\n",
    "\n",
    "\n",
    "# preprocess with tokenization\n",
    "tokenized_sent = nltk.word_tokenize(sentence)\n",
    "\n",
    "\n",
    "# tag the sentence for parts of speach\n",
    "# this will add tags for nouns, proper nouns, adjetives, verbs. based on engl grammer\n",
    "tagged_sent = nltk.pos_tag(tokenized_sent)\n",
    "tagged_sent[:3]"
   ]
  },
  {
   "cell_type": "markdown",
   "metadata": {},
   "source": [
    "`New` and `York` are taged as 'NNP' thta is part of speach tag for proper noun singlular"
   ]
  },
  {
   "cell_type": "markdown",
   "metadata": {},
   "source": [
    "## nktl's ``ne_chunk()"
   ]
  },
  {
   "cell_type": "code",
   "execution_count": 8,
   "metadata": {},
   "outputs": [
    {
     "name": "stdout",
     "output_type": "stream",
     "text": [
      "(S\n",
      "  In/IN\n",
      "  (GPE New/NNP York/NNP)\n",
      "  ,/,\n",
      "  I/PRP\n",
      "  like/VBP\n",
      "  to/TO\n",
      "  ride/VB\n",
      "  the/DT\n",
      "  (ORGANIZATION Metro/NNP)\n",
      "  to/TO\n",
      "  visit/VB\n",
      "  (ORGANIZATION MOMA/NNP)\n",
      "  and/CC\n",
      "  some/DT\n",
      "  restaurants/NNS\n",
      "  rated/VBN\n",
      "  well/RB\n",
      "  by/IN\n",
      "  (PERSON Ruth/NNP Reichl/NNP)\n",
      "  ./.)\n"
     ]
    }
   ],
   "source": [
    "'''\n",
    "LookupError: \n",
    "**********************************************************************\n",
    "  Resource maxent_ne_chunker not found.\n",
    "  Please use the NLTK Downloader to obtain the resource:\n",
    "\n",
    "  >>> import nltk\n",
    "  >>> nltk.download('maxent_ne_chunker')\n",
    "  \n",
    "  Searched in:\n",
    "    - '/home/frank/nltk_data'\n",
    "    - '/usr/share/nltk_data'\n",
    "    - '/usr/local/share/nltk_data'\n",
    "    - '/usr/lib/nltk_data'\n",
    "    - '/usr/local/lib/nltk_data'\n",
    "    - '/home/frank/miniconda3/envs/datacamp/nltk_data'\n",
    "    - '/home/frank/miniconda3/envs/datacamp/share/nltk_data'\n",
    "    - '/home/frank/miniconda3/envs/datacamp/lib/nltk_data'\n",
    "    - ''\n",
    "**********************************************************************\n",
    "'''\n",
    "\n",
    "\n",
    "'''\n",
    "LookupError: \n",
    "**********************************************************************\n",
    "  Resource words not found.\n",
    "  Please use the NLTK Downloader to obtain the resource:\n",
    "\n",
    "  >>> import nltk\n",
    "  >>> nltk.download('words')\n",
    "  \n",
    "  Searched in:\n",
    "    - '/home/frank/nltk_data'\n",
    "    - '/usr/share/nltk_data'\n",
    "    - '/usr/local/share/nltk_data'\n",
    "    - '/usr/lib/nltk_data'\n",
    "    - '/usr/local/lib/nltk_data'\n",
    "    - '/home/frank/miniconda3/envs/datacamp/nltk_data'\n",
    "    - '/home/frank/miniconda3/envs/datacamp/share/nltk_data'\n",
    "    - '/home/frank/miniconda3/envs/datacamp/lib/nltk_data'\n",
    "**********************************************************************\n",
    "'''\n",
    "# name entity chunk\n",
    "\n",
    "# returns the sentense a tree\n",
    "# this tree shows the name entity tags as their own chunks exp New as GPE, MOMA as ORGANIZATION, Ruth asn PERSON\n",
    "print(nltk.ne_chunk(tagged_sent))"
   ]
  },
  {
   "cell_type": "markdown",
   "metadata": {},
   "source": [
    "## Let Practice"
   ]
  },
  {
   "cell_type": "markdown",
   "metadata": {},
   "source": [
    "## NER with NLTK\n",
    "You're now going to have some fun with named-entity recognition! A scraped news article has been pre-loaded into your workspace. Your task is to use nltk to find the named entities in this article.\n",
    "\n",
    "What might the article be about, given the names you found?\n",
    "\n",
    "Along with nltk, sent_tokenize and word_tokenize from nltk.tokenize have been pre-imported."
   ]
  },
  {
   "cell_type": "code",
   "execution_count": 9,
   "metadata": {},
   "outputs": [],
   "source": [
    "article = '\\ufeffThe taxi-hailing company Uber brings into very sharp focus the question of whether corporations can be said to have a moral character. If any human being were to behave with the single-minded and ruthless greed of the company, we would consider them sociopathic. Uber wanted to know as much as possible about the people who use its service, and those who don’t. It has an arrangement with unroll.me, a company which offered a free service for unsubscribing from junk mail, to buy the contacts unroll.me customers had had with rival taxi companies. Even if their email was notionally anonymised, this use of it was not something the users had bargained for. Beyond that, it keeps track of the phones that have been used to summon its services even after the original owner has sold them, attempting this with Apple’s phones even thought it is forbidden by the company.\\r\\n\\r\\n\\r\\nUber has also tweaked its software so that regulatory agencies that the company regarded as hostile would, when they tried to hire a driver, be given false reports about the location of its cars. Uber management booked and then cancelled rides with a rival taxi-hailing company which took their vehicles out of circulation. Uber deny this was the intention. The punishment for this behaviour was negligible. Uber promised not to use this “greyball” software against law enforcement – one wonders what would happen to someone carrying a knife who promised never to stab a policeman with it. Travis Kalanick of Uber got a personal dressing down from Tim Cook, who runs Apple, but the company did not prohibit the use of the app. Too much money was at stake for that.\\r\\n\\r\\n\\r\\nMillions of people around the world value the cheapness and convenience of Uber’s rides too much to care about the lack of drivers’ rights or pay. Many of the users themselves are not much richer than the drivers. The “sharing economy” encourages the insecure and exploited to exploit others equally insecure to the profit of a tiny clique of billionaires. Silicon Valley’s culture seems hostile to humane and democratic values. The outgoing CEO of Yahoo, Marissa Mayer, who is widely judged to have been a failure, is likely to get a $186m payout. This may not be a cause for panic, any more than the previous hero worship should have been a cause for euphoria. Yet there’s an urgent political task to tame these companies, to ensure they are punished when they break the law, that they pay their taxes fairly and that they behave responsibly.'"
   ]
  },
  {
   "cell_type": "code",
   "execution_count": 22,
   "metadata": {},
   "outputs": [
    {
     "name": "stdout",
     "output_type": "stream",
     "text": [
      "(NE Uber/NNP)\n",
      "(NE Beyond/NN)\n",
      "(NE Apple/NNP)\n",
      "(NE Uber/NNP)\n",
      "(NE Uber/NNP)\n",
      "(NE Travis/NNP Kalanick/NNP)\n",
      "(NE Tim/NNP Cook/NNP)\n",
      "(NE Apple/NNP)\n",
      "(NE Silicon/NNP Valley/NNP)\n",
      "(NE CEO/NNP)\n",
      "(NE Yahoo/NNP)\n",
      "(NE Marissa/NNP Mayer/NNP)\n"
     ]
    }
   ],
   "source": [
    "# Tokenize the article into sentences: sentences\n",
    "sentences = nltk.sent_tokenize(article)\n",
    "\n",
    "# Tokenize each sentence into words: token_sentences\n",
    "token_sentences = [nltk.word_tokenize(sent) for sent in sentences]\n",
    "\n",
    "# Tag each tokenized sentence into parts of speech: pos_sentences\n",
    "pos_sentences = [nltk.pos_tag(sent) for sent in token_sentences] \n",
    "\n",
    "# Create the named entity chunks: chunked_sentences\n",
    "chunked_sentences = nltk.ne_chunk_sents(pos_sentences,binary=True)\n",
    "\n",
    "# Test for stems of the tree with 'NE' tags\n",
    "for sent in chunked_sentences:\n",
    "    for chunk in sent:\n",
    "        if hasattr(chunk, \"label\") and chunk.label() == \"NE\":\n",
    "            print(chunk)"
   ]
  },
  {
   "cell_type": "markdown",
   "metadata": {},
   "source": [
    "## Charting practice\n",
    "In this exercise, you'll use some extracted named entities and their groupings from a series of newspaper articles to chart the diversity of named entity types in the articles.\n",
    "\n",
    "You'll use a defaultdict called ner_categories, with keys representing every named entity group type, and values to count the number of each different named entity type. You have a chunked sentence list called chunked_sentences similar to the last exercise, but this time with non-binary category names.\n",
    "\n",
    "You can use hasattr() to determine if each chunk has a 'label' and then simply use the chunk's .label() method as the dictionary key."
   ]
  },
  {
   "cell_type": "code",
   "execution_count": 23,
   "metadata": {},
   "outputs": [],
   "source": [
    "from collections import defaultdict\n",
    "import matplotlib.pyplot as plt"
   ]
  },
  {
   "cell_type": "markdown",
   "metadata": {},
   "source": [
    "```python\n",
    "# Create the defaultdict: ner_categories\n",
    "ner_categories = defaultdict(int)\n",
    "\n",
    "# Create the nested for loop\n",
    "for sent in chunked_sentences:\n",
    "    for chunk in sent:\n",
    "        if hasattr(chunk, 'label'):\n",
    "            ner_categories[chunk.label()] += 1\n",
    "            \n",
    "# Create a list from the dictionary keys for the chart labels: labels\n",
    "labels = list(ner_categories.keys())\n",
    "\n",
    "# Create a list of the values: values\n",
    "values = [ner_categories.get(l) for l in labels]\n",
    "\n",
    "# Create the pie chart\n",
    "plt.pie(values, labels=labels, autopct='%1.1f%%', startangle=140)\n",
    "\n",
    "# Display the chart\n",
    "plt.show()\n",
    "```"
   ]
  },
  {
   "cell_type": "markdown",
   "metadata": {},
   "source": [
    "# Intro to SpaCy\n",
    "\n",
    "\n",
    "## What is SpaCy?\n",
    "NLP library similar to gensim, with different implementations\n",
    "Focus on creating NLP pipelines to generate models and corpora\n",
    "Open-source, with extra libraries and tools\n",
    "- Displacy\n",
    "\n",
    "## Displacy entity recognition visualizer\n",
    "\n",
    "\n",
    "![](https://i.imgur.com/51zNH2v.png)\n",
    "\n",
    "(source: https://demos.explosion.ai/displacy-ent/)\n",
    "\n",
    "## SPaCy NER\n",
    "\n",
    "\n"
   ]
  },
  {
   "cell_type": "code",
   "execution_count": 25,
   "metadata": {},
   "outputs": [
    {
     "name": "stdout",
     "output_type": "stream",
     "text": [
      "Solving environment: done\n",
      "\n",
      "## Package Plan ##\n",
      "\n",
      "  environment location: /home/frank/miniconda3/envs/datacamp\n",
      "\n",
      "  added / updated specs: \n",
      "    - spacy\n",
      "\n",
      "\n",
      "The following packages will be downloaded:\n",
      "\n",
      "    package                    |            build\n",
      "    ---------------------------|-----------------\n",
      "    preshed-1.0.0              |   py36hf484d3e_0          83 KB\n",
      "    murmurhash-0.28.0          |   py36hf484d3e_0          16 KB\n",
      "    pathlib-1.0.1              |           py36_0          26 KB\n",
      "    thinc-6.10.1               |   py36hd61447b_0         1.5 MB\n",
      "    spacy-2.0.11               |   py36h04863e7_2        34.5 MB\n",
      "    cymem-1.31.2               |   py36h6bb024c_0          26 KB\n",
      "    dill-0.2.8.2               |           py36_0         112 KB\n",
      "    msgpack-numpy-0.4.3        |           py36_0          14 KB\n",
      "    msgpack-python-0.5.6       |   py36h6bb024c_0          96 KB\n",
      "    ujson-1.35                 |   py36h14c3975_0          26 KB\n",
      "    plac-0.9.6                 |           py36_0          36 KB\n",
      "    toolz-0.9.0                |           py36_0          91 KB\n",
      "    regex-2018.06.21           |   py36h14c3975_0         344 KB\n",
      "    termcolor-1.1.0            |           py36_1           7 KB\n",
      "    tqdm-4.24.0                |           py36_0          58 KB\n",
      "    cytoolz-0.8.2              |   py36h708bfd4_0         364 KB\n",
      "    wrapt-1.10.11              |   py36h14c3975_2          45 KB\n",
      "    ------------------------------------------------------------\n",
      "                                           Total:        37.3 MB\n",
      "\n",
      "The following NEW packages will be INSTALLED:\n",
      "\n",
      "    cymem:          1.31.2-py36h6bb024c_0    \n",
      "    cytoolz:        0.8.2-py36h708bfd4_0     \n",
      "    dill:           0.2.8.2-py36_0           \n",
      "    msgpack-numpy:  0.4.3-py36_0             \n",
      "    msgpack-python: 0.5.6-py36h6bb024c_0     \n",
      "    murmurhash:     0.28.0-py36hf484d3e_0    \n",
      "    pathlib:        1.0.1-py36_0             \n",
      "    plac:           0.9.6-py36_0             \n",
      "    preshed:        1.0.0-py36hf484d3e_0     \n",
      "    regex:          2018.06.21-py36h14c3975_0\n",
      "    spacy:          2.0.11-py36h04863e7_2    \n",
      "    termcolor:      1.1.0-py36_1             \n",
      "    thinc:          6.10.1-py36hd61447b_0    \n",
      "    toolz:          0.9.0-py36_0             \n",
      "    tqdm:           4.24.0-py36_0            \n",
      "    ujson:          1.35-py36h14c3975_0      \n",
      "    wrapt:          1.10.11-py36h14c3975_2   \n",
      "\n",
      "\n",
      "Downloading and Extracting Packages\n",
      "preshed-1.0.0        |   83 KB | ####################################### | 100% \n",
      "murmurhash-0.28.0    |   16 KB | ####################################### | 100% \n",
      "pathlib-1.0.1        |   26 KB | ####################################### | 100% \n",
      "thinc-6.10.1         |  1.5 MB | ####################################### | 100% \n",
      "spacy-2.0.11         | 34.5 MB | ####################################### | 100% \n",
      "cymem-1.31.2         |   26 KB | ####################################### | 100% \n",
      "dill-0.2.8.2         |  112 KB | ####################################### | 100% \n",
      "msgpack-numpy-0.4.3  |   14 KB | ####################################### | 100% \n",
      "msgpack-python-0.5.6 |   96 KB | ####################################### | 100% \n",
      "ujson-1.35           |   26 KB | ####################################### | 100% \n",
      "plac-0.9.6           |   36 KB | ####################################### | 100% \n",
      "toolz-0.9.0          |   91 KB | ####################################### | 100% \n",
      "regex-2018.06.21     |  344 KB | ####################################### | 100% \n",
      "termcolor-1.1.0      |    7 KB | ####################################### | 100% \n",
      "tqdm-4.24.0          |   58 KB | ####################################### | 100% \n",
      "cytoolz-0.8.2        |  364 KB | ####################################### | 100% \n",
      "wrapt-1.10.11        |   45 KB | ####################################### | 100% \n",
      "Preparing transaction: done\n",
      "Verifying transaction: done\n",
      "Executing transaction: done\n"
     ]
    }
   ],
   "source": [
    "! conda install spacy -y"
   ]
  },
  {
   "cell_type": "code",
   "execution_count": 27,
   "metadata": {},
   "outputs": [
    {
     "data": {
      "text/plain": [
       "<spacy.pipeline.EntityRecognizer at 0x7f08a1115200>"
      ]
     },
     "execution_count": 27,
     "metadata": {},
     "output_type": "execute_result"
    }
   ],
   "source": [
    "'''\n",
    "download\n",
    "python -m spacy download en\n",
    "'''\n",
    "\n",
    "import spacy\n",
    "\n",
    "\n",
    "nlp = spacy.load('en')\n",
    "\n",
    "# entity recognizer object\n",
    "nlp.entity"
   ]
  },
  {
   "cell_type": "code",
   "execution_count": 28,
   "metadata": {},
   "outputs": [
    {
     "data": {
      "text/plain": [
       "(Berlin, Germany, Angela Merkel)"
      ]
     },
     "execution_count": 28,
     "metadata": {},
     "output_type": "execute_result"
    }
   ],
   "source": [
    "#lod document by passing a sring to the nlp variable\n",
    "doc = nlp(\"\"\"Berlin is the capital of Germany; \n",
    "                  and the residence of Chancellor Angela Merkel.\"\"\")\n",
    "\n",
    "\n",
    "# name entities are stored as document atributes called \"ents\"\n",
    "\n",
    "# spacy has properly taged and itedifies the 3 main entities in this sentense\n",
    "doc.ents"
   ]
  },
  {
   "cell_type": "code",
   "execution_count": 29,
   "metadata": {},
   "outputs": [
    {
     "name": "stdout",
     "output_type": "stream",
     "text": [
      "Berlin GPE\n"
     ]
    }
   ],
   "source": [
    "# invesitage labesl for each entity\n",
    "# index first entity and label (GPE, Geo policical entiy)\n",
    "print(doc.ents[0], doc.ents[0].label_)"
   ]
  },
  {
   "cell_type": "markdown",
   "metadata": {},
   "source": [
    "## Why use SpaCy for NER?\n",
    "- Easy pipeline creation\n",
    "- Different entity types compared to nltk\n",
    "- Informal language corpora\n",
    "    - Easily find entities in Tweets and chat messages\n",
    "- Quickly growing!"
   ]
  },
  {
   "cell_type": "markdown",
   "metadata": {},
   "source": [
    "## let's practice"
   ]
  },
  {
   "cell_type": "markdown",
   "metadata": {},
   "source": [
    "## Comparing NLTK with spaCy NER\n",
    "Using the same text you used in the first exercise of this chapter, you'll now see the results using spaCy's NER annotator. How will they compare?\n",
    "\n",
    "The article has been pre-loaded as article. To minimize execution times, you'll be asked to specify the keyword arguments tagger=False, parser=False, matcher=False when loading the spaCy model, because you only care about the entity in this exercise."
   ]
  },
  {
   "cell_type": "code",
   "execution_count": 30,
   "metadata": {},
   "outputs": [
    {
     "name": "stdout",
     "output_type": "stream",
     "text": [
      "ORG Uber\n",
      "ORG Uber\n",
      "ORG Apple\n",
      "ORG Uber\n",
      "ORG Uber\n",
      "PERSON Travis Kalanick\n",
      "ORG Uber\n",
      "PERSON Tim Cook\n",
      "ORG Apple\n",
      "CARDINAL Millions\n",
      "ORG Uber\n",
      "GPE drivers’\n",
      "LOC Silicon Valley’s\n",
      "ORG Yahoo\n",
      "PERSON Marissa Mayer\n",
      "MONEY $186m\n"
     ]
    }
   ],
   "source": [
    "# Import spacy\n",
    "import spacy\n",
    "\n",
    "# Instantiate the English model: nlp\n",
    "nlp = spacy.load('en',tagger=False,parser=False,matcher=False)\n",
    "\n",
    "# Create a new document: doc\n",
    "doc = nlp(article)\n",
    "\n",
    "# Print all of the found entities and their labels\n",
    "for ent in doc.ents:\n",
    "    print(ent.label_, ent.text)"
   ]
  },
  {
   "cell_type": "markdown",
   "metadata": {},
   "source": [
    "# Multilingual NER with polyglot\n",
    "\n",
    "## What is polyglot?\n",
    "- NLP library which uses word vectors\n",
    "- Why polyglot?\n",
    "    - Vectors for many different languages\n",
    "    - More than 130!\n",
    "![](https://i.imgur.com/ytoaWhZ.png)\n"
   ]
  },
  {
   "cell_type": "code",
   "execution_count": 43,
   "metadata": {},
   "outputs": [
    {
     "data": {
      "text/plain": [
       "'\\npip install morfessor\\npip install pyicu\\npip install pycld2\\n\\n# spanish\\npolyglot download embeddings2.es\\n\\n'"
      ]
     },
     "execution_count": 43,
     "metadata": {},
     "output_type": "execute_result"
    }
   ],
   "source": [
    "'''\n",
    "pip install morfessor\n",
    "pip install pyicu\n",
    "pip install pycld2\n",
    "\n",
    "# download spanish lang\n",
    "polyglot download embeddings2.es\n",
    "polyglot download ner2.es\n",
    "\n",
    "'''"
   ]
  },
  {
   "cell_type": "code",
   "execution_count": 39,
   "metadata": {},
   "outputs": [],
   "source": [
    "from polyglot.text import Text"
   ]
  },
  {
   "cell_type": "code",
   "execution_count": 44,
   "metadata": {},
   "outputs": [],
   "source": [
    "text = \"\"\"El presidente de la Generalitat de Cataluña,\n",
    "                  Carles Puigdemont, ha afirmado hoy a la alcaldesa \n",
    "                  de Madrid, Manuela Carmena, que en su etapa de \n",
    "                  alcalde de Girona (de julio de 2011 a enero de 2016) \n",
    "                  hizo una gran promoción de Madrid.\"\"\"\n",
    "\n",
    "ptext = Text(text)"
   ]
  },
  {
   "cell_type": "code",
   "execution_count": 46,
   "metadata": {},
   "outputs": [
    {
     "data": {
      "text/plain": [
       "[I-ORG(['Generalitat', 'de']),\n",
       " I-LOC(['Generalitat', 'de', 'Cataluña']),\n",
       " I-PER(['Carles', 'Puigdemont']),\n",
       " I-LOC(['Madrid']),\n",
       " I-PER(['Manuela', 'Carmena']),\n",
       " I-LOC(['Girona']),\n",
       " I-LOC(['Madrid'])]"
      ]
     },
     "execution_count": 46,
     "metadata": {},
     "output_type": "execute_result"
    }
   ],
   "source": [
    "ptext.entities"
   ]
  },
  {
   "cell_type": "markdown",
   "metadata": {},
   "source": [
    "\n",
    "- list of entities chunks found while parsing the text\n",
    "- each chunk has a label represented by the symbol starting with an I\n",
    "    - `I-ORG`: represents an organization\n",
    "    - `I-LOC`: represents a location\n",
    "    - `I-PER`: represents a person\n",
    "    \n",
    "- some duplicates in the beguining b/c it  represents both location and an oranization"
   ]
  },
  {
   "cell_type": "markdown",
   "metadata": {},
   "source": [
    "## let's practice"
   ]
  },
  {
   "cell_type": "markdown",
   "metadata": {},
   "source": [
    "## French NER with polyglot I\n",
    "In this exercise and the next, you'll use the polyglot library to identify French entities. The library functions slightly differently than spacy, so you'll use a few of the new things you learned in the last video to display the named entity text and category.\n",
    "\n",
    "You have access to the full article string in article. Additionally, the Text class of polyglot has been imported from polyglot.text."
   ]
  },
  {
   "cell_type": "markdown",
   "metadata": {},
   "source": [
    "install french lang\n",
    "\n",
    "```python\n",
    "\n",
    "polyglot download embeddings2.fr\n",
    "polyglot download ner2.fr\n",
    "```"
   ]
  },
  {
   "cell_type": "code",
   "execution_count": 47,
   "metadata": {},
   "outputs": [],
   "source": [
    "article = '''\n",
    "\\ufeffédition abonné\\r\\n\\r\\n\\r\\nDans une tribune au « Monde », l’universitaire Charles Cuvelliez estime que le fantasme d’un remplacement de l’homme par l’algorithme et le robot repose sur un malentendu.\\r\\n\\r\\n\\r\\nLe Monde | 10.05.2017 à 06h44 • Mis à jour le 10.05.2017 à 09h47 | Par Charles Cuvelliez (Professeur à l’Ecole polytechnique de l'université libre de Bruxelles)\\r\\n\\r\\n\\r\\nTRIBUNE. L’usage morbide, par certains, de Facebook Live a amené son fondateur à annoncer précipitamment le recrutement de 3 000 modérateurs supplémentaires. Il est vrai que l’intelligence artificielle (IA) est bien en peine de reconnaître des contenus violents, surtout diffusés en direct.\\r\\n\\r\\n\\r\\nLe quotidien affreux de ces modérateurs, contraints de visionner des horreurs à longueur de journée, mériterait pourtant qu’on les remplace vite par des machines !\\r\\n\\r\\n\\r\\nL’IA ne peut pas tout, mais là où elle peut beaucoup, on la maudit, accusée de détruire nos emplois, de remplacer la convivialité humaine. Ce débat repose sur un malentendu.\\r\\n\\r\\n\\r\\nIl vient d’une définition de l’IA qui n’a, dans la réalité, jamais pu être mise en pratique : en 1955, elle était vue comme la création de programmes informatiques qui, quoi qu’on leur confie, le feraient un jour mieux que les humains. On pensait que toute caractéristique de l’intelligence humaine pourrait un jour être si précisément décrite qu’il suffirait d’une machine pour la simuler. Ce n’est pas vrai.\\r\\n\\r\\n\\r\\nAngoisses infondées\\r\\n\\r\\n\\r\\nComme le dit un récent Livre blanc sur la question (Pourquoi il ne faut pas avoir peur de l’Intelligence arti\\xadficielle, Julien Maldonato, Deloitte, mars 2017), rien ne pourra remplacer un humain dans sa globalité.\\r\\n\\r\\n\\r\\nL’IA, c’est de l’apprentissage automatique doté d’un processus d’ajustement de modèles statistiques à des masses de données, explique l’auteur. Il s’agit d’un apprentissage sur des paramètres pour lesquels une vision humaine n’explique pas pourquoi ils marchent si bien dans un contexte donné.\\r\\n\\r\\n\\r\\nC’est aussi ce que dit le rapport de l’Office parlementaire d’évaluation des choix scientifiques et technologiques (« Pour une intelligence artificielle maîtrisée, utile et démystifiée », 29 mars 2017), pour qui ce côté « boîte noire » explique des angoisses infondées. Ethiquement, se fonder sur l’IA pour des tâches critiques sans bien comprendre le comment...\n",
    "'''"
   ]
  },
  {
   "cell_type": "code",
   "execution_count": 51,
   "metadata": {},
   "outputs": [
    {
     "name": "stdout",
     "output_type": "stream",
     "text": [
      "['Charles', 'Cuvelliez']\n",
      "['Charles', 'Cuvelliez']\n",
      "['Bruxelles']\n",
      "['l’IA']\n",
      "['Julien', 'Maldonato']\n",
      "['Deloitte']\n",
      "['Ethiquement']\n",
      "['l’IA']\n",
      "['.']\n",
      "<class 'polyglot.text.Chunk'>\n"
     ]
    }
   ],
   "source": [
    "# Create a new text object using Polyglot's Text class: txt\n",
    "txt = Text(article)\n",
    "\n",
    "# Print each of the entities found\n",
    "for ent in txt.entities:\n",
    "    print(ent)\n",
    "    \n",
    "# Print the type of ent\n",
    "print(type(ent))"
   ]
  },
  {
   "cell_type": "markdown",
   "metadata": {},
   "source": [
    "## French NER with polyglot II\n",
    "Here, you'll complete the work you began in the previous exercise. Your code from there has already been executed, as you can see from the output in the IPython Shell.\n",
    "\n",
    "Your task is to use a list comprehension to create a list of tuples, in which the first element is the entity tag, and the second element is the full string of the entity text."
   ]
  },
  {
   "cell_type": "code",
   "execution_count": 53,
   "metadata": {},
   "outputs": [
    {
     "name": "stdout",
     "output_type": "stream",
     "text": [
      "[('I-PER', 'Charles Cuvelliez'), ('I-PER', 'Charles Cuvelliez'), ('I-ORG', 'Bruxelles'), ('I-PER', 'l’IA'), ('I-PER', 'Julien Maldonato'), ('I-ORG', 'Deloitte'), ('I-PER', 'Ethiquement'), ('I-LOC', 'l’IA'), ('I-PER', '.')]\n"
     ]
    }
   ],
   "source": [
    "# Create the list of tuples: entities\n",
    "entities = [(ent.tag,' '.join(ent)) for ent  in txt.entities]\n",
    "# Print entities\n",
    "print(entities)"
   ]
  },
  {
   "cell_type": "markdown",
   "metadata": {},
   "source": [
    "## Spanish NER with polyglot\n",
    "You'll continue your exploration of polyglot now with some Spanish annotation. This article is not written by a newspaper, so it is your first example of a more blog-like text. How do you think that might compare when finding entities?\n",
    "\n",
    "The Text object has been created as txt, and each entity has been printed, as you can see in the IPython Shell.\n",
    "\n",
    "Your specific task is to determine how many of the entities contain the words \"Márquez\" or \"Gabo\" - these refer to the same person in different ways!"
   ]
  },
  {
   "cell_type": "code",
   "execution_count": 55,
   "metadata": {},
   "outputs": [],
   "source": [
    "t = '''Lina del Castillo es profesora en el Instituto de Estudios Latinoamericanos Teresa Lozano Long (LLILAS) y el Departamento de Historia de la Universidad de Texas en Austin. Ella será la moderadora del panel “Los Mundos Políticos de Gabriel García Márquez” este viernes, Oct. 30, en el simposio Gabriel García Márquez: Vida y Legado.\n",
    "\n",
    "\n",
    "LIna del Castillo\n",
    "\n",
    "\n",
    "Actualmente, sus investigaciones abarcan la intersección de cartografía, disputas a las demandas de tierra y recursos, y la formación del n...el tren de medianoche que lleva a miles y miles de cadáveres uno encima del otro como tantos racimos del banano que acabarán tirados al mar. Ningún recuento periodístico podría provocar nuestra imaginación y nuestra memoria como este relato de García Márquez.\n",
    "\n",
    "\n",
    "Contenido Relacionado\n",
    "\n",
    "\n",
    "Lea más artículos sobre el archivo de Gabriel García Márquez\n",
    "\n",
    "\n",
    "Reciba mensualmente las últimas noticias e información del Harry Ransom Center con eNews, nuestro correo electrónico mensual. ¡Suscríbase hoy!\n",
    "'''"
   ]
  },
  {
   "cell_type": "code",
   "execution_count": 57,
   "metadata": {},
   "outputs": [],
   "source": [
    "txt = Text(t)"
   ]
  },
  {
   "cell_type": "code",
   "execution_count": null,
   "metadata": {},
   "outputs": [],
   "source": []
  },
  {
   "cell_type": "code",
   "execution_count": 70,
   "metadata": {},
   "outputs": [
    {
     "name": "stdout",
     "output_type": "stream",
     "text": [
      "4\n",
      "0.26666666666666666\n"
     ]
    }
   ],
   "source": [
    "# Initialize the count variable: count\n",
    "count = 0\n",
    "\n",
    "# Iterate over all the entities\n",
    "for ent in txt.entities:\n",
    "    # Check whether the entity contains 'Márquez' or 'Gabo'\n",
    "    if \"Márquez\" in ent or \"Gabo\" in ent:\n",
    "        # Increment count\n",
    "        count+=1\n",
    "\n",
    "# Print count\n",
    "print(count)\n",
    "\n",
    "# Calculate the percentage of entities that refer to \"Gabo\": percentage\n",
    "percentage = count / len(txt.entities)\n",
    "print(percentage)"
   ]
  },
  {
   "cell_type": "code",
   "execution_count": null,
   "metadata": {},
   "outputs": [],
   "source": []
  }
 ],
 "metadata": {
  "kernelspec": {
   "display_name": "Python [conda env:datacamp]",
   "language": "python",
   "name": "conda-env-datacamp-py"
  },
  "language_info": {
   "codemirror_mode": {
    "name": "ipython",
    "version": 3
   },
   "file_extension": ".py",
   "mimetype": "text/x-python",
   "name": "python",
   "nbconvert_exporter": "python",
   "pygments_lexer": "ipython3",
   "version": "3.6.4"
  }
 },
 "nbformat": 4,
 "nbformat_minor": 2
}
