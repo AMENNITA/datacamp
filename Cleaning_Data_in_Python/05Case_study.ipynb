{
 "cells": [
  {
   "cell_type": "markdown",
   "metadata": {},
   "source": [
    "# Pu!ing it all together"
   ]
  },
  {
   "cell_type": "markdown",
   "metadata": {},
   "source": [
    "### Puting it all together\n",
    "- Use the techniques you’ve learned on Gapminder data\n",
    "- Clean and tidy data saved to a file\n",
    "    - Ready to be loaded for analysis!\n",
    "- Dataset consists of life expectancy by country and year\n",
    "- Data will come in multiple parts\n",
    "    - Load\n",
    "    - Preliminary quality diagnosis\n",
    "    - Combine into single dataset"
   ]
  },
  {
   "cell_type": "markdown",
   "metadata": {},
   "source": [
    "### Useful methods\n",
    "```python\n",
    "In [1]: import pandas as pd\n",
    "In [2]: df = pd.read_csv('my_data.csv')\n",
    "In [3]: df.head()\n",
    "In [4]: df.info()\n",
    "In [5]: df.columns\n",
    "In [6]: df.describe()\n",
    "In [7]: df.column.value_counts()\n",
    "In [8]: df.column.plot('hist')\n",
    "    \n",
    "```"
   ]
  },
  {
   "cell_type": "markdown",
   "metadata": {},
   "source": [
    "### Data quality\n",
    "```python\n",
    "In [9]: def cleaning_function(row_data):\n",
    "...: # data cleaning steps\n",
    "...: return ...\n",
    "In [10]: df.apply(cleaning_function, axis=1)\n",
    "In [11]: assert (df.column_data > 0).all()\n",
    "    \n",
    "```"
   ]
  },
  {
   "cell_type": "markdown",
   "metadata": {},
   "source": [
    "### Combining data\n",
    "\n",
    "- pd.merge(df1, df2, …)\n",
    "- pd.concat([df1, df2, df3, …])"
   ]
  },
  {
   "cell_type": "markdown",
   "metadata": {},
   "source": [
    "---\n",
    "# Let’s practice!"
   ]
  },
  {
   "cell_type": "code",
   "execution_count": null,
   "metadata": {},
   "outputs": [],
   "source": []
  },
  {
   "cell_type": "code",
   "execution_count": null,
   "metadata": {},
   "outputs": [],
   "source": []
  },
  {
   "cell_type": "code",
   "execution_count": null,
   "metadata": {},
   "outputs": [],
   "source": []
  },
  {
   "cell_type": "code",
   "execution_count": null,
   "metadata": {},
   "outputs": [],
   "source": []
  },
  {
   "cell_type": "code",
   "execution_count": null,
   "metadata": {},
   "outputs": [],
   "source": []
  },
  {
   "cell_type": "markdown",
   "metadata": {},
   "source": [
    "# Initial impressions of the data\n"
   ]
  },
  {
   "cell_type": "markdown",
   "metadata": {},
   "source": [
    "### Principles of tidy data\n",
    "- Rows form observations\n",
    "- Columns form variables\n",
    "- Tidying data will make data cleaning easier\n",
    "- Melting turns columns into rows\n",
    "- Pivot will take unique values from a column and create new columns"
   ]
  },
  {
   "cell_type": "markdown",
   "metadata": {},
   "source": [
    "### Checking data types\n",
    "\n",
    "```python\n",
    "In [1]: df.dtypes\n",
    "In [2]: df['column'] = df['column'].to_numeric()\n",
    "In [3]: df['column'] = df['column'].astype(str)\n",
    "    \n",
    "    ```"
   ]
  },
  {
   "cell_type": "markdown",
   "metadata": {},
   "source": [
    "### Additional calculations and saving your data\n",
    "```python\n",
    "In [4]: df['new_column'] = df['column_1'] + df['column_2']\n",
    "In [5]: df['new_column'] = df.apply(my_function, axis=1)\n",
    "In [6]: df.to_csv['my_data.csv']\n",
    "    \n",
    "    ```"
   ]
  },
  {
   "cell_type": "code",
   "execution_count": null,
   "metadata": {},
   "outputs": [],
   "source": []
  }
 ],
 "metadata": {
  "kernelspec": {
   "display_name": "Python [conda env:datacamp]",
   "language": "python",
   "name": "conda-env-datacamp-py"
  },
  "language_info": {
   "codemirror_mode": {
    "name": "ipython",
    "version": 3
   },
   "file_extension": ".py",
   "mimetype": "text/x-python",
   "name": "python",
   "nbconvert_exporter": "python",
   "pygments_lexer": "ipython3",
   "version": "3.6.4"
  }
 },
 "nbformat": 4,
 "nbformat_minor": 2
}
