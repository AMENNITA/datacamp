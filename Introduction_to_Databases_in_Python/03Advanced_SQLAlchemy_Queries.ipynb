{
 "cells": [
  {
   "cell_type": "markdown",
   "metadata": {},
   "source": [
    "# Calculating Values in a Query"
   ]
  },
  {
   "cell_type": "markdown",
   "metadata": {},
   "source": [
    "## Math Operators\n",
    "- addition +\n",
    "- subtraction -\n",
    "- multiplication *\n",
    "- division /\n",
    "- modulus %\n",
    "- Work differently on different data types"
   ]
  },
  {
   "cell_type": "markdown",
   "metadata": {},
   "source": [
    "## Calculating Difference"
   ]
  },
  {
   "cell_type": "code",
   "execution_count": 1,
   "metadata": {},
   "outputs": [],
   "source": [
    "from sqlalchemy import create_engine,Table, MetaData, select, desc, func\n",
    "\n",
    "engine = create_engine('sqlite:///census.sqlite')\n",
    "connection = engine.connect()\n",
    "\n",
    "metadata = MetaData()\n",
    "\n",
    "census = Table('census', metadata, autoload=True, autoload_with=engine)"
   ]
  },
  {
   "cell_type": "code",
   "execution_count": 2,
   "metadata": {},
   "outputs": [
    {
     "name": "stdout",
     "output_type": "stream",
     "text": [
      "[(61, 52672), (85, 51901), (54, 50808), (58, 45575), (60, 44915)]\n"
     ]
    }
   ],
   "source": [
    "stmt = select([census.columns.age,\n",
    "               (census.columns.pop2008-census.columns.pop2000).label('pop_change')])\n",
    "\n",
    "\n",
    "stmt = stmt.group_by(census.columns.age)  # group by age\n",
    "stmt = stmt.order_by(desc('pop_change'))  # order by  new label\n",
    "stmt = stmt.limit(5)\n",
    "\n",
    "results = connection.execute(stmt).fetchall()\n",
    "\n",
    "print(results)"
   ]
  },
  {
   "cell_type": "markdown",
   "metadata": {},
   "source": [
    "## Case Statement\n",
    "- Used to treat data differently based on a condition\n",
    "- Accepts a list of conditions to match and a column\n",
    "to return if the condition matches\n",
    "- The list of conditions ends with an else clause to\n",
    "determine what to do when a record doesn’t match\n",
    "any prior conditions"
   ]
  },
  {
   "cell_type": "markdown",
   "metadata": {},
   "source": [
    "## Case Example"
   ]
  },
  {
   "cell_type": "code",
   "execution_count": 3,
   "metadata": {},
   "outputs": [
    {
     "name": "stdout",
     "output_type": "stream",
     "text": [
      "[(19465159,)]\n"
     ]
    }
   ],
   "source": [
    "from sqlalchemy import case\n",
    "\n",
    "stmt = select([\n",
    "    func.sum(\n",
    "        case([\n",
    "            (census.columns.state == 'New York', # check the col name is NewYork\n",
    "             census.columns.pop2008)  # if that is the case, return the value of the pop2008 column\n",
    "        ], else_=0))])   # return 0 where the state is not NewYork\n",
    "\n",
    "results = connection.execute(stmt).fetchall()\n",
    "\n",
    "print(results)"
   ]
  },
  {
   "cell_type": "markdown",
   "metadata": {},
   "source": [
    "## Cast Statement\n",
    "- Converts data to another type\n",
    "- Useful for converting\n",
    "- integers to floats for division\n",
    "- strings to dates and times\n",
    "- Accepts a column or expression and the target Type"
   ]
  },
  {
   "cell_type": "markdown",
   "metadata": {},
   "source": [
    "## Percentage Example\n",
    "\n",
    "- What percentage of the total population lived in New York in 2008"
   ]
  },
  {
   "cell_type": "code",
   "execution_count": 5,
   "metadata": {},
   "outputs": [
    {
     "name": "stdout",
     "output_type": "stream",
     "text": [
      "[(6.426761976501632,)]\n"
     ]
    }
   ],
   "source": [
    "\n",
    "from sqlalchemy import case, cast, Float\n",
    "\n",
    "# sum all the rows of pop2008 where the state is New York, then divide it by the total 2008 population\n",
    "\n",
    "stmt = select([\n",
    "    (func.sum(\n",
    "        case([\n",
    "            (census.columns.state == 'New York', # s\n",
    "             census.columns.pop2008)\n",
    "        ], else_=0)) /  # divide\n",
    "     cast(func.sum(census.columns.pop2008),  # total p0p2008, cast as a float\n",
    "          Float) * 100).label('ny_percent')])  # multiply by 100 & create a new label called ny_percent\n",
    "\n",
    "results = connection.execute(stmt).fetchall()\n",
    "\n",
    "print(results)"
   ]
  },
  {
   "cell_type": "markdown",
   "metadata": {},
   "source": [
    "---\n",
    "# Let’s practice!"
   ]
  },
  {
   "cell_type": "markdown",
   "metadata": {},
   "source": [
    "```python\n",
    "# Import create_engine function\n",
    "from sqlalchemy import create_engine\n",
    "\n",
    "# Create an engine to the census database\n",
    "engine = create_engine('mysql+pymysql://'+\n",
    "                        'student:datacamp'+\n",
    "                        '@courses.csrrinzqubik.us-east-1.rds.amazonaws.com:3306/' \n",
    "                        + 'census'  )\n",
    "\n",
    "# Print the table names\n",
    "print(engine.table_names())\n",
    "```"
   ]
  },
  {
   "cell_type": "code",
   "execution_count": 9,
   "metadata": {},
   "outputs": [
    {
     "name": "stdout",
     "output_type": "stream",
     "text": [
      "California:105705\n",
      "Florida:100984\n",
      "Texas:51901\n",
      "New York:47098\n",
      "Pennsylvania:42387\n"
     ]
    }
   ],
   "source": [
    "# Build query to return state names by population difference from 2008 to 2000: stmt\n",
    "stmt = select([census.columns.state, (census.columns.pop2008-census.columns.pop2000).label('pop_change')])\n",
    "\n",
    "# Append group by for the state: stmt\n",
    "stmt = stmt.group_by(census.columns.state)\n",
    "\n",
    "# Append order by for pop_change descendingly: stmt\n",
    "stmt = stmt.order_by(desc('pop_change'))\n",
    "\n",
    "# Return only 5 results: stmt\n",
    "stmt = stmt.limit(5)\n",
    "\n",
    "# Use connection to execute the statement and fetch all results\n",
    "results = connection.execute(stmt).fetchall()\n",
    "\n",
    "# Print the state and population change for each record\n",
    "for result in results:\n",
    "    print('{}:{}'.format(result.state, result.pop_change))"
   ]
  },
  {
   "cell_type": "code",
   "execution_count": 10,
   "metadata": {},
   "outputs": [
    {
     "name": "stdout",
     "output_type": "stream",
     "text": [
      "51.09467432293413\n"
     ]
    }
   ],
   "source": [
    "# import case, cast and Float from sqlalchemy\n",
    "from sqlalchemy import case, cast, Float\n",
    "\n",
    "# Build an expression to calculate female population in 2000\n",
    "female_pop2000 = func.sum(\n",
    "    case([\n",
    "        (census.columns.sex == 'F', census.columns.pop2000)\n",
    "    ], else_=0))\n",
    "\n",
    "# Cast an expression to calculate total population in 2000 to Float\n",
    "total_pop2000 = cast(func.sum(census.columns.pop2000), Float)\n",
    "\n",
    "# Build a query to calculate the percentage of females in 2000: stmt\n",
    "stmt = select([female_pop2000 / total_pop2000* 100])\n",
    "\n",
    "# Execute the query and store the scalar result: percent_female\n",
    "percent_female = connection.execute(stmt).scalar()\n",
    "\n",
    "# Print the percentage\n",
    "print(percent_female)"
   ]
  },
  {
   "cell_type": "markdown",
   "metadata": {},
   "source": [
    "# SQL Relationships"
   ]
  },
  {
   "cell_type": "markdown",
   "metadata": {},
   "source": [
    "## Relationships\n",
    "- Allow us to avoid duplicate data\n",
    "- Make it easy to change things in one place\n",
    "- Useful to break out information from a table we\n",
    "don’t need very often"
   ]
  },
  {
   "cell_type": "markdown",
   "metadata": {},
   "source": [
    "## Automatic Joins\n",
    "\n",
    "- build statement with the columns that we desire\n",
    "- execute the query , print results.\n",
    "\n",
    "- sqlalchemy correctly adds the right JOIN clause bc its predefined in the database\n",
    "\n",
    "```python\n",
    "In [1]: stmt = select([census.columns.pop2008,\n",
    "...: state_fact.columns.abbreviation])\n",
    "In [2]: results = connection.execute(stmt).fetchall()\n",
    "In [3]: print(results)\n",
    "Out[3]: [(95012, u'IL'),\n",
    "(95012, u'NJ'),\n",
    "(95012, u'ND'),\n",
    "(95012, u'OR'),\n",
    "(95012, u'DC'),\n",
    "(95012, u’WI'),\n",
    " ```"
   ]
  },
  {
   "cell_type": "markdown",
   "metadata": {},
   "source": [
    "## Join\n",
    "- Accepts a Table and an optional expression that explains\n",
    "how the two tables are related\n",
    "- The expression is not needed if the relationship is\n",
    "predefined and available via reflection\n",
    "- Comes immediately a\"er the select() clause and prior\n",
    "to any where(), order_by or group_by() clauses"
   ]
  },
  {
   "cell_type": "markdown",
   "metadata": {},
   "source": [
    "## Select_from\n",
    "- Used to replace the default, derived FROM clause with a join\n",
    "- Wraps the join() clause"
   ]
  },
  {
   "cell_type": "markdown",
   "metadata": {},
   "source": [
    "## Select_from Example\n",
    "\n",
    "- total population in 2000 that was withing the state circuit courtn  restriction\n",
    "\n",
    "```python\n",
    "In [1]: stmt = select([func.sum(census.columns.pop2000)])  # get column from pop200 talbe \n",
    "In [2]: stmt = stmt.select_from(census.join(state_fact))  # append the select_from to include the census table, join with the state_fact table\n",
    "In [3]: stmt = stmt.where(state_fact.columns.circuit_court == '10')  # use where clause to only show whre value of columns.circuit_court is 10\n",
    "In [4]: result = connection.execute(stmt).scalar()\n",
    "In [5]: print(result)\n",
    "Out[5]: 14945252\n",
    "              ```"
   ]
  },
  {
   "cell_type": "markdown",
   "metadata": {},
   "source": [
    "## Joining Tables without Predefined Relationship\n",
    "- Join accepts a Table and an optional expression that explains\n",
    "how the two tables are related\n",
    "- Will only join on data that match between the two columns\n",
    "- Avoid joining on columns of different types"
   ]
  },
  {
   "cell_type": "markdown",
   "metadata": {},
   "source": [
    "## Select_from Example\n",
    "\n",
    "- total population in 2008 that belongs to the 'East South Central' division of the census\n",
    "\n",
    "- population and division live in diffrent tables\n",
    "\n",
    "```python\n",
    " # select the sum of the pop200\n",
    "In [1]: stmt = select([func.sum(census.columns.pop2000)])  # select\n",
    "In [2]: stmt = stmt.select_from(\n",
    "...: census.join(state_fact, census.columns.state\n",
    "...: == state_fact.columns.name))\n",
    "In [3]: stmt = stmt.where(\n",
    "...: state_fact.columns.census_division_name ==\n",
    "...: 'East South Central')\n",
    "    \n",
    "    \n",
    "    \n",
    "In [4]: result = connection.execute(stmt).scalar()\n",
    "In [5]: print(result)\n",
    "Out[5]: 16982311\n",
    "    ```"
   ]
  },
  {
   "cell_type": "markdown",
   "metadata": {},
   "source": [
    "---\n",
    "# Let’s practice!"
   ]
  },
  {
   "cell_type": "markdown",
   "metadata": {},
   "source": [
    "\n",
    "## Automatic Joins with an Established Relationship\n",
    "\n",
    "```python\n",
    "# Build a statement to join census and state_fact tables: stmt\n",
    "stmt = select([census.columns.pop2000, state_fact.columns.abbreviation])\n",
    "\n",
    "# Execute the statement and get the first result: result\n",
    "result = connection.execute(stmt).first()\n",
    "\n",
    "# Loop over the keys in the result object and print the key and value\n",
    "for key in result.keys():\n",
    "    print(key, getattr(result, key))\n",
    "    ```"
   ]
  },
  {
   "cell_type": "markdown",
   "metadata": {},
   "source": [
    "\n",
    "### Joins\n",
    "```python\n",
    "# Build a statement to select the census and state_fact tables: stmt\n",
    "stmt = select([census, state_fact])\n",
    "\n",
    "# Add a select_from clause that wraps a join for the census and state_fact\n",
    "# tables where the census state column and state_fact name column match\n",
    "stmt = stmt.select_from(\n",
    "    census.join(state_fact, census.columns.state == state_fact.columns.name))\n",
    "\n",
    "# Execute the statement and get the first result: result\n",
    "result = connection.execute(stmt).first()\n",
    "\n",
    "# Loop over the keys in the result object and print the key and value\n",
    "for key in result.keys():\n",
    "    print(key, getattr(result, key))\n",
    "    ```"
   ]
  },
  {
   "cell_type": "markdown",
   "metadata": {},
   "source": [
    "\n",
    "More Practice with Joins\n",
    "\n",
    "```python\n",
    "# Build a statement to select the state, sum of 2008 population and census\n",
    "# division name: stmt\n",
    "stmt = select([\n",
    "    census.columns.state,\n",
    "    func.sum(census.columns.pop2008),\n",
    "    state_fact.columns.census_division_name\n",
    "])\n",
    "\n",
    "# Append select_from to join the census and state_fact tables by the census state and state_fact name columns\n",
    "stmt = stmt.select_from(\n",
    "    census.join(state_fact, census.columns.state == state_fact.columns.name)\n",
    ")\n",
    "\n",
    "# Append a group by for the state_fact name column\n",
    "stmt = stmt.group_by(state_fact.columns.name)\n",
    "\n",
    "# Execute the statement and get the results: results\n",
    "results = connection.execute(stmt).fetchall()\n",
    "\n",
    "# Loop over the the results object and print each record.\n",
    "for record in results:\n",
    "    print(record)\n",
    "\n",
    "    ```"
   ]
  },
  {
   "cell_type": "markdown",
   "metadata": {},
   "source": [
    "# Working with Hierarchical Tables"
   ]
  },
  {
   "cell_type": "markdown",
   "metadata": {},
   "source": [
    "## Hierarchical Tables\n",
    "- Contain a relationship with themselves\n",
    "- Commonly found in:\n",
    "    - Organizational\n",
    "    - Geographic\n",
    "    - Network\n",
    "    - Graph"
   ]
  },
  {
   "cell_type": "markdown",
   "metadata": {},
   "source": [
    "## Hierarchical Tables - alias()\n",
    "- Requires a way to view the table via multiple names\n",
    "- Creates a unique reference that we can use"
   ]
  },
  {
   "cell_type": "markdown",
   "metadata": {},
   "source": [
    "## Querying Hierarchical Data\n",
    "\n",
    "- get a list of managers amd the employees they report to them\n",
    "\n",
    "```python\n",
    "In [1]: managers = employees.alias()\n",
    "    \n",
    "In [2]: stmt = select(\n",
    "...: [managers.columns.name.label('manager'),\n",
    "...: employees.columns.name.label('employee')])\n",
    "    \n",
    "    \n",
    "In [3]: stmt = stmt.select_from(employees.join(\n",
    "...: managers, managers.columns.id ==\n",
    "...: employees.columns.manager)\n",
    "                                \n",
    "In [4]: stmt = stmt.order_by(managers.columns.name)\n",
    "                                 \n",
    "In [5]: print(connection.execute(stmt).fetchall())\n",
    "Out[5]: [(u'FILLMORE', u'GRANT'),\n",
    "(u'FILLMORE', u'ADAMS'),\n",
    "(u'HARDING', u'TAFT'), ...\n",
    "         ```"
   ]
  },
  {
   "cell_type": "markdown",
   "metadata": {},
   "source": [
    "## Group_by and Func\n",
    "- It’s important to target group_by() at the right alias\n",
    "- Be careful with what you perform functions on\n",
    "- If you don’t find yourself using both the alias and the table\n",
    "name for a query, don’t create the alias at all"
   ]
  },
  {
   "cell_type": "markdown",
   "metadata": {},
   "source": [
    "## Querying Hierarchical Data\n",
    "\n",
    "```python\n",
    "In [1]: managers = employees.alias()\n",
    "In [2]: stmt = select([managers.columns.name,\n",
    "...: func.sum(employees.columns.sal)])\n",
    "In [3]: stmt = stmt.select_from(employees.join(\n",
    "...: managers, managers.columns.id ==\n",
    "...: employees.columns.manager)\n",
    "In [4]: stmt = stmt.group_by(managers.columns.name)\n",
    "In [5]: print(connection.execute(stmt).fetchall())\n",
    "Out[5]: [(u'FILLMORE', Decimal('96000.00')),\n",
    "(u'GARFIELD', Decimal('83500.00')),\n",
    "(u'HARDING', Decimal('52000.00')),\n",
    "(u'JACKSON', Decimal('197000.00'))]\n",
    "                                ```"
   ]
  },
  {
   "cell_type": "markdown",
   "metadata": {},
   "source": [
    "---\n",
    "# Let’s practice!"
   ]
  },
  {
   "cell_type": "code",
   "execution_count": null,
   "metadata": {},
   "outputs": [],
   "source": []
  },
  {
   "cell_type": "code",
   "execution_count": null,
   "metadata": {},
   "outputs": [],
   "source": []
  },
  {
   "cell_type": "code",
   "execution_count": null,
   "metadata": {},
   "outputs": [],
   "source": []
  },
  {
   "cell_type": "markdown",
   "metadata": {},
   "source": [
    "# Handling Large ResultSets"
   ]
  },
  {
   "cell_type": "markdown",
   "metadata": {},
   "source": [
    "## Dealing with Large ResultSets\n",
    "- fetchmany() lets us specify how many rows we want to\n",
    "act upon\n",
    "- We can loop over fetchmany()\n",
    "- It returns an empty list when there are no more records\n",
    "- We have to close the ResultProxy a\"erwards"
   ]
  },
  {
   "cell_type": "markdown",
   "metadata": {},
   "source": [
    "## Fetching Many Rows\n",
    "\n",
    "```python\n",
    "In [1]: while more_results:\n",
    "...: partial_results = results_proxy.fetchmany(50)\n",
    "...: if partial_results == []:\n",
    "...: more_results = False\n",
    "...: for row in partial_results:\n",
    "...: state_count[row.state] += 1\n",
    "In [2]: results_proxy.close()\n",
    "    ```"
   ]
  },
  {
   "cell_type": "markdown",
   "metadata": {},
   "source": [
    "---\n",
    "# Let’s practice!"
   ]
  },
  {
   "cell_type": "code",
   "execution_count": 2,
   "metadata": {},
   "outputs": [
    {
     "name": "stdout",
     "output_type": "stream",
     "text": [
      "01Basics_of_Relational_Databases.ipynb\r\n",
      "02Applying_Filtering_Ordering_ane_Grouping_to_Queries.ipynb\r\n",
      "03Advanced_SQLAlchemy_Queries.ipynb\r\n",
      "04Creating_and_Manipulating_yourown_Databases.ipynb\r\n",
      "05Putting _it_all_together.ipynb\r\n",
      "census.csv\r\n",
      "census.sqlite\r\n",
      "employees.sqlite\r\n"
     ]
    }
   ],
   "source": [
    "ls"
   ]
  },
  {
   "cell_type": "code",
   "execution_count": 10,
   "metadata": {},
   "outputs": [],
   "source": [
    "from sqlalchemy import create_engine,Table, MetaData, select, func\n",
    "\n",
    "engine = create_engine('sqlite:///employees.sqlite')\n",
    "connection = engine.connect()\n",
    "\n",
    "metadata = MetaData()\n",
    "\n",
    "employees = Table('employees', metadata, autoload=True, autoload_with=engine)"
   ]
  },
  {
   "cell_type": "code",
   "execution_count": 16,
   "metadata": {},
   "outputs": [
    {
     "data": {
      "text/plain": [
       "\"Table('employees', MetaData(bind=None), Column('id', INTEGER(), table=<employees>, primary_key=True, nullable=False), Column('name', VARCHAR(length=20), table=<employees>), Column('job', VARCHAR(length=20), table=<employees>), Column('mgr', INTEGER(), table=<employees>), Column('hiredate', DATETIME(), table=<employees>), Column('sal', NUMERIC(precision=7, scale=2), table=<employees>), Column('comm', NUMERIC(precision=7, scale=2), table=<employees>), Column('dept', INTEGER(), table=<employees>), schema=None)\""
      ]
     },
     "execution_count": 16,
     "metadata": {},
     "output_type": "execute_result"
    }
   ],
   "source": [
    "repr(employees)"
   ]
  },
  {
   "cell_type": "code",
   "execution_count": 20,
   "metadata": {},
   "outputs": [
    {
     "data": {
      "text/plain": [
       "Table('employees', MetaData(bind=None), Column('id', INTEGER(), table=<employees>, primary_key=True, nullable=False), Column('name', VARCHAR(length=20), table=<employees>), Column('job', VARCHAR(length=20), table=<employees>), Column('mgr', INTEGER(), table=<employees>), Column('hiredate', DATETIME(), table=<employees>), Column('sal', NUMERIC(precision=7, scale=2), table=<employees>), Column('comm', NUMERIC(precision=7, scale=2), table=<employees>), Column('dept', INTEGER(), table=<employees>), schema=None)"
      ]
     },
     "execution_count": 20,
     "metadata": {},
     "output_type": "execute_result"
    }
   ],
   "source": [
    "employees"
   ]
  },
  {
   "cell_type": "code",
   "execution_count": 21,
   "metadata": {},
   "outputs": [
    {
     "name": "stdout",
     "output_type": "stream",
     "text": [
      "('FILLMORE', 'GRANT')\n",
      "('FILLMORE', 'ADAMS')\n",
      "('FILLMORE', 'MONROE')\n",
      "('GARFIELD', 'JOHNSON')\n",
      "('GARFIELD', 'LINCOLN')\n",
      "('GARFIELD', 'POLK')\n",
      "('GARFIELD', 'WASHINGTON')\n",
      "('HARDING', 'TAFT')\n",
      "('HARDING', 'HOOVER')\n",
      "('JACKSON', 'HARDING')\n",
      "('JACKSON', 'GARFIELD')\n",
      "('JACKSON', 'FILLMORE')\n",
      "('JACKSON', 'ROOSEVELT')\n"
     ]
    }
   ],
   "source": [
    "# Make an alias of the employees table: managers\n",
    "managers = employees.alias()\n",
    "\n",
    "# Build a query to select manager's and their employees names: stmt\n",
    "stmt = select(\n",
    "    [managers.columns.name.label('manager'),\n",
    "     employees.columns.name.label('employee')]\n",
    ")\n",
    "\n",
    "# Match managers id with employees mgr: stmt\n",
    "stmt = stmt.where(managers.columns.id == employees.columns.mgr)\n",
    "\n",
    "# Order the statement by the managers name: stmt\n",
    "stmt = stmt.order_by(managers.columns.name)\n",
    "\n",
    "# Execute statement: results\n",
    "results = connection.execute(stmt).fetchall()\n",
    "\n",
    "# Print records\n",
    "for record in results:\n",
    "    print(record)"
   ]
  },
  {
   "cell_type": "code",
   "execution_count": 24,
   "metadata": {},
   "outputs": [
    {
     "name": "stdout",
     "output_type": "stream",
     "text": [
      "('FILLMORE', 3)\n",
      "('GARFIELD', 4)\n",
      "('HARDING', 2)\n",
      "('JACKSON', 4)\n"
     ]
    }
   ],
   "source": [
    "# Make an alias of the employees table: managers\n",
    "managers = employees.alias()\n",
    "\n",
    "# Build a query to select managers and counts of their employees: stmt\n",
    "stmt = select([managers.columns.name, func.count(employees.columns.id)])\n",
    "\n",
    "# Append a where clause that ensures the manager id and employee mgr are equal\n",
    "stmt = stmt.where(managers.columns.id == employees.columns.mgr)\n",
    "\n",
    "# Group by Managers Name\n",
    "stmt = stmt.group_by(managers.columns.name)\n",
    "\n",
    "# Execute statement: results\n",
    "results = connection.execute(stmt).fetchall()\n",
    "\n",
    "# print manager\n",
    "for record in results:\n",
    "    print(record)"
   ]
  },
  {
   "cell_type": "markdown",
   "metadata": {},
   "source": [
    "---\n",
    "# Handling Large ResultSets"
   ]
  },
  {
   "cell_type": "markdown",
   "metadata": {},
   "source": [
    "## Dealing with Large ResultSets\n",
    "\n",
    "\n",
    "- fetchmany() lets us specify how many rows we want to act upon\n",
    "- We can loop over fetchmany() \n",
    "- It returns an empty list when there are no more records \n",
    "- We have to close the ResultProxy a\"erwards"
   ]
  },
  {
   "cell_type": "markdown",
   "metadata": {},
   "source": [
    "## Fetching Many Rows\n",
    "\n",
    "```python\n",
    "while more_results:\n",
    "    partial_results = results_proxy.fetchmany(50)\n",
    "    if partial_results == []:\n",
    "        more_results = False\n",
    "    \n",
    "    for row in partial_results:\n",
    "            state_count[row.state] += 1\n",
    "\n",
    "results_proxy.close()\n",
    "    ```"
   ]
  },
  {
   "cell_type": "code",
   "execution_count": null,
   "metadata": {},
   "outputs": [],
   "source": []
  },
  {
   "cell_type": "markdown",
   "metadata": {},
   "source": [
    "---\n",
    "# Let's Practice"
   ]
  },
  {
   "cell_type": "markdown",
   "metadata": {},
   "source": [
    "```python\n",
    "# Start a while loop checking for more results\n",
    "while more_results:\n",
    "    # Fetch the first 50 results from the ResultProxy: partial_results\n",
    "    partial_results = results_proxy.fetchmany(50)\n",
    "\n",
    "    # if empty list, set more_results to False\n",
    "    if partial_results == []:\n",
    "        more_results = False\n",
    "\n",
    "    # Loop over the fetched records and increment the count for the state\n",
    "    for row in partial_results:\n",
    "        if row.state in state_count:\n",
    "            state_count[row.state] += 1\n",
    "        else:\n",
    "            state_count[row.state] = 1\n",
    "\n",
    "# Close the ResultProxy, and thus the connection\n",
    "results_proxy.close()\n",
    "\n",
    "# Print the count by state\n",
    "print(state_count)\n",
    "```"
   ]
  },
  {
   "cell_type": "code",
   "execution_count": null,
   "metadata": {},
   "outputs": [],
   "source": []
  }
 ],
 "metadata": {
  "kernelspec": {
   "display_name": "Python 3",
   "language": "python",
   "name": "python3"
  },
  "language_info": {
   "codemirror_mode": {
    "name": "ipython",
    "version": 3
   },
   "file_extension": ".py",
   "mimetype": "text/x-python",
   "name": "python",
   "nbconvert_exporter": "python",
   "pygments_lexer": "ipython3",
   "version": "3.6.4"
  }
 },
 "nbformat": 4,
 "nbformat_minor": 2
}
