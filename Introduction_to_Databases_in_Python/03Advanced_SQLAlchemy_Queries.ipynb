{
 "cells": [
  {
   "cell_type": "markdown",
   "metadata": {},
   "source": [
    "# Calculating Values in a Query"
   ]
  },
  {
   "cell_type": "markdown",
   "metadata": {},
   "source": [
    "## Math Operators\n",
    "- addition +\n",
    "- subtraction -\n",
    "- multiplication *\n",
    "- division /\n",
    "- modulus %\n",
    "- Work differently on different data types"
   ]
  },
  {
   "cell_type": "markdown",
   "metadata": {},
   "source": [
    "## Calculating Difference"
   ]
  },
  {
   "cell_type": "code",
   "execution_count": 7,
   "metadata": {},
   "outputs": [],
   "source": [
    "from sqlalchemy import create_engine,Table, MetaData, select, desc, func\n",
    "\n",
    "engine = create_engine('sqlite:///census.sqlite')\n",
    "connection = engine.connect()\n",
    "\n",
    "metadata = MetaData()\n",
    "\n",
    "census = Table('census', metadata, autoload=True, autoload_with=engine)"
   ]
  },
  {
   "cell_type": "code",
   "execution_count": 8,
   "metadata": {},
   "outputs": [
    {
     "name": "stdout",
     "output_type": "stream",
     "text": [
      "[(61, 52672), (85, 51901), (54, 50808), (58, 45575), (60, 44915)]\n"
     ]
    }
   ],
   "source": [
    "stmt = select([census.columns.age,\n",
    "               (census.columns.pop2008-census.columns.pop2000).label('pop_change')])\n",
    "\n",
    "\n",
    "stmt = stmt.group_by(census.columns.age)\n",
    "stmt = stmt.order_by(desc('pop_change'))\n",
    "stmt = stmt.limit(5)\n",
    "\n",
    "results = connection.execute(stmt).fetchall()\n",
    "\n",
    "print(results)"
   ]
  },
  {
   "cell_type": "markdown",
   "metadata": {},
   "source": [
    "## Case Statement\n",
    "- Used to treat data differently based on a condition\n",
    "- Accepts a list of conditions to match and a column\n",
    "to return if the condition matches\n",
    "- The list of conditions ends with an else clause to\n",
    "determine what to do when a record doesn’t match\n",
    "any prior conditions"
   ]
  },
  {
   "cell_type": "markdown",
   "metadata": {},
   "source": [
    "## Case Example"
   ]
  },
  {
   "cell_type": "code",
   "execution_count": 9,
   "metadata": {},
   "outputs": [
    {
     "name": "stdout",
     "output_type": "stream",
     "text": [
      "[(19465159,)]\n"
     ]
    }
   ],
   "source": [
    "from sqlalchemy import case\n",
    "\n",
    "stmt = select([\n",
    "    func.sum(\n",
    "        case([\n",
    "            (census.columns.state == 'New York',\n",
    "             census.columns.pop2008)\n",
    "        ], else_=0))])\n",
    "\n",
    "results = connection.execute(stmt).fetchall()\n",
    "\n",
    "print(results)"
   ]
  },
  {
   "cell_type": "markdown",
   "metadata": {},
   "source": [
    "## Cast Statement\n",
    "- Converts data to another type\n",
    "- Useful for converting\n",
    "- integers to floats for division\n",
    "- strings to dates and times\n",
    "- Accepts a column or expression and the target Type"
   ]
  },
  {
   "cell_type": "markdown",
   "metadata": {},
   "source": [
    "## Percentage Example"
   ]
  },
  {
   "cell_type": "code",
   "execution_count": 11,
   "metadata": {},
   "outputs": [
    {
     "name": "stdout",
     "output_type": "stream",
     "text": [
      "[(6.426761976501632,)]\n"
     ]
    }
   ],
   "source": [
    "\n",
    "from sqlalchemy import case, cast, Float\n",
    "stmt = select([\n",
    "    (func.sum(\n",
    "        case([\n",
    "            (census.columns.state == 'New York',\n",
    "             census.columns.pop2008)\n",
    "        ], else_=0)) /\n",
    "     cast(func.sum(census.columns.pop2008),\n",
    "          Float) * 100).label('ny_percent')])\n",
    "\n",
    "results = connection.execute(stmt).fetchall()\n",
    "\n",
    "print(results)"
   ]
  },
  {
   "cell_type": "markdown",
   "metadata": {},
   "source": [
    "---\n",
    "# Let’s practice!"
   ]
  },
  {
   "cell_type": "code",
   "execution_count": null,
   "metadata": {},
   "outputs": [],
   "source": []
  },
  {
   "cell_type": "code",
   "execution_count": null,
   "metadata": {},
   "outputs": [],
   "source": []
  },
  {
   "cell_type": "code",
   "execution_count": null,
   "metadata": {},
   "outputs": [],
   "source": []
  },
  {
   "cell_type": "markdown",
   "metadata": {},
   "source": [
    "# SQL Relationships"
   ]
  },
  {
   "cell_type": "markdown",
   "metadata": {},
   "source": [
    "## Relationships\n",
    "- Allow us to avoid duplicate data\n",
    "- Make it easy to change things in one place\n",
    "- Useful to break out information from a table we\n",
    "don’t need very often"
   ]
  },
  {
   "cell_type": "markdown",
   "metadata": {},
   "source": [
    "## Automatic Joins\n",
    "\n",
    "\n",
    "```python\n",
    "In [1]: stmt = select([census.columns.pop2008,\n",
    "...: state_fact.columns.abbreviation])\n",
    "In [2]: results = connection.execute(stmt).fetchall()\n",
    "In [3]: print(results)\n",
    "Out[3]: [(95012, u'IL'),\n",
    "(95012, u'NJ'),\n",
    "(95012, u'ND'),\n",
    "(95012, u'OR'),\n",
    "(95012, u'DC'),\n",
    "(95012, u’WI'),\n",
    " ```"
   ]
  },
  {
   "cell_type": "markdown",
   "metadata": {},
   "source": [
    "## Join\n",
    "- Accepts a Table and an optional expression that explains\n",
    "how the two tables are related\n",
    "- The expression is not needed if the relationship is\n",
    "predefined and available via reflection\n",
    "- Comes immediately a\"er the select() clause and prior\n",
    "to any where(), order_by or group_by() clauses"
   ]
  },
  {
   "cell_type": "markdown",
   "metadata": {},
   "source": [
    "## Select_from\n",
    "- Used to replace the default, derived FROM clause with a join\n",
    "- Wraps the join() clause"
   ]
  },
  {
   "cell_type": "markdown",
   "metadata": {},
   "source": [
    "## Select_from Example\n",
    "\n",
    "\n",
    "```python\n",
    "In [1]: stmt = select([func.sum(census.columns.pop2000)])\n",
    "In [2]: stmt = stmt.select_from(census.join(state_fact))\n",
    "In [3]: stmt = stmt.where(state_fact.columns.circuit_court\n",
    "== '10')\n",
    "In [4]: result = connection.execute(stmt).scalar()\n",
    "In [5]: print(result)\n",
    "Out[5]: 14945252\n",
    "              ```"
   ]
  },
  {
   "cell_type": "markdown",
   "metadata": {},
   "source": [
    "## Joining Tables without Predefined Relationship\n",
    "- Join accepts a Table and an optional expression that explains\n",
    "how the two tables are related\n",
    "- Will only join on data that match between the two columns\n",
    "- Avoid joining on columns of different types"
   ]
  },
  {
   "cell_type": "markdown",
   "metadata": {},
   "source": [
    "## Select_from Example\n",
    "\n",
    "```python\n",
    "In [1]: stmt = select([func.sum(census.columns.pop2000)])\n",
    "In [2]: stmt = stmt.select_from(\n",
    "...: census.join(state_fact, census.columns.state\n",
    "...: == state_fact.columns.name))\n",
    "In [3]: stmt = stmt.where(\n",
    "...: state_fact.columns.census_division_name ==\n",
    "...: 'East South Central')\n",
    "In [4]: result = connection.execute(stmt).scalar()\n",
    "In [5]: print(result)\n",
    "Out[5]: 16982311\n",
    "    ```"
   ]
  },
  {
   "cell_type": "markdown",
   "metadata": {},
   "source": [
    "---\n",
    "# Let’s practice!"
   ]
  },
  {
   "cell_type": "code",
   "execution_count": null,
   "metadata": {},
   "outputs": [],
   "source": []
  },
  {
   "cell_type": "code",
   "execution_count": null,
   "metadata": {},
   "outputs": [],
   "source": []
  },
  {
   "cell_type": "markdown",
   "metadata": {},
   "source": [
    "# Working with Hierarchical Tables"
   ]
  },
  {
   "cell_type": "markdown",
   "metadata": {},
   "source": [
    "## Hierarchical Tables\n",
    "- Contain a relationship with themselves\n",
    "- Commonly found in:\n",
    "    - Organizational\n",
    "    - Geographic\n",
    "    - Network\n",
    "    - Graph"
   ]
  },
  {
   "cell_type": "markdown",
   "metadata": {},
   "source": [
    "## Hierarchical Tables - alias()\n",
    "- Requires a way to view the table via multiple names\n",
    "- Creates a unique reference that we can use"
   ]
  },
  {
   "cell_type": "markdown",
   "metadata": {},
   "source": [
    "## Querying Hierarchical Data\n",
    "\n",
    "```python\n",
    "In [1]: managers = employees.alias()\n",
    "In [2]: stmt = select(\n",
    "...: [managers.columns.name.label('manager'),\n",
    "...: employees.columns.name.label('employee')])\n",
    "In [3]: stmt = stmt.select_from(employees.join(\n",
    "...: managers, managers.columns.id ==\n",
    "...: employees.columns.manager)\n",
    "In [4]: stmt = stmt.order_by(managers.columns.name)\n",
    "In [5]: print(connection.execute(stmt).fetchall())\n",
    "Out[5]: [(u'FILLMORE', u'GRANT'),\n",
    "(u'FILLMORE', u'ADAMS'),\n",
    "(u'HARDING', u'TAFT'), ...\n",
    "         ```"
   ]
  },
  {
   "cell_type": "markdown",
   "metadata": {},
   "source": [
    "## Group_by and Func\n",
    "- It’s important to target group_by() at the right alias\n",
    "- Be careful with what you perform functions on\n",
    "- If you don’t find yourself using both the alias and the table\n",
    "name for a query, don’t create the alias at all"
   ]
  },
  {
   "cell_type": "markdown",
   "metadata": {},
   "source": [
    "## Querying Hierarchical Data\n",
    "\n",
    "```python\n",
    "In [1]: managers = employees.alias()\n",
    "In [2]: stmt = select([managers.columns.name,\n",
    "...: func.sum(employees.columns.sal)])\n",
    "In [3]: stmt = stmt.select_from(employees.join(\n",
    "...: managers, managers.columns.id ==\n",
    "...: employees.columns.manager)\n",
    "In [4]: stmt = stmt.group_by(managers.columns.name)\n",
    "In [5]: print(connection.execute(stmt).fetchall())\n",
    "Out[5]: [(u'FILLMORE', Decimal('96000.00')),\n",
    "(u'GARFIELD', Decimal('83500.00')),\n",
    "(u'HARDING', Decimal('52000.00')),\n",
    "(u'JACKSON', Decimal('197000.00'))]\n",
    "                                ```"
   ]
  },
  {
   "cell_type": "markdown",
   "metadata": {},
   "source": [
    "---\n",
    "# Let’s practice!"
   ]
  },
  {
   "cell_type": "code",
   "execution_count": null,
   "metadata": {},
   "outputs": [],
   "source": []
  },
  {
   "cell_type": "code",
   "execution_count": null,
   "metadata": {},
   "outputs": [],
   "source": []
  },
  {
   "cell_type": "code",
   "execution_count": null,
   "metadata": {},
   "outputs": [],
   "source": []
  },
  {
   "cell_type": "markdown",
   "metadata": {},
   "source": [
    "# Handling Large ResultSets"
   ]
  },
  {
   "cell_type": "markdown",
   "metadata": {},
   "source": [
    "## Dealing with Large ResultSets\n",
    "- fetchmany() lets us specify how many rows we want to\n",
    "act upon\n",
    "- We can loop over fetchmany()\n",
    "- It returns an empty list when there are no more records\n",
    "- We have to close the ResultProxy a\"erwards"
   ]
  },
  {
   "cell_type": "markdown",
   "metadata": {},
   "source": [
    "## Fetching Many Rows\n",
    "\n",
    "```python\n",
    "In [1]: while more_results:\n",
    "...: partial_results = results_proxy.fetchmany(50)\n",
    "...: if partial_results == []:\n",
    "...: more_results = False\n",
    "...: for row in partial_results:\n",
    "...: state_count[row.state] += 1\n",
    "In [2]: results_proxy.close()\n",
    "    ```"
   ]
  },
  {
   "cell_type": "markdown",
   "metadata": {},
   "source": [
    "---\n",
    "# Let’s practice!"
   ]
  },
  {
   "cell_type": "code",
   "execution_count": null,
   "metadata": {},
   "outputs": [],
   "source": []
  },
  {
   "cell_type": "code",
   "execution_count": null,
   "metadata": {},
   "outputs": [],
   "source": []
  },
  {
   "cell_type": "code",
   "execution_count": null,
   "metadata": {},
   "outputs": [],
   "source": []
  },
  {
   "cell_type": "code",
   "execution_count": null,
   "metadata": {},
   "outputs": [],
   "source": []
  },
  {
   "cell_type": "code",
   "execution_count": null,
   "metadata": {},
   "outputs": [],
   "source": []
  },
  {
   "cell_type": "code",
   "execution_count": null,
   "metadata": {},
   "outputs": [],
   "source": []
  },
  {
   "cell_type": "code",
   "execution_count": null,
   "metadata": {},
   "outputs": [],
   "source": []
  },
  {
   "cell_type": "code",
   "execution_count": null,
   "metadata": {},
   "outputs": [],
   "source": []
  }
 ],
 "metadata": {
  "kernelspec": {
   "display_name": "Python [conda env:datacamp]",
   "language": "python",
   "name": "conda-env-datacamp-py"
  },
  "language_info": {
   "codemirror_mode": {
    "name": "ipython",
    "version": 3
   },
   "file_extension": ".py",
   "mimetype": "text/x-python",
   "name": "python",
   "nbconvert_exporter": "python",
   "pygments_lexer": "ipython3",
   "version": "3.6.4"
  }
 },
 "nbformat": 4,
 "nbformat_minor": 2
}
