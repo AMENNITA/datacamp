{
 "cells": [
  {
   "cell_type": "markdown",
   "metadata": {},
   "source": [
    "# CreatingDatabases and Tables"
   ]
  },
  {
   "cell_type": "markdown",
   "metadata": {},
   "source": [
    "## Creating Databases\n",
    "- Varies by the database type\n",
    "- Databases like PostgreSQL and MySQL have\n",
    "command line tools to initialize the database\n",
    "- With SQLite, the create_engine() statement will\n",
    "create the database and file is they do not already exist"
   ]
  },
  {
   "cell_type": "markdown",
   "metadata": {},
   "source": [
    "## Building a Table"
   ]
  },
  {
   "cell_type": "code",
   "execution_count": 13,
   "metadata": {},
   "outputs": [],
   "source": [
    "from sqlalchemy import (Table, Column, String, Integer, Boolean, Float)\n",
    "from sqlalchemy import MetaData, create_engine\n",
    "\n",
    "metadata = MetaData()\n",
    "engine = create_engine('sqlite:///:memory:')"
   ]
  },
  {
   "cell_type": "code",
   "execution_count": 14,
   "metadata": {},
   "outputs": [
    {
     "data": {
      "text/plain": [
       "['employees']"
      ]
     },
     "execution_count": 14,
     "metadata": {},
     "output_type": "execute_result"
    }
   ],
   "source": [
    "employees = Table('employees', metadata,\n",
    "                  Column('id', Integer()),\n",
    "                  Column('name', String(255)),\n",
    "                  Column('salary', Float()),\n",
    "                  Column('active', Boolean()))\n",
    "\n",
    "metadata.create_all(engine)\n",
    "engine.table_names()"
   ]
  },
  {
   "cell_type": "markdown",
   "metadata": {},
   "source": [
    "## Creating Tables\n",
    "- Still uses the Table object like we did for reflection\n",
    "- Replaces the autoload keyword arguments with\n",
    "Column objects\n",
    "- Creates the tables in the actual database by using\n",
    "the create_all() method on the MetaData\n",
    "instance\n",
    "- You need to use other tools to handle database\n",
    "table updates, such as Alembic or raw SQL"
   ]
  },
  {
   "cell_type": "markdown",
   "metadata": {},
   "source": [
    "## Creating Tables - Additional Column Options\n",
    "- unique forces all values for the data in a column to be\n",
    "unique\n",
    "- nullable determines if a column can be empty in a\n",
    "row\n",
    "- default sets a default value if one\n",
    "isn’t supplied."
   ]
  },
  {
   "cell_type": "markdown",
   "metadata": {},
   "source": [
    "## Building a Table with Additional Options\n",
    "\n",
    "- build the same table with some extras\n",
    "- name col is unique and not allowed to be empty\n",
    "- default salary of $100\n",
    "- set active to be true by default\n"
   ]
  },
  {
   "cell_type": "code",
   "execution_count": 35,
   "metadata": {},
   "outputs": [],
   "source": [
    "from sqlalchemy import (Table, Column, String, Integer, Boolean, Float)\n",
    "from sqlalchemy import MetaData, create_engine\n",
    "engine = create_engine('sqlite:///:memory:')\n",
    "metadata = MetaData() \n",
    "connection = engine.connect()"
   ]
  },
  {
   "cell_type": "code",
   "execution_count": 36,
   "metadata": {},
   "outputs": [],
   "source": [
    "   \n",
    "employees = Table('employees', metadata,\n",
    "                  Column('id', Integer()),\n",
    "                  Column('name', String(255), unique=True,\n",
    "                         nullable=False),\n",
    "                  Column('salary', Float(), default=100.00),\n",
    "                  Column('active', Boolean(), default=True))"
   ]
  },
  {
   "cell_type": "code",
   "execution_count": 37,
   "metadata": {},
   "outputs": [
    {
     "data": {
      "text/plain": [
       "{CheckConstraint(<sqlalchemy.sql.elements.BinaryExpression object at 0x103fe4400>, name='_unnamed_', table=Table('employees', MetaData(bind=None), Column('id', Integer(), table=<employees>), Column('name', String(length=255), table=<employees>, nullable=False), Column('salary', Float(), table=<employees>, default=ColumnDefault(100.0)), Column('active', Boolean(), table=<employees>, default=ColumnDefault(True)), schema=None), _create_rule=<sqlalchemy.util.langhelpers.portable_instancemethod object at 0x104696480>, _type_bound=True),\n",
       " PrimaryKeyConstraint(),\n",
       " UniqueConstraint(Column('name', String(length=255), table=<employees>, nullable=False))}"
      ]
     },
     "execution_count": 37,
     "metadata": {},
     "output_type": "execute_result"
    }
   ],
   "source": [
    "employees.constraints"
   ]
  },
  {
   "cell_type": "markdown",
   "metadata": {},
   "source": [
    "---\n",
    "# Let’s practice!"
   ]
  },
  {
   "cell_type": "code",
   "execution_count": 18,
   "metadata": {},
   "outputs": [],
   "source": [
    "engine = create_engine('sqlite:///:memory:')"
   ]
  },
  {
   "cell_type": "code",
   "execution_count": 20,
   "metadata": {},
   "outputs": [
    {
     "name": "stdout",
     "output_type": "stream",
     "text": [
      "Table('data', MetaData(bind=None), Column('name', String(length=255), table=<data>), Column('count', Integer(), table=<data>), Column('amount', Float(), table=<data>), Column('valid', Boolean(), table=<data>), schema=None)\n"
     ]
    }
   ],
   "source": [
    "# Import Table, Column, String, Integer, Float, Boolean from sqlalchemy\n",
    "from sqlalchemy import Table, Column, Integer, Float, Boolean, String\n",
    "engine = create_engine('sqlite:///:memory:')\n",
    "metadata = MetaData() \n",
    "\n",
    "# Define a new table with a name, count, amount, and valid column: data\n",
    "data = Table('data', metadata,\n",
    "             Column('name', String(255)),\n",
    "             Column('count', Integer()),\n",
    "             Column('amount', Float()),\n",
    "             Column('valid', Boolean())\n",
    ")\n",
    "\n",
    "# Use the metadata to create the table\n",
    "metadata.create_all(engine)\n",
    "\n",
    "# Print table details\n",
    "print(repr(data))"
   ]
  },
  {
   "cell_type": "code",
   "execution_count": 29,
   "metadata": {},
   "outputs": [
    {
     "name": "stdout",
     "output_type": "stream",
     "text": [
      "Table('data', MetaData(bind=None), Column('name', String(length=255), table=<data>), Column('count', Integer(), table=<data>, default=ColumnDefault(1)), Column('amount', Float(), table=<data>), Column('valid', Boolean(), table=<data>, default=ColumnDefault(False)), schema=None)\n"
     ]
    }
   ],
   "source": [
    "# Import Table, Column, String, Integer, Float, Boolean from sqlalchemy\n",
    "from sqlalchemy import Table, Column, String, Integer, Float, Boolean\n",
    "\n",
    "engine = create_engine('sqlite:///:memory:')\n",
    "metadata = MetaData() \n",
    "connection = engine.connect()\n",
    "\n",
    "# Define a new table with a name, count, amount, and valid column: data\n",
    "data = Table('data', metadata,\n",
    "             Column('name', String(255), unique=True),\n",
    "             Column('count', Integer(), default=1),\n",
    "             Column('amount', Float()),\n",
    "             Column('valid', Boolean(), default=False)\n",
    ")\n",
    "\n",
    "# Use the metadata to create the table\n",
    "metadata.create_all(engine)\n",
    "\n",
    "# Print the table details\n",
    "print(repr(metadata.tables['data']))\n"
   ]
  },
  {
   "cell_type": "markdown",
   "metadata": {},
   "source": [
    "# Inserting Datainto aTable"
   ]
  },
  {
   "cell_type": "markdown",
   "metadata": {},
   "source": [
    "## Adding Data to a Table\n",
    "- Done with the insert() statement\n",
    "- Insert() takes the table we are loading data into as the\n",
    "argument\n",
    "- We add all the values we want to insert in with\n",
    "the values clause as column=value pairs\n",
    "- Doesn’t return any rows, so no need for a fetch method"
   ]
  },
  {
   "cell_type": "markdown",
   "metadata": {},
   "source": [
    "## Inserting One Row\n",
    "\n",
    "```python\n",
    "In [1]: from sqlalchemy import insert\n",
    "In [2]: stmt = insert(employees).values(id=1,\n",
    " name='Jason', salary=1.00, active=True)\n",
    "In [3]: result_proxy = connection.execute(stmt)\n",
    "In [4]: print(result_proxy.rowcount)\n",
    "Out[4]: 1\n",
    "    ```"
   ]
  },
  {
   "cell_type": "code",
   "execution_count": 38,
   "metadata": {},
   "outputs": [
    {
     "data": {
      "text/plain": [
       "Table('employees', MetaData(bind=None), Column('id', Integer(), table=<employees>), Column('name', String(length=255), table=<employees>, nullable=False), Column('salary', Float(), table=<employees>, default=ColumnDefault(100.0)), Column('active', Boolean(), table=<employees>, default=ColumnDefault(True)), schema=None)"
      ]
     },
     "execution_count": 38,
     "metadata": {},
     "output_type": "execute_result"
    }
   ],
   "source": [
    "employees"
   ]
  },
  {
   "cell_type": "markdown",
   "metadata": {},
   "source": [
    "---\n",
    "\n",
    "```pyton\n",
    "\n",
    "from sqlalchemy import insert\n",
    "stmt = insert(employees).values(id=1, \n",
    "                                name='Jason',\n",
    "                                salary=1.00, \n",
    "                                active=True)\n",
    "\n",
    "result_proxy = connection.execute(stmt)\n",
    "\n",
    "```"
   ]
  },
  {
   "cell_type": "markdown",
   "metadata": {},
   "source": [
    "## Inserting Multiple Rows\n",
    "- Build an insert statement without any values\n",
    "- Build a list of dictionaries that represent all the\n",
    "values clauses for the rows you want to insert\n",
    "- Pass both the stmt and the values list to the\n",
    "execute method on connection"
   ]
  },
  {
   "cell_type": "markdown",
   "metadata": {},
   "source": [
    "## Inserting Multiple Rows\n",
    "\n",
    "```python\n",
    "In [1]: stmt = insert(employees)\n",
    "In [2]: values_list = [\n",
    " {'id': 2, 'name': 'Rebecca', 'salary': 2.00,\n",
    " 'active': True},\n",
    " {'id': 3, 'name': 'Bob', 'salary': 0.00,\n",
    " 'active': False}\n",
    " ]\n",
    "In [3]: result_proxy = connection.execute(stmt,\n",
    " values_list)\n",
    "In [4]: print(result_proxy.rowcount)\n",
    "Out[4]: 2\n",
    "    ```"
   ]
  },
  {
   "cell_type": "code",
   "execution_count": null,
   "metadata": {},
   "outputs": [],
   "source": []
  },
  {
   "cell_type": "markdown",
   "metadata": {},
   "source": [
    "---\n",
    "# Let’s practice!"
   ]
  },
  {
   "cell_type": "markdown",
   "metadata": {},
   "source": [
    "```python\n",
    "# Import insert and select from sqlalchemy\n",
    "from sqlalchemy import insert, select\n",
    "\n",
    "# Build an insert statement to insert a record into the data table: stmt\n",
    "stmt = insert(data).values(name='Anna', count=1, amount=1000.00, valid=True)\n",
    "\n",
    "# Execute the statement via the connection: results\n",
    "results = connection.execute(stmt)\n",
    "\n",
    "# Print result rowcount\n",
    "print(results.rowcount)\n",
    "\n",
    "# Build a select statement to validate the insert\n",
    "stmt = select([data]).where(data.columns.name == 'Anna')\n",
    "\n",
    "# Print the result of executing the query.\n",
    "print(connection.execute(stmt).first())\n",
    "```"
   ]
  },
  {
   "cell_type": "markdown",
   "metadata": {},
   "source": [
    "```python\n",
    "# Build a list of dictionaries: values_list\n",
    "values_list = [\n",
    "    {'name': 'Anna', 'count': 1, 'amount': 1000.00, 'valid': True},\n",
    "    {'name': 'Taylor', 'count': 1, 'amount': 750.00, 'valid': False}\n",
    "]\n",
    "\n",
    "# Build an insert statement for the data table: stmt\n",
    "stmt = insert(data)\n",
    "\n",
    "# Execute stmt with the values_list: results\n",
    "results = connection.execute(stmt, values_list)\n",
    "\n",
    "# Print rowcount\n",
    "print(results.rowcount)\n",
    "```\n"
   ]
  },
  {
   "cell_type": "markdown",
   "metadata": {},
   "source": [
    "```python\n",
    "# Create a insert statement for census: stmt\n",
    "stmt = insert(census)\n",
    "\n",
    "# Create an empty list and zeroed row count: values_list, total_rowcount\n",
    "values_list = []\n",
    "total_rowcount = 0\n",
    "\n",
    "# Enumerate the rows of csv_reader\n",
    "for idx, row in enumerate(csv_reader):\n",
    "    #create data and append to values_list\n",
    "    data = {'state': row[0], 'sex': row[1], 'age': row[2], 'pop2000': row[3],\n",
    "            'pop2008': row[4]}\n",
    "    values_list.append(data)\n",
    "\n",
    "    # Check to see if divisible by 51\n",
    "    if idx % 51 == 0:\n",
    "        results = connection.execute(stmt, values_list)\n",
    "        total_rowcount += results.rowcount\n",
    "        values_list = []\n",
    "\n",
    "# Print total rowcount\n",
    "print(total_rowcount)\n",
    "```"
   ]
  },
  {
   "cell_type": "markdown",
   "metadata": {},
   "source": [
    "---"
   ]
  },
  {
   "cell_type": "markdown",
   "metadata": {},
   "source": [
    "# UpdatingDatain a Table"
   ]
  },
  {
   "cell_type": "markdown",
   "metadata": {},
   "source": [
    "Updating Data in a Table\n",
    "- Done with the update statement\n",
    "- Similar to the insert statement but includes a where\n",
    " lause to determine what record will be updated\n",
    "- We add all the values we want to update with\n",
    "the values clause as column=value pairs"
   ]
  },
  {
   "cell_type": "markdown",
   "metadata": {},
   "source": [
    "## Updating One Row\n",
    "- employee with the `id=3` an active employee\n",
    "\n",
    "```python\n",
    "from sqlalchemy import update\n",
    "stmt = update(employees)\n",
    "stmt = stmt.where(employees.columns.id == 3)\n",
    "stmt = stmt.values(active=True)\n",
    "\n",
    "result_proxy = connection.execute(stmt)\n",
    "\n",
    "print(result_proxy.rowcount)\n",
    "Out[6]: 1\n",
    "\n",
    "```"
   ]
  },
  {
   "cell_type": "markdown",
   "metadata": {},
   "source": [
    "## Updating Multiple Rows\n",
    "- Build a where clause that will select all the records you want\n",
    "to update"
   ]
  },
  {
   "cell_type": "markdown",
   "metadata": {},
   "source": [
    "## Inserting Multiple Rows\n",
    "\n",
    " - all active employees to inactive with $0\n",
    " \n",
    "```python\n",
    "stmt = update(employees)  \n",
    "stmt = stmt.where(\n",
    "            employees.columns.active == True\n",
    "            )  # matches all active empl\n",
    "\n",
    "# update teh active and salary with the  changes\n",
    "stmt = stmt.values(active=False, salary=0.00)\n",
    "\n",
    "# execute the satement\n",
    "result_proxy = connection.execute(stmt)\n",
    "\n",
    "print(result_proxy.rowcount)\n",
    "Out[5]: 3 \n",
    "```"
   ]
  },
  {
   "cell_type": "markdown",
   "metadata": {},
   "source": [
    "## Correlated Updates\n",
    "\n",
    "- pay all employees the same amount\n",
    "\n",
    "```python\n",
    "\n",
    "# select statement \n",
    "new_salary = select([employees.columns.salary])\n",
    "\n",
    "# order by max salary\n",
    "new_salary = new_salary.order_by(desc(\n",
    "    employees.columns.salary)\n",
    " )\n",
    "    \n",
    "# select the maximum salary  \n",
    "new_salary = new_salary.limit(1)\n",
    "\n",
    "\n",
    "# create an update statement for the employees table\n",
    "# Without a where clause to update every record\n",
    "stmt = update(employees)\n",
    "\n",
    "\n",
    "# in the value clause, we select the salary column to\n",
    "# the select statement\n",
    "stmt = stmt.values(salary=new_salary)\n",
    "\n",
    "# when executed, it will find the maximum statement\n",
    "# that will be used to salary field for every record\n",
    "result_proxy = connection.execute(stmt)\n",
    "\n",
    "\n",
    "print(result_proxy.rowcount)\n",
    "Out[7]: 3\n",
    "```\n"
   ]
  },
  {
   "cell_type": "markdown",
   "metadata": {},
   "source": [
    "## Correlated Updates\n",
    "- Uses a `select()` statement to find the value for the\n",
    "column we are updating\n",
    "- Commonly used to update records to a maximum value or\n",
    "change a string to match an abbreviation from another table"
   ]
  },
  {
   "cell_type": "markdown",
   "metadata": {},
   "source": [
    "---\n",
    "# Let’s practice!"
   ]
  },
  {
   "cell_type": "markdown",
   "metadata": {},
   "source": [
    "```python\n",
    "# Build a select statement: select_stmt\n",
    "select_stmt = select([state_fact]).where(state_fact.columns.name == 'New York')\n",
    "\n",
    "# Print the results of executing the select_stmt\n",
    "print(connection.execute(select_stmt).fetchall())\n",
    "\n",
    "# Build a statement to update the fips_state to 36: stmt\n",
    "stmt = update(state_fact).values(fips_state = 36)\n",
    "\n",
    "# Append a where clause to limit it to records for New York state\n",
    "stmt = stmt.where(state_fact.columns.name == 'New York')\n",
    "\n",
    "# Execute the statement: results\n",
    "results = connection.execute(stmt)\n",
    "\n",
    "# Print rowcount\n",
    "print(results.rowcount)\n",
    "\n",
    "# Execute the select_stmt again to view the changes\n",
    "print(connection.execute(select_stmt).fetchall())\n",
    "```"
   ]
  },
  {
   "cell_type": "markdown",
   "metadata": {},
   "source": [
    "```python\n",
    "# Build a statement to update the notes to 'The Wild West': stmt\n",
    "stmt = update(state_fact).values(notes='The Wild West')\n",
    "\n",
    "# Append a where clause to match the West census region records\n",
    "stmt = stmt.where(state_fact.columns.census_region_name == 'West')\n",
    "\n",
    "# Execute the statement: results\n",
    "results = connection.execute(stmt)\n",
    "\n",
    "# Print rowcount\n",
    "print(results.rowcount)```"
   ]
  },
  {
   "cell_type": "markdown",
   "metadata": {},
   "source": [
    "```python\n",
    "# Build a statement to select name from state_fact: stmt\n",
    "fips_stmt = select([state_fact.columns.name])\n",
    "\n",
    "# Append a where clause to Match the fips_state to flat_census fips_code\n",
    "fips_stmt = fips_stmt.where(\n",
    "    state_fact.columns.fips_state == flat_census.columns.fips_code)\n",
    "\n",
    "# Build an update statement to set the name to fips_stmt: update_stmt\n",
    "update_stmt = update(flat_census).values(state_name=fips_stmt)\n",
    "\n",
    "# Execute update_stmt: results\n",
    "results = connection.execute(update_stmt)\n",
    "\n",
    "# Print rowcount\n",
    "print(results.rowcount)\n",
    "```"
   ]
  },
  {
   "cell_type": "markdown",
   "metadata": {},
   "source": [
    "# Deleting Data from a Database"
   ]
  },
  {
   "cell_type": "markdown",
   "metadata": {},
   "source": [
    "## Deleting Data from a Table\n",
    "- Done with the delete() statement\n",
    "- delete() takes the table we are loading data into as\n",
    "the argument\n",
    "- A where() clause is used to choose which rows to\n",
    "delete\n",
    "- Hard to undo so BE CAREFUL!!!"
   ]
  },
  {
   "cell_type": "markdown",
   "metadata": {},
   "source": [
    "## Deleting all Data from a Table\n",
    "- Delete ALL the data from a table called `extra_employees`\n",
    "\n",
    "```python\n",
    "from sqlalchemy import delete\n",
    "\n",
    "# select statement to count the records in the extra_employees table\n",
    "# in order to make sure we correcly delete the number of records\n",
    "stmt = select([\n",
    "    func.count(extra_employees.columns.id)])\n",
    "\n",
    "# we execute thestatements and use scalar() method to get \n",
    "# the nubmer of records back\n",
    "connection.execute(stmt).scalar()\n",
    "Out[3]: 3\n",
    " \n",
    "# create a delete statement that targets the extra_employees table\n",
    "# without a where clause\n",
    "\n",
    "delete_stmt = delete(extra_employees)\n",
    "\n",
    "# execute the delete statement\n",
    "result_proxy = connection.execute(delete_stmt)\n",
    "\n",
    "# check the affected rows\n",
    "result_proxy.rowcount\n",
    "Out[6]: 3 \n",
    "```"
   ]
  },
  {
   "cell_type": "markdown",
   "metadata": {},
   "source": [
    "## Deleting Specific Rows\n",
    "- Build a where clause that will select all the records you want\n",
    "to delete"
   ]
  },
  {
   "cell_type": "markdown",
   "metadata": {},
   "source": [
    "\n",
    "## Deleting Specific Rows\n",
    "\n",
    "- remove employee with an `id=3` from the employees table\n",
    "\n",
    "```python\n",
    "# build a delete statement for the employees table\n",
    "# using a where clause to target the employee with the id of 3\n",
    "stmt = delete(employees).where(employees.columns.id == 3)\n",
    "\n",
    "# execute the statement\n",
    "result_proxy = connection.execute(stmt)\n",
    "\n",
    "# check the rowcount to see we removed only one record\n",
    "result_proxy.rowcount\n",
    "Out[3]: 1\n",
    "    ```"
   ]
  },
  {
   "cell_type": "markdown",
   "metadata": {},
   "source": [
    "## Dropping a Table Completely\n",
    "- Uses the drop method on the table\n",
    "- Accepts the engine as an argument so it knows\n",
    "where to remove the table from\n",
    "- Won’t remove it from metadata until the python process is\n",
    "restarted"
   ]
  },
  {
   "cell_type": "markdown",
   "metadata": {},
   "source": [
    "## Dropping a table\n",
    "\n",
    "- drop the extra_employees table\n",
    "\n",
    "```python\n",
    "\n",
    "# call the extra_employees table and pass the engine that points to our database\n",
    "extra_employees.drop(engine)\n",
    "\n",
    "# verify that it was deleted with the .exist() method to see if it still there\n",
    "print(extra_employees.exists(engine))\n",
    "Out[2]: False\n",
    "    ```"
   ]
  },
  {
   "cell_type": "markdown",
   "metadata": {},
   "source": [
    "## Dropping all the Tables\n",
    "- Uses the drop_all() method on MetaData"
   ]
  },
  {
   "cell_type": "markdown",
   "metadata": {},
   "source": [
    "## Dropping all the Tables\n",
    "\n",
    "- drop all the tables\n",
    "\n",
    "```python\n",
    "\n",
    "# use the drop_all method on the metadata\n",
    "metadata.drop_all(engine)\n",
    "\n",
    "engine.table_names()\n",
    "\n",
    "Out[2]: []\n",
    "    ```"
   ]
  },
  {
   "cell_type": "markdown",
   "metadata": {},
   "source": [
    "---\n",
    "# Let’s practice!"
   ]
  },
  {
   "cell_type": "markdown",
   "metadata": {},
   "source": [
    "```python\n",
    "# Import delete, select\n",
    "from sqlalchemy import delete, select\n",
    "\n",
    "# Build a statement to empty the census table: stmt\n",
    "stmt = delete(census)\n",
    "\n",
    "# Execute the statement: results\n",
    "results = connection.execute(stmt)\n",
    "\n",
    "# Print affected rowcount\n",
    "print(results.rowcount)\n",
    "\n",
    "# Build a statement to select all records from the census table\n",
    "stmt = select([census])\n",
    "\n",
    "# Print the results of executing the statement to verify there are no rows\n",
    "print(connection.execute(stmt).fetchall())\n",
    "```"
   ]
  },
  {
   "cell_type": "markdown",
   "metadata": {},
   "source": [
    "\n",
    "```python\n",
    "# Build a statement to count records using the sex column for Men ('M') age 36: stmt\n",
    "stmt = select([func.count(census.columns.sex)]).where(\n",
    "    and_(census.columns.sex == 'M',\n",
    "         census.columns.age == 36)\n",
    ")\n",
    "\n",
    "# Execute the select statement and use the scalar() fetch method to save the record count\n",
    "to_delete = connection.execute(stmt).scalar()\n",
    "\n",
    "# Build a statement to delete records from the census table: stmt_del\n",
    "stmt_del = delete(census)\n",
    "\n",
    "# Append a where clause to target Men ('M') age 36\n",
    "stmt_del = stmt_del.where(\n",
    "    and_(census.columns.sex == 'M',\n",
    "         census.columns.age == 36)\n",
    ")\n",
    "\n",
    "# Execute the statement: results\n",
    "results = connection.execute(stmt_del)\n",
    "\n",
    "# Print affected rowcount and to_delete record count, make sure they match\n",
    "print(results.rowcount, to_delete)\n",
    "```"
   ]
  },
  {
   "cell_type": "markdown",
   "metadata": {},
   "source": [
    "```python\n",
    "# Drop the state_fact table\n",
    "state_fact.drop(engine)\n",
    "\n",
    "# Check to see if state_fact exists\n",
    "print(state_fact.exists(engine))\n",
    "\n",
    "# Drop all tables\n",
    "metadata.drop_all(engine)\n",
    "\n",
    "# Check to see if census exists\n",
    "print(census.exists(engine))\n",
    "\n",
    "```"
   ]
  },
  {
   "cell_type": "code",
   "execution_count": null,
   "metadata": {},
   "outputs": [],
   "source": []
  },
  {
   "cell_type": "code",
   "execution_count": null,
   "metadata": {},
   "outputs": [],
   "source": []
  },
  {
   "cell_type": "code",
   "execution_count": null,
   "metadata": {},
   "outputs": [],
   "source": []
  }
 ],
 "metadata": {
  "kernelspec": {
   "display_name": "Python 3",
   "language": "python",
   "name": "python3"
  },
  "language_info": {
   "codemirror_mode": {
    "name": "ipython",
    "version": 3
   },
   "file_extension": ".py",
   "mimetype": "text/x-python",
   "name": "python",
   "nbconvert_exporter": "python",
   "pygments_lexer": "ipython3",
   "version": "3.6.4"
  }
 },
 "nbformat": 4,
 "nbformat_minor": 2
}
