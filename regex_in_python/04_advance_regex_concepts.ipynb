{
 "cells": [
  {
   "cell_type": "markdown",
   "metadata": {},
   "source": [
    "## Grouping and capturing"
   ]
  },
  {
   "cell_type": "code",
   "execution_count": 2,
   "metadata": {},
   "outputs": [],
   "source": [
    "text = \"\"\"\n",
    "Clary has 2 friends who she spends a lot time with.\n",
    "Susan has 3 brothers while Jhon has 4 sisters.\"\"\""
   ]
  },
  {
   "cell_type": "code",
   "execution_count": 3,
   "metadata": {},
   "outputs": [
    {
     "data": {
      "text/plain": [
       "['Clary has 2 friends', 'Susan has 3 brothers', 'Jhon has 4 sisters']"
      ]
     },
     "execution_count": 3,
     "metadata": {},
     "output_type": "execute_result"
    }
   ],
   "source": [
    "# group characters\n",
    "import re\n",
    "regx = '[A-Za-z]+\\s\\w+\\s\\d+\\s\\w+'\n",
    "\n",
    "re.findall(regx,text)"
   ]
  },
  {
   "cell_type": "markdown",
   "metadata": {},
   "source": [
    "## Capturing groups\n",
    "![](https://i.imgur.com/VasrAqZ.png)\n",
    "\n",
    "\n",
    "\n"
   ]
  },
  {
   "cell_type": "code",
   "execution_count": 5,
   "metadata": {},
   "outputs": [
    {
     "data": {
      "text/plain": [
       "['Clary', 'Susan', 'Jhon']"
      ]
     },
     "execution_count": 5,
     "metadata": {},
     "output_type": "execute_result"
    }
   ],
   "source": [
    "# group characters\n",
    "regx = '([A-Za-z]+)\\s\\w+\\s\\d+\\s\\w+'\n",
    "\n",
    "re.findall(regx,text)"
   ]
  },
  {
   "cell_type": "markdown",
   "metadata": {},
   "source": [
    "## CApturing groups\n",
    "\n",
    "![](https://i.imgur.com/Isx7Oy8.png)\n"
   ]
  },
  {
   "cell_type": "code",
   "execution_count": 6,
   "metadata": {},
   "outputs": [
    {
     "data": {
      "text/plain": [
       "[('Clary', '2', 'friends'),\n",
       " ('Susan', '3', 'brothers'),\n",
       " ('Jhon', '4', 'sisters')]"
      ]
     },
     "execution_count": 6,
     "metadata": {},
     "output_type": "execute_result"
    }
   ],
   "source": [
    "regx = '([A-Za-z]+)\\s\\w+\\s(\\d+)\\s(\\w+)'\n",
    "\n",
    "re.findall(regx,text)"
   ]
  },
  {
   "cell_type": "code",
   "execution_count": 7,
   "metadata": {},
   "outputs": [
    {
     "data": {
      "text/plain": [
       "[('Clary', '2', 'dogs'), ('John', '3', 'cats')]"
      ]
     },
     "execution_count": 7,
     "metadata": {},
     "output_type": "execute_result"
    }
   ],
   "source": [
    "# organize data\n",
    "t = 'Clary has 2 dogs but John has 3 cats'\n",
    "regx = '([A-Za-z]+)\\s\\w+\\s(\\d+)\\s(\\w+)'\n",
    "\n",
    "pets = re.findall(regx,t)\n",
    "pets"
   ]
  },
  {
   "cell_type": "code",
   "execution_count": 8,
   "metadata": {},
   "outputs": [
    {
     "data": {
      "text/plain": [
       "'Clary'"
      ]
     },
     "execution_count": 8,
     "metadata": {},
     "output_type": "execute_result"
    }
   ],
   "source": [
    "pets[0][0]"
   ]
  },
  {
   "cell_type": "markdown",
   "metadata": {},
   "source": [
    "### Capturing groups\n",
    "- *immediately to the left*\n",
    "- `r\"apple+\"`: `+` applies to e and not to apple"
   ]
  },
  {
   "cell_type": "code",
   "execution_count": 16,
   "metadata": {},
   "outputs": [
    {
     "data": {
      "text/plain": [
       "<_sre.SRE_Match object; span=(16, 22), match='3e4r5f'>"
      ]
     },
     "execution_count": 16,
     "metadata": {},
     "output_type": "execute_result"
    }
   ],
   "source": [
    "regx = \"(\\d[A-Za-z])+\"\n",
    "t = \"My user name is 3e4r5fg\"\n",
    "\n",
    "re.search(regx,t)\n"
   ]
  },
  {
   "cell_type": "markdown",
   "metadata": {},
   "source": [
    "### Capturing groups\n",
    "- capture a repeated group `(\\d+)` vs repeat a capturing group `(\\d)+`"
   ]
  },
  {
   "cell_type": "code",
   "execution_count": 17,
   "metadata": {},
   "outputs": [
    {
     "data": {
      "text/plain": [
       "['5', '3']"
      ]
     },
     "execution_count": 17,
     "metadata": {},
     "output_type": "execute_result"
    }
   ],
   "source": [
    "my_string = \"My lucky numbers are 8755 and 33\"\n",
    "re.findall(r\"(\\d)+\", my_string)"
   ]
  },
  {
   "cell_type": "code",
   "execution_count": 18,
   "metadata": {},
   "outputs": [
    {
     "data": {
      "text/plain": [
       "['8755', '33']"
      ]
     },
     "execution_count": 18,
     "metadata": {},
     "output_type": "execute_result"
    }
   ],
   "source": [
    "re.findall(r\"(\\d+)\", my_string)"
   ]
  },
  {
   "cell_type": "markdown",
   "metadata": {},
   "source": [
    "## problem\n",
    "```\n",
    "Exercise\n",
    "Exercise\n",
    "Try another name\n",
    "You are still working on your Twitter sentiment analysis. You analyze now some things that caught your attention. You noticed that there are email addresses inserted in some tweets. Now, you are curious to find out which is the most common name.\n",
    "\n",
    "You want to extract the first part of the email. E.g. if you have the email marysmith90@gmail.com, you are only interested in marysmith90.\n",
    "You need to match the entire expression. So you make sure to extract only names present in emails. Also, you are only interested in names containing upper (e.g. A,B, Z) or lowercase letters (e.g. a, d, z) and numbers.\n",
    "\n",
    "The list sentiment_analysis containing the text of three tweets as well as the re module were loaded in your session. You can use print() to view it in the IPython Shell.\n",
    "```\n",
    "```python\n",
    "```\n",
    "\n",
    "## problem\n",
    "```\n",
    "```\n",
    "```python\n",
    "```\n",
    "\n",
    "## problem\n",
    "```\n",
    "```\n",
    "```python\n",
    "```\n",
    "\n",
    "## problem\n",
    "```\n",
    "```\n",
    "```python\n",
    "```"
   ]
  },
  {
   "cell_type": "markdown",
   "metadata": {},
   "source": [
    "## Alernation and non-capturing groups\n",
    "### pipe\n",
    "- verical bar or pipe `|`"
   ]
  },
  {
   "cell_type": "code",
   "execution_count": 19,
   "metadata": {},
   "outputs": [
    {
     "data": {
      "text/plain": [
       "['cat', 'dog', 'bird']"
      ]
     },
     "execution_count": 19,
     "metadata": {},
     "output_type": "execute_result"
    }
   ],
   "source": [
    "my_string = \"I want to have a pet. But I don't know if I want a cat, a dog or a bird.\"\n",
    "re.findall(r\"cat|dog|bird\", my_string)"
   ]
  },
  {
   "cell_type": "markdown",
   "metadata": {},
   "source": [
    "### find all animals after a number"
   ]
  },
  {
   "cell_type": "code",
   "execution_count": 20,
   "metadata": {},
   "outputs": [
    {
     "data": {
      "text/plain": [
       "['2 cat', 'dog', 'bird']"
      ]
     },
     "execution_count": 20,
     "metadata": {},
     "output_type": "execute_result"
    }
   ],
   "source": [
    "my_string = \"I want to have a pet. But I don't know if I want 2 cats, 1 dog or a bird.\"\n",
    "re.findall(r\"\\d+\\scat|dog|bird\", my_string)"
   ]
  },
  {
   "cell_type": "markdown",
   "metadata": {},
   "source": [
    "![](https://i.imgur.com/a44LGoK.png)\n",
    "\n",
    "## Alternation\n",
    "\n",
    "![](https://i.imgur.com/zsfH0KR.png)\n"
   ]
  },
  {
   "cell_type": "code",
   "execution_count": 22,
   "metadata": {},
   "outputs": [
    {
     "data": {
      "text/plain": [
       "['cat', 'dog']"
      ]
     },
     "execution_count": 22,
     "metadata": {},
     "output_type": "execute_result"
    }
   ],
   "source": [
    "my_string = \"I want to have a pet. But I don't know if I want 2 cats, 1 dog or a bird.\"\n",
    "re.findall(r\"\\d+\\s(cat|dog|bird)\", my_string)"
   ]
  },
  {
   "cell_type": "markdown",
   "metadata": {},
   "source": [
    "![](https://i.imgur.com/3IvFw7C.png)\n"
   ]
  },
  {
   "cell_type": "code",
   "execution_count": 23,
   "metadata": {},
   "outputs": [
    {
     "data": {
      "text/plain": [
       "[('2', 'cat'), ('1', 'dog')]"
      ]
     },
     "execution_count": 23,
     "metadata": {},
     "output_type": "execute_result"
    }
   ],
   "source": [
    "my_string = \"I want to have a pet. But I don't know if I want 2 cats, 1 dog or a bird.\"\n",
    "re.findall(r\"(\\d)+\\s(cat|dog|bird)\", my_string)"
   ]
  },
  {
   "cell_type": "markdown",
   "metadata": {},
   "source": [
    "## Non-capturing groups\n",
    "- match but **not capture** a grp\n",
    "- when grou is not backreference\n",
    "- add `?:` `(?:regex)`\n",
    "![](https://i.imgur.com/Lo62ukN.png)\n"
   ]
  },
  {
   "cell_type": "code",
   "execution_count": 24,
   "metadata": {},
   "outputs": [
    {
     "data": {
      "text/plain": [
       "['042-980', '434-425']"
      ]
     },
     "execution_count": 24,
     "metadata": {},
     "output_type": "execute_result"
    }
   ],
   "source": [
    "# extract last part of pattern\n",
    "\n",
    "my_string = \"John Smith: 34-34-34-042-980, Rebeca Smith: 10-10-10-434-425\"\n",
    "re.findall(r\"(?:\\d{2}-){3}(\\d{3}-\\d{3})\", my_string)"
   ]
  },
  {
   "cell_type": "code",
   "execution_count": 26,
   "metadata": {},
   "outputs": [
    {
     "data": {
      "text/plain": [
       "['23', '24']"
      ]
     },
     "execution_count": 26,
     "metadata": {},
     "output_type": "execute_result"
    }
   ],
   "source": [
    "# extract number and ignore that follows th or rd \n",
    "my_date = \"Today is 23rd May 2019. Tomorrow is 24th May 19.\"\n",
    "re.findall(r\"(\\d+)(?:th|rd)\", my_date)"
   ]
  },
  {
   "cell_type": "code",
   "execution_count": null,
   "metadata": {},
   "outputs": [],
   "source": []
  },
  {
   "cell_type": "code",
   "execution_count": null,
   "metadata": {},
   "outputs": [],
   "source": []
  },
  {
   "cell_type": "markdown",
   "metadata": {},
   "source": [
    "## Backrefrence\n",
    "\n",
    "### Numbered groups\n",
    "![](https://i.imgur.com/dEh3gR1.png)\n",
    "\n"
   ]
  },
  {
   "cell_type": "code",
   "execution_count": 27,
   "metadata": {},
   "outputs": [
    {
     "data": {
      "text/plain": [
       "'2008'"
      ]
     },
     "execution_count": 27,
     "metadata": {},
     "output_type": "execute_result"
    }
   ],
   "source": [
    "text = \"Python 3.0 was released on 12-03-2008.\"\n",
    "information = re.search('(\\d{1,2})-(\\d{2})-(\\d{4})', text)\n",
    "information.group(3)"
   ]
  },
  {
   "cell_type": "code",
   "execution_count": 28,
   "metadata": {},
   "outputs": [
    {
     "data": {
      "text/plain": [
       "'12-03-2008'"
      ]
     },
     "execution_count": 28,
     "metadata": {},
     "output_type": "execute_result"
    }
   ],
   "source": [
    "information.group(0)"
   ]
  },
  {
   "cell_type": "markdown",
   "metadata": {},
   "source": [
    "### Named groups\n",
    "\n",
    "![](https://i.imgur.com/68daewC.png)\n"
   ]
  },
  {
   "cell_type": "code",
   "execution_count": 29,
   "metadata": {},
   "outputs": [
    {
     "data": {
      "text/plain": [
       "'Austin'"
      ]
     },
     "execution_count": 29,
     "metadata": {},
     "output_type": "execute_result"
    }
   ],
   "source": [
    "text = \"Austin, 78701\"\n",
    "cities = re.search(r\"(?P<city>[A-Za-z]+).*?(?P<zipcode>\\d{5})\", text)\n",
    "cities.group(\"city\")"
   ]
  },
  {
   "cell_type": "code",
   "execution_count": 30,
   "metadata": {},
   "outputs": [
    {
     "data": {
      "text/plain": [
       "'78701'"
      ]
     },
     "execution_count": 30,
     "metadata": {},
     "output_type": "execute_result"
    }
   ],
   "source": [
    "cities.group(\"zipcode\")"
   ]
  },
  {
   "cell_type": "markdown",
   "metadata": {},
   "source": [
    "### Backrefrence\n",
    "\n",
    "![](https://i.imgur.com/DyvXox2.png)\n"
   ]
  },
  {
   "cell_type": "code",
   "execution_count": 31,
   "metadata": {},
   "outputs": [
    {
     "data": {
      "text/plain": [
       "[]"
      ]
     },
     "execution_count": 31,
     "metadata": {},
     "output_type": "execute_result"
    }
   ],
   "source": [
    "sentence = \"I wish you a happy happy birthday!\"\n",
    "re.findall(r\"(\\w+)\\s \", sentence)"
   ]
  },
  {
   "cell_type": "code",
   "execution_count": 32,
   "metadata": {},
   "outputs": [
    {
     "data": {
      "text/plain": [
       "['happy']"
      ]
     },
     "execution_count": 32,
     "metadata": {},
     "output_type": "execute_result"
    }
   ],
   "source": [
    "sentence = \"I wish you a happy happy birthday!\"\n",
    "re.findall(r\"(\\w+)\\s\\1\", sentence)"
   ]
  },
  {
   "cell_type": "code",
   "execution_count": 33,
   "metadata": {},
   "outputs": [
    {
     "data": {
      "text/plain": [
       "'I wish you a happy birthday!'"
      ]
     },
     "execution_count": 33,
     "metadata": {},
     "output_type": "execute_result"
    }
   ],
   "source": [
    "sentence = \"I wish you a happy happy birthday!\"\n",
    "re.sub(r\"(\\w+)\\s\\1\", r\"\\1\", sentence)"
   ]
  },
  {
   "cell_type": "markdown",
   "metadata": {},
   "source": [
    "![](https://i.imgur.com/N7MKNOo.png)\n"
   ]
  },
  {
   "cell_type": "code",
   "execution_count": 34,
   "metadata": {},
   "outputs": [
    {
     "data": {
      "text/plain": [
       "['23434']"
      ]
     },
     "execution_count": 34,
     "metadata": {},
     "output_type": "execute_result"
    }
   ],
   "source": [
    "sentence = \"Your new code number is 23434. Please, enter 23434 to open the door.\"\n",
    "re.findall(r\"(?P<code>\\d{5}).*?(?P=code)\", sentence)"
   ]
  },
  {
   "cell_type": "markdown",
   "metadata": {},
   "source": [
    "![](https://i.imgur.com/3qvDn57.png)\n"
   ]
  },
  {
   "cell_type": "code",
   "execution_count": 36,
   "metadata": {},
   "outputs": [
    {
     "data": {
      "text/plain": [
       "\"This app is not working! It's repeating the last word.\""
      ]
     },
     "execution_count": 36,
     "metadata": {},
     "output_type": "execute_result"
    }
   ],
   "source": [
    "sentence = \"This app is not working! It's repeating the last word word.\"\n",
    "re.sub(r\"(?P<word>\\w+)\\s(?P=word)\", r\"\\g<word>\", sentence)"
   ]
  },
  {
   "cell_type": "markdown",
   "metadata": {},
   "source": [
    "## Look around\n",
    "\n",
    "![](https://i.imgur.com/MfVNZFt.png)\n"
   ]
  },
  {
   "cell_type": "code",
   "execution_count": 37,
   "metadata": {},
   "outputs": [
    {
     "data": {
      "text/plain": [
       "['tweets.txt ', 'mypass.txt ', 'keywords.txt ']"
      ]
     },
     "execution_count": 37,
     "metadata": {},
     "output_type": "execute_result"
    }
   ],
   "source": [
    "my_text = \"tweets.txt transferred, mypass.txt transferred, keywords.txt error\"\n",
    "re.findall(r\"\\w+\\.txt \", my_text)"
   ]
  },
  {
   "cell_type": "code",
   "execution_count": 38,
   "metadata": {},
   "outputs": [
    {
     "data": {
      "text/plain": [
       "['tweets.txt', 'mypass.txt']"
      ]
     },
     "execution_count": 38,
     "metadata": {},
     "output_type": "execute_result"
    }
   ],
   "source": [
    "my_text = \"tweets.txt transferred, mypass.txt transferred, keywords.txt error\"\n",
    "re.findall(r\"\\w+\\.txt(?=\\stransferred)\", my_text)"
   ]
  },
  {
   "cell_type": "markdown",
   "metadata": {},
   "source": [
    "## Negatgvie look ahead\n",
    "- Non-capturing group\n",
    "- Checks that the rst part ofthe expression is notfollowed by the lookahead expression\n",
    "- Return only the rst part ofthe expression"
   ]
  },
  {
   "cell_type": "code",
   "execution_count": 39,
   "metadata": {},
   "outputs": [
    {
     "data": {
      "text/plain": [
       "['tweets.txt ', 'mypass.txt ', 'keywords.txt ']"
      ]
     },
     "execution_count": 39,
     "metadata": {},
     "output_type": "execute_result"
    }
   ],
   "source": [
    "my_text = \"tweets.txt transferred, mypass.txt transferred, keywords.txt error\"\n",
    "re.findall(r\"\\w+\\.txt \", my_text)"
   ]
  },
  {
   "cell_type": "code",
   "execution_count": 40,
   "metadata": {},
   "outputs": [
    {
     "data": {
      "text/plain": [
       "['keywords.txt']"
      ]
     },
     "execution_count": 40,
     "metadata": {},
     "output_type": "execute_result"
    }
   ],
   "source": [
    "my_text = \"tweets.txt transferred, mypass.txt transferred, keywords.txt error\"\n",
    "re.findall(r\"\\w+\\.txt(?!\\stransferred)\", my_text)"
   ]
  },
  {
   "cell_type": "code",
   "execution_count": null,
   "metadata": {},
   "outputs": [],
   "source": []
  },
  {
   "cell_type": "markdown",
   "metadata": {},
   "source": [
    "![](https://i.imgur.com/cITSH3B.png)"
   ]
  },
  {
   "cell_type": "markdown",
   "metadata": {},
   "source": [
    "## Positive look-behind\n",
    "\n",
    "- Non-capturing group\n",
    "- Get allthe matches that are preceded by a specic pattern.\n",
    "- Return pattern after look-behind expression"
   ]
  },
  {
   "cell_type": "code",
   "execution_count": 43,
   "metadata": {},
   "outputs": [
    {
     "data": {
      "text/plain": [
       "[' Angus Young', ' Chris Slade', ' Malcolm Young', ' Cliff Williams']"
      ]
     },
     "execution_count": 43,
     "metadata": {},
     "output_type": "execute_result"
    }
   ],
   "source": [
    "my_text = \"Member: Angus Young, Member: Chris Slade, Past: Malcolm Young, Past: Cliff Williams.\"\n",
    "re.findall(r\" \\w+\\s\\w+\", my_text)"
   ]
  },
  {
   "cell_type": "code",
   "execution_count": 44,
   "metadata": {},
   "outputs": [
    {
     "data": {
      "text/plain": [
       "['Angus Young', 'Chris Slade']"
      ]
     },
     "execution_count": 44,
     "metadata": {},
     "output_type": "execute_result"
    }
   ],
   "source": [
    "my_text = \"Member: Angus Young, Member: Chris Slade, Past: Malcolm Young, Past: Cliff Williams.\"\n",
    "re.findall(r\"(?<=Member:\\s)\\w+\\s\\w+\", my_text)"
   ]
  },
  {
   "cell_type": "markdown",
   "metadata": {},
   "source": [
    "## Negative look-behind\n",
    "\n",
    "- Non-capturing group\n",
    "- Get allthe matches that are not preceded by a specic pattern.\n",
    "- Return pattern after look-behind expression"
   ]
  },
  {
   "cell_type": "code",
   "execution_count": 45,
   "metadata": {},
   "outputs": [
    {
     "data": {
      "text/plain": [
       "['cat']"
      ]
     },
     "execution_count": 45,
     "metadata": {},
     "output_type": "execute_result"
    }
   ],
   "source": [
    "my_text = \"My white cat sat at the table. However, my brown dog was lying on the couch.\"\n",
    "re.findall(r\"(?<!brown\\s)(cat|dog)\", my_text)"
   ]
  },
  {
   "cell_type": "code",
   "execution_count": null,
   "metadata": {},
   "outputs": [],
   "source": []
  }
 ],
 "metadata": {
  "kernelspec": {
   "display_name": "Python 3",
   "language": "python",
   "name": "python3"
  }
 },
 "nbformat": 4,
 "nbformat_minor": 2
}
