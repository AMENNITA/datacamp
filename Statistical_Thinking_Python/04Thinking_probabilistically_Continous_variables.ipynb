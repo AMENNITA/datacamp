{
 "cells": [
  {
   "cell_type": "markdown",
   "metadata": {},
   "source": [
    "In the last chapter, you learned about probability distributions of discrete variables. Now it is time to move on to continuous variables, such as those that can take on any fractional value. Many of the principles are the same, but there are some subtleties. At the end of this last chapter of the course, you will be speaking the probabilistic language you need to launch into the inference techniques covered in the sequel to this course."
   ]
  },
  {
   "cell_type": "markdown",
   "metadata": {},
   "source": [
    "## Continuous variables\n",
    "-  Quantities that can take any value, not just discrete value"
   ]
  },
  {
   "cell_type": "markdown",
   "metadata": {},
   "source": [
    "## Probability density function (PDF)\n",
    "- Continuous analog to the PMF\n",
    "\n",
    "- Mathematical description of the relative likelihood of observing a value of a continuous variable\n",
    "\n",
    "\n",
    "\n"
   ]
  },
  {
   "cell_type": "markdown",
   "metadata": {},
   "source": [
    "## Normal PDF\n",
    "![](https://i.imgur.com/0X2LD1t.png)\n",
    "\n",
    "\n",
    "\n",
    "![](https://i.imgur.com/JzN8rJc.png)\n"
   ]
  },
  {
   "cell_type": "markdown",
   "metadata": {},
   "source": [
    "## Normal CDF\n",
    "- remember: CDF gives the probability the measured speed of light will be less thatn the value on the x-axis\n",
    "\n",
    "- there is a 97% chance that a speed of light measurement is les thant than\n",
    "![](https://i.imgur.com/uzTpAAb.png)\n",
    "\n"
   ]
  },
  {
   "cell_type": "code",
   "execution_count": null,
   "metadata": {},
   "outputs": [],
   "source": []
  },
  {
   "cell_type": "markdown",
   "metadata": {},
   "source": [
    "# Let’s practice!"
   ]
  },
  {
   "cell_type": "code",
   "execution_count": null,
   "metadata": {},
   "outputs": [],
   "source": []
  },
  {
   "cell_type": "code",
   "execution_count": null,
   "metadata": {},
   "outputs": [],
   "source": []
  },
  {
   "cell_type": "code",
   "execution_count": null,
   "metadata": {},
   "outputs": [],
   "source": []
  },
  {
   "cell_type": "code",
   "execution_count": null,
   "metadata": {},
   "outputs": [],
   "source": []
  },
  {
   "cell_type": "code",
   "execution_count": null,
   "metadata": {},
   "outputs": [],
   "source": []
  },
  {
   "cell_type": "markdown",
   "metadata": {},
   "source": [
    "# Introduction to the Normal distribution\n",
    "\n",
    "## Normal distribution\n",
    "- Describes a continuous variable whose PDF has a single symmetric peak.\n",
    "\n",
    "\n",
    "- mean determines whre the center of the peak is\n",
    "- standar deviation measures how wide the peak is, or houw spread pout the data are.\n",
    "- note:\n",
    "\n",
    "\n",
    "![](https://i.imgur.com/mBNTdnp.png)\n",
    "\n",
    "- mean and std are the names of the parameters of the Normai distribution NOT the results from the computed data when doing exploratory data analysis\n",
    "\n",
    "| Parameter | _ |Calculated from data |\n",
    "| -------- | -------- | -------- |\n",
    "| mean of a Normal distribution| $\\neq$| mean computed from data|\n",
    "|st. dev. of a Normal distribution|$\\neq$|standard deviation computed from data|\n",
    "\n"
   ]
  },
  {
   "cell_type": "markdown",
   "metadata": {},
   "source": [
    "## Comparing data to a Normal PDF\n",
    "![](https://i.imgur.com/qHE7IOD.png)\n",
    "\n",
    "---\n",
    "- comparing the histogram to the PDF suffers form binning bias, so its better to compare theECDF of the data to the theoretical CDF of the Normal Distribution.\n",
    "\n",
    "To compute the theoretical CDF, we can use `np.random.normal()` to draw samples and then we can compute the CDF\n"
   ]
  },
  {
   "cell_type": "markdown",
   "metadata": {},
   "source": [
    "## Checking Normality of Michelson data\n"
   ]
  },
  {
   "cell_type": "code",
   "execution_count": null,
   "metadata": {},
   "outputs": [],
   "source": []
  },
  {
   "cell_type": "code",
   "execution_count": 30,
   "metadata": {},
   "outputs": [],
   "source": [
    "import pandas as pd\n",
    "\n",
    "df = pd.read_csv('michelson_speed_of_light.csv')"
   ]
  },
  {
   "cell_type": "code",
   "execution_count": 31,
   "metadata": {},
   "outputs": [],
   "source": [
    "michelson_speed_of_light = df['velocity of light in air (km/s)']"
   ]
  },
  {
   "cell_type": "code",
   "execution_count": 33,
   "metadata": {},
   "outputs": [],
   "source": [
    "def ecdf(data):\n",
    "    \"\"\"Compute ECDF for a one-dimensional array of measurements.\"\"\"\n",
    "    # Number of data points: n\n",
    "    n = len(data)\n",
    "    # x-data for the ECDF: x\n",
    "    x = np.sort(data)\n",
    "    # y-data for the ECDF: y\n",
    "    y = np.arange(1, n+1) / n\n",
    "    return x, y"
   ]
  },
  {
   "cell_type": "code",
   "execution_count": 34,
   "metadata": {},
   "outputs": [],
   "source": [
    "In [1]: import numpy as np\n",
    "In [2]: mean = np.mean(michelson_speed_of_light)\n",
    "In [3]: std = np.std(michelson_speed_of_light)\n",
    "In [4]: samples = np.random.normal(mean, std, size=10000)\n",
    "In [5]: x, y = ecdf(michelson_speed_of_light)\n",
    "In [6]: x_theor, y_theor = ecdf(samples)"
   ]
  },
  {
   "cell_type": "markdown",
   "metadata": {},
   "source": [
    "## Checking Normality of Michelson data\n"
   ]
  },
  {
   "cell_type": "code",
   "execution_count": 35,
   "metadata": {},
   "outputs": [
    {
     "data": {
      "image/png": "[encoded data removed]",
      "text/plain": [
       "<matplotlib.figure.Figure at 0x7f2bdb5ea1d0>"
      ]
     },
     "metadata": {},
     "output_type": "display_data"
    }
   ],
   "source": [
    "In [1]: import matplotlib.pyplot as plt\n",
    "In [2]: import seaborn as sns\n",
    "In [3]: sns.set()\n",
    "In [4]: _ = plt.plot(x_theor, y_theor)\n",
    "In [5]: _ = plt.plot(x, y, marker='.', linestyle='none')\n",
    "In [6]: _ = plt.xlabel('speed of light (km/s)')\n",
    "In [7]: _ = plt.ylabel('CDF')\n",
    "In [8]: plt.show()"
   ]
  },
  {
   "cell_type": "markdown",
   "metadata": {},
   "source": [
    "# Let’s practice!"
   ]
  },
  {
   "cell_type": "code",
   "execution_count": 36,
   "metadata": {},
   "outputs": [
    {
     "data": {
      "image/png": "[encoded data removed]",
      "text/plain": [
       "<matplotlib.figure.Figure at 0x7f2bdb607390>"
      ]
     },
     "metadata": {},
     "output_type": "display_data"
    }
   ],
   "source": [
    "# Draw 100000 samples from Normal distribution with stds of interest: samples_std1, samples_std3, samples_std10\n",
    "\n",
    "samples_std1 = np.random.normal(20,1,size=100000)\n",
    "samples_std3 = np.random.normal(20,3,size=100000)\n",
    "samples_std10 = np.random.normal(20,10,size=100000)\n",
    "\n",
    "\n",
    "# Make histograms\n",
    "_ = plt.hist(samples_std1, normed=True, histtype='step', bins=100)\n",
    "_ = plt.hist(samples_std3, normed=True, histtype='step' ,bins=100)\n",
    "_ = plt.hist(samples_std10, normed=True, histtype='step', bins=100)\n",
    "\n",
    "\n",
    "\n",
    "# Make a legend, set limits and show plot\n",
    "_ = plt.legend(('std = 1', 'std = 3', 'std = 10'))\n",
    "plt.ylim(-0.01, 0.42)\n",
    "plt.show()"
   ]
  },
  {
   "cell_type": "code",
   "execution_count": 37,
   "metadata": {},
   "outputs": [
    {
     "data": {
      "image/png": "[encoded data removed]",
      "text/plain": [
       "<matplotlib.figure.Figure at 0x7f2bdb61ed30>"
      ]
     },
     "metadata": {},
     "output_type": "display_data"
    }
   ],
   "source": [
    "# Generate CDFs\n",
    "\n",
    "x_std1, y_std1 = ecdf(samples_std1)\n",
    "x_std3, y_std3 = ecdf(samples_std3)\n",
    "x_std10, y_std10 = ecdf(samples_std10)\n",
    "\n",
    "\n",
    "# Plot CDFs\n",
    "_ = plt.plot(x_std1, y_std1, marker='.', linestyle='none')\n",
    "\n",
    "_ = plt.plot(x_std3, y_std3, marker='.', linestyle='none')\n",
    "_ = plt.plot(x_std10, y_std10, marker='.', linestyle='none')\n",
    "\n",
    "\n",
    "# Make 2% margin\n",
    "plt.margins(0.02)\n",
    "\n",
    "# Make a legend and show the plot\n",
    "_ = plt.legend(('std = 1', 'std = 3', 'std = 10'), loc='lower right')\n",
    "plt.show()"
   ]
  },
  {
   "cell_type": "code",
   "execution_count": 38,
   "metadata": {},
   "outputs": [
    {
     "name": "stdout",
     "output_type": "stream",
     "text": [
      "\u001b[0m\u001b[01;32m01Graphical exploratory data analysis.ipynb\u001b[0m*\r\n",
      "\u001b[01;32m02Quantitative exploratory data analysis.ipynb\u001b[0m*\r\n",
      "\u001b[01;32m03Thinking probabilistically_Discrete variables.ipynb\u001b[0m*\r\n",
      "\u001b[01;32m04Thinking_probabilistically_Continous_variables.ipynb\u001b[0m*\r\n",
      "\u001b[01;32m2008_all_states.csv\u001b[0m*\r\n",
      "\u001b[01;32m2008_swing_states.csv\u001b[0m*\r\n",
      "\u001b[01;32mbelmont.csv\u001b[0m*\r\n",
      "\u001b[01;32mmichelson_speed_of_light.csv\u001b[0m*\r\n",
      "\u001b[01;32mstat1.PNG\u001b[0m*\r\n"
     ]
    }
   ],
   "source": [
    "ls"
   ]
  },
  {
   "cell_type": "code",
   "execution_count": 40,
   "metadata": {},
   "outputs": [
    {
     "name": "stdout",
     "output_type": "stream",
     "text": [
      "<class 'pandas.core.frame.DataFrame'>\n",
      "RangeIndex: 91 entries, 0 to 90\n",
      "Data columns (total 8 columns):\n",
      "Year       91 non-null int64\n",
      "Winner     91 non-null object\n",
      "Jockey     91 non-null object\n",
      "Trainer    91 non-null object\n",
      "Owner      91 non-null object\n",
      "Time       91 non-null object\n",
      "Track      91 non-null object\n",
      "miles      91 non-null float64\n",
      "dtypes: float64(1), int64(1), object(6)\n",
      "memory usage: 5.8+ KB\n"
     ]
    }
   ],
   "source": [
    "df = pd.read_csv('belmont.csv')\n",
    "df.info()"
   ]
  },
  {
   "cell_type": "code",
   "execution_count": null,
   "metadata": {},
   "outputs": [],
   "source": [
    "# Compute mean and standard deviation: mu, sigma\n",
    "mu = belmont_no_outliers.mean()\n",
    "sigma = belmont_no_outliers.std()\n",
    "\n",
    "# Sample out of a normal distribution with this mu and sigma: samples\n",
    "samples = np.random.normal(mu,sigma, size = 10000)\n",
    "\n",
    "# Get the CDF of the samples and of the data\n",
    "x,y = ecdf(belmont_no_outliers)\n",
    "\n",
    "x_theor,y_theor = ecdf(samples)\n",
    "\n",
    "# Plot the CDFs and show the plot\n",
    "_ = plt.plot(x_theor, y_theor)\n",
    "_ = plt.plot(x, y, marker='.', linestyle='none')\n",
    "plt.margins(0.02)\n",
    "_ = plt.xlabel('Belmont winning time (sec.)')\n",
    "_ = plt.ylabel('CDF')\n",
    "plt.show()"
   ]
  },
  {
   "cell_type": "code",
   "execution_count": null,
   "metadata": {},
   "outputs": [],
   "source": [
    "# Take a million samples out of the Normal distribution: samples\n",
    "\n",
    "samples = np.random.normal(mu,sigma, size=1000000)\n",
    "# Compute the fraction that are faster than 144 seconds: prob\n",
    "\n",
    "prob = np.sum(samples <= belmont_secretariat)/len(samples)\n",
    "\n",
    "# Print the result\n",
    "print('Probability of besting Secretariat:', prob)\n"
   ]
  },
  {
   "cell_type": "code",
   "execution_count": null,
   "metadata": {},
   "outputs": [],
   "source": []
  },
  {
   "cell_type": "code",
   "execution_count": null,
   "metadata": {},
   "outputs": [],
   "source": []
  },
  {
   "cell_type": "markdown",
   "metadata": {},
   "source": [
    "# The Normal distribution: Properties and warnings\n",
    "\n",
    "## The Gaussian distribution\n",
    "![](https://i.imgur.com/Z8x2QAP.png)\n",
    "\n",
    "\n",
    "## Length of MA large mouth bass\n",
    "\n",
    "![](https://i.imgur.com/0Hx0nnV.png)\n",
    "\n",
    "\n",
    "\n",
    "![](https://i.imgur.com/h7V5s95.png)\n",
    "\n",
    "## Light tails of the Normal distribution\n",
    "\n",
    "\n",
    "![](https://i.imgur.com/0WUIyX7.png)\n"
   ]
  },
  {
   "cell_type": "markdown",
   "metadata": {},
   "source": [
    "# Let’s practice!"
   ]
  },
  {
   "cell_type": "code",
   "execution_count": null,
   "metadata": {},
   "outputs": [],
   "source": [
    "# Compute mean and standard deviation: mu, sigma\n",
    "mu = belmont_no_outliers.mean()\n",
    "sigma = belmont_no_outliers.std()\n",
    "\n",
    "# Sample out of a normal distribution with this mu and sigma: samples\n",
    "samples = np.random.normal(mu,sigma, size = 10000)\n",
    "\n",
    "# Get the CDF of the samples and of the data\n",
    "x,y = ecdf(belmont_no_outliers)\n",
    "\n",
    "x_theor,y_theor = ecdf(samples)\n",
    "\n",
    "# Plot the CDFs and show the plot\n",
    "_ = plt.plot(x_theor, y_theor)\n",
    "_ = plt.plot(x, y, marker='.', linestyle='none')\n",
    "plt.margins(0.02)\n",
    "_ = plt.xlabel('Belmont winning time (sec.)')\n",
    "_ = plt.ylabel('CDF')\n",
    "plt.show()"
   ]
  },
  {
   "cell_type": "code",
   "execution_count": null,
   "metadata": {},
   "outputs": [],
   "source": [
    "# Take a million samples out of the Normal distribution: samples\n",
    "\n",
    "samples = np.random.normal(mu,sigma, size=1000000)\n",
    "# Compute the fraction that are faster than 144 seconds: prob\n",
    "\n",
    "prob = np.sum(samples <= belmont_secretariat)/len(samples)\n",
    "\n",
    "# Print the result\n",
    "print('Probability of besting Secretariat:', prob)\n"
   ]
  },
  {
   "cell_type": "code",
   "execution_count": null,
   "metadata": {},
   "outputs": [],
   "source": []
  },
  {
   "cell_type": "code",
   "execution_count": null,
   "metadata": {},
   "outputs": [],
   "source": []
  },
  {
   "cell_type": "code",
   "execution_count": null,
   "metadata": {},
   "outputs": [],
   "source": []
  },
  {
   "cell_type": "markdown",
   "metadata": {},
   "source": [
    "# The Exponential distribution\n",
    "\n",
    "\n",
    "### The Exponential distribution\n",
    "● The waiting time between arrivals of a Poisson\n",
    "process is Exponentially distributed\n",
    "\n",
    "\n",
    "## The Exponential PDF\n",
    "\n",
    "\n",
    "![](https://i.imgur.com/29pkTSZ.png)\n",
    "\n",
    "\n",
    "## Possible Poisson process\n",
    "\n",
    "- Nuclear incidents:\n",
    "    - Timing of one is independent of all others"
   ]
  },
  {
   "cell_type": "markdown",
   "metadata": {},
   "source": [
    "## Exponential inter-incident times\n"
   ]
  },
  {
   "cell_type": "markdown",
   "metadata": {},
   "source": [
    "```python\n",
    "In [1]: mean = np.mean(inter_times)\n",
    "In [2]: samples = np.random.exponential(mean, size=10000)\n",
    "In [3]: x, y = ecdf(inter_times)\n",
    "In [4]: x_theor, y_theor = ecdf(samples)\n",
    "In [5]: _ = plt.plot(x_theor, y_theor)\n",
    "In [6]: _ = plt.plot(x, y, marker='.', linestyle='none')\n",
    "In [7]: _ = plt.xlabel('time (days)')\n",
    "In [8]: _ = plt.ylabel('CDF')\n",
    "In [9]: plt.show()\n",
    "```    \n",
    "    \n",
    "![](https://i.imgur.com/6grGfu3.png)\n"
   ]
  },
  {
   "cell_type": "markdown",
   "metadata": {},
   "source": [
    "# Let’s practice!"
   ]
  },
  {
   "cell_type": "code",
   "execution_count": 41,
   "metadata": {},
   "outputs": [],
   "source": [
    "def successive_poisson(tau1, tau2, size=1):\n",
    "    '''a function to sample out of the distribution'''\n",
    "    # Draw samples out of first exponential distribution: t1\n",
    "    t1 = np.random.exponential(tau1, size)\n",
    "\n",
    "    # Draw samples out of second exponential distribution: t2\n",
    "    t2 = np.random.exponential(tau2, size)\n",
    "\n",
    "    return t1 + t2"
   ]
  },
  {
   "cell_type": "code",
   "execution_count": 42,
   "metadata": {},
   "outputs": [
    {
     "data": {
      "image/png": "[encoded data removed]",
      "text/plain": [
       "<matplotlib.figure.Figure at 0x7f2bdb4d0a90>"
      ]
     },
     "metadata": {},
     "output_type": "display_data"
    }
   ],
   "source": [
    "# Draw samples of waiting times: waiting_times\n",
    "waiting_times = successive_poisson(764,715,100000)\n",
    "\n",
    "# Make the histogram\n",
    "\n",
    "_ = plt.hist(waiting_times,bins=100, normed=True, histtype='step')\n",
    "\n",
    "# Label axes\n",
    "\n",
    "_ = plt.xlabel('variable')\n",
    "_ = plt.ylabel('opther')\n",
    "\n",
    "# Show the plot\n",
    "\n",
    "plt.show()"
   ]
  },
  {
   "cell_type": "code",
   "execution_count": null,
   "metadata": {},
   "outputs": [],
   "source": []
  },
  {
   "cell_type": "code",
   "execution_count": null,
   "metadata": {},
   "outputs": [],
   "source": []
  },
  {
   "cell_type": "code",
   "execution_count": null,
   "metadata": {},
   "outputs": [],
   "source": []
  },
  {
   "cell_type": "code",
   "execution_count": null,
   "metadata": {},
   "outputs": [],
   "source": []
  }
 ],
 "metadata": {
  "kernelspec": {
   "display_name": "Python 3",
   "language": "python",
   "name": "python3"
  },
  "language_info": {
   "codemirror_mode": {
    "name": "ipython",
    "version": 3
   },
   "file_extension": ".py",
   "mimetype": "text/x-python",
   "name": "python",
   "nbconvert_exporter": "python",
   "pygments_lexer": "ipython3",
   "version": "3.6.4"
  }
 },
 "nbformat": 4,
 "nbformat_minor": 2
}
