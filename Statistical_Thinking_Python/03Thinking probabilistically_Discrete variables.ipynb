{
 "cells": [
  {
   "cell_type": "code",
   "execution_count": 1,
   "metadata": {},
   "outputs": [],
   "source": [
    "import pandas as pd\n",
    "import numpy as np\n",
    "import matplotlib.pyplot as plt\n",
    "plt.style.use('ggplot')"
   ]
  },
  {
   "cell_type": "markdown",
   "metadata": {},
   "source": [
    "Statistical inference rests upon probability. Because we can very rarely say anything meaningful with absolute certainty from data, we use probabilistic language to make quantitative statements about data. In this chapter, you will learn how to think probabilistically about discrete quantities, those that can only take certain values, like integers. It is an important first step in building the probabilistic language necessary to think statistically."
   ]
  },
  {
   "cell_type": "markdown",
   "metadata": {},
   "source": [
    "# Probabilistic logic and statistical inference\n",
    "\n",
    "\n",
    "## 50 measurements of petal length\n",
    "\n",
    "![](https://i.imgur.com/m9A3MmT.png)\n",
    "\n",
    "![](https://i.imgur.com/TVZWCY9.png)\n",
    "\n",
    "![](https://i.imgur.com/MLhAbEC.png)\n"
   ]
  },
  {
   "cell_type": "markdown",
   "metadata": {},
   "source": [
    "\n",
    "## Probabillistic reasoning\n",
    "- allows us to describe uncertainty\n",
    "- Given a set of data,  you describe probabilistically what you mighth expect if the data were acquired again and again.\n",
    "\n",
    "## statistical inference\n",
    "- Process by which we go from measured data to probabilistic conclusions about what we might expect f we collected teh same data again."
   ]
  },
  {
   "cell_type": "markdown",
   "metadata": {},
   "source": [
    "---\n",
    "# Let’s practice!"
   ]
  },
  {
   "cell_type": "markdown",
   "metadata": {},
   "source": [
    "# What is the goal of statistical inference?\n",
    "Why do we do statistical inference?\n",
    "\n",
    "- To draw probabilistic conclusions about what we might expect if we collected the same data again.\n",
    "- To draw actionable conclusions from data.\n",
    "\n",
    "- To draw more general conclusions from relatively few data or observations.\n",
    "\n",
    "- ***All of these***\n",
    "\n"
   ]
  },
  {
   "cell_type": "markdown",
   "metadata": {},
   "source": [
    "# Why do we use the language of probability?\n",
    "Which of the following is **not** a reason why we use probabilistic language in statistical inference?\n",
    "\n",
    "Possible Answers\n",
    "- Probability provides a measure of uncertainty.\n",
    "- ***Probabilistic language is not very precise.***\n",
    "- Data are almost never exactly the same when acquired again, and probability allows us to say how much we expect them to vary.\n",
    "\n",
    "---"
   ]
  },
  {
   "cell_type": "markdown",
   "metadata": {},
   "source": [
    "# Random number generators and hacker statistics\n",
    "\n",
    "## Hacker statistics\n",
    "\n",
    "- Uses **simulated** repeated measurements to compute\n",
    "probabilities\n",
    "\n",
    "\n",
    "\n",
    "## The `np.random` module\n",
    "\n",
    "- Suite of functions based on random number generation\n",
    "-  `np.random.random()`:\n",
    "     - draw a number between 0 and 1\n",
    "     \n",
    "     \n",
    "## Bernoulli trial\n",
    "\n",
    "An experiment that has two options,\n",
    "\"success\" (True) and \"failure\" (False).\n",
    "\n",
    "\n",
    "## Random number seed\n",
    "\n",
    "- Integer fed into random number generating\n",
    "algorithm\n",
    "- Manually seed random number generator if\n",
    "you need reproducibility\n",
    "- Specified using `np.random.seed()`"
   ]
  },
  {
   "cell_type": "markdown",
   "metadata": {},
   "source": [
    "## Simulating 4 coin flips"
   ]
  },
  {
   "cell_type": "code",
   "execution_count": 3,
   "metadata": {},
   "outputs": [
    {
     "data": {
      "text/plain": [
       "array([0.37454012, 0.95071431, 0.73199394, 0.59865848])"
      ]
     },
     "execution_count": 3,
     "metadata": {},
     "output_type": "execute_result"
    }
   ],
   "source": [
    "import numpy as np\n",
    "np.random.seed(42)\n",
    "random_numbers = np.random.random(size=4)\n",
    "random_numbers"
   ]
  },
  {
   "cell_type": "code",
   "execution_count": 4,
   "metadata": {},
   "outputs": [],
   "source": [
    "heads = random_numbers < 0.5"
   ]
  },
  {
   "cell_type": "code",
   "execution_count": 5,
   "metadata": {},
   "outputs": [
    {
     "data": {
      "text/plain": [
       "array([ True, False, False, False])"
      ]
     },
     "execution_count": 5,
     "metadata": {},
     "output_type": "execute_result"
    }
   ],
   "source": [
    "heads"
   ]
  },
  {
   "cell_type": "code",
   "execution_count": 5,
   "metadata": {},
   "outputs": [
    {
     "data": {
      "text/plain": [
       "1"
      ]
     },
     "execution_count": 5,
     "metadata": {},
     "output_type": "execute_result"
    }
   ],
   "source": [
    "np.sum(heads)"
   ]
  },
  {
   "cell_type": "markdown",
   "metadata": {},
   "source": [
    "## Get the probability of getting 4 heads repeating over\n",
    "- use a for loop\n",
    "\n",
    "- What is the probability of getting 4 heads?\n",
    "    - number of times we go all heads, divided by the total muber of trials we did."
   ]
  },
  {
   "cell_type": "code",
   "execution_count": 6,
   "metadata": {},
   "outputs": [],
   "source": [
    "n_all_heads = 0  # initialize nyumber of 4-heads trials\n",
    "\n",
    "for _ in range(10000):  # 10K repeats of the 4-flip trial\n",
    "    heads = np.random.random(size=4) < 0.5\n",
    "    n_heads = np.sum(heads)\n",
    "    if n_heads == 4:  # if given trial gives 4 heads\n",
    "        n_all_heads += 1  # increase the count\n",
    "        \n"
   ]
  },
  {
   "cell_type": "code",
   "execution_count": 7,
   "metadata": {},
   "outputs": [
    {
     "data": {
      "text/plain": [
       "0.0619"
      ]
     },
     "execution_count": 7,
     "metadata": {},
     "output_type": "execute_result"
    }
   ],
   "source": [
    "n_all_heads /10000"
   ]
  },
  {
   "cell_type": "markdown",
   "metadata": {},
   "source": [
    "## Hacker stats probabilities\n",
    "\n",
    "- Determine how to simulate data\n",
    "- Simulate many many times\n",
    "- Probability is approximately fraction of trials with the outcome of interest"
   ]
  },
  {
   "cell_type": "markdown",
   "metadata": {},
   "source": [
    "# Let’s practice!"
   ]
  },
  {
   "cell_type": "markdown",
   "metadata": {},
   "source": [
    "## Generating random numbers using the np.random module\n",
    "We will be hammering the np.random module for the rest of this course and its sequel. Actually, you will probably call functions from this module more than any other while wearing your hacker statistician hat. Let's start by taking its simplest function, np.random.random() for a test spin. The function returns a random number between zero and one. Call np.random.random() a few times in the IPython shell. You should see numbers jumping around between zero and one.\n",
    "\n",
    "In this exercise, we'll generate lots of random numbers between zero and one, and then plot a histogram of the results. If the numbers are truly random, all bars in the histogram should be of (close to) equal height.\n",
    "\n",
    "You may have noticed that, in the video, Justin generated 4 random numbers by passing the keyword argument size=4 to np.random.random(). Such an approach is more efficient than a for loop: in this exercise, however, you will write a for loop to experience hacker statistics as the practice of repeating an experiment over and over again."
   ]
  },
  {
   "cell_type": "code",
   "execution_count": 13,
   "metadata": {},
   "outputs": [
    {
     "data": {
      "image/png": "[encoded data removed]",
      "text/plain": [
       "<Figure size 432x288 with 1 Axes>"
      ]
     },
     "metadata": {
      "needs_background": "light"
     },
     "output_type": "display_data"
    }
   ],
   "source": [
    "# Seed the random number generator\n",
    "np.random.seed(42)\n",
    "\n",
    "# Initialize random numbers: random_numbers\n",
    "random_numbers = np.empty(100000)\n",
    "\n",
    "# Generate random numbers by looping over range(100000)\n",
    "for i in range(100000):\n",
    "    random_numbers[i] = np.random.random()\n",
    "\n",
    "# Plot a histogram\n",
    "_ = plt.hist(random_numbers)\n",
    "\n",
    "# Show the plot\n",
    "plt.show()"
   ]
  },
  {
   "cell_type": "markdown",
   "metadata": {},
   "source": [
    "## The np.random module and Bernoulli trials\n",
    "You can think of a Bernoulli trial as a flip of a possibly biased coin. Specifically, each coin flip has a probability p of landing heads (success) and probability 1−p of landing tails (failure). In this exercise, you will write a function to perform n Bernoulli trials, perform_bernoulli_trials(n, p), which returns the number of successes out of n Bernoulli trials, each of which has probability p of success. To perform each Bernoulli trial, use the np.random.random() function, which returns a random number between zero and one."
   ]
  },
  {
   "cell_type": "code",
   "execution_count": 8,
   "metadata": {},
   "outputs": [],
   "source": [
    "def perform_bernoulli_trials(n, p):\n",
    "    \"\"\"Perform n Bernoulli trials with success probability p\n",
    "    and return number of successes.\"\"\"\n",
    "    # Initialize number of successes: n_success\n",
    "    n_success = 0\n",
    "\n",
    "\n",
    "    # Perform trials\n",
    "    for i in range(n):\n",
    "        # Choose random number between zero and one: random_number\n",
    "        random_number = np.random.random()\n",
    "\n",
    "        # If less than p, it's a success so add one to n_success\n",
    "        if random_number < p:\n",
    "            n_success+=1\n",
    "\n",
    "    return n_success"
   ]
  },
  {
   "cell_type": "markdown",
   "metadata": {},
   "source": [
    "#### How many defaults might we expect?\n",
    "\n",
    "Let's say a bank made 100 mortgage loans. \n",
    "\n",
    "It is possible that anywhere between 0 and 100 of the loans will be defaulted upon. You would like to know the probability of getting a given number of defaults, given that the probability of a default is `p = 0.05`. To investigate this, you will do a simulation. You will perform **100 Bernoulli trials** using the `perform_bernoulli_trials()` function you wrote in the previous exercise and record how many defaults we get. \n",
    "\n",
    "Here, a success is a default. (Remember that the word \"success\" just means that the Bernoulli trial evaluates to True, i.e., did the loan recipient default?) You will do this for another 100 Bernoulli trials. And again and again until we have tried it 1000 times. Then, you will plot a histogram describing the probability of the number of defaults."
   ]
  },
  {
   "cell_type": "code",
   "execution_count": 9,
   "metadata": {},
   "outputs": [
    {
     "data": {
      "image/png": "[encoded data removed]",
      "text/plain": [
       "<Figure size 432x288 with 1 Axes>"
      ]
     },
     "metadata": {
      "needs_background": "light"
     },
     "output_type": "display_data"
    }
   ],
   "source": [
    "# Seed random number generator\n",
    "np.random.seed(42)\n",
    "\n",
    "# Initialize the number of defaults: n_defaults\n",
    "n_defaults = np.empty(1000)\n",
    "\n",
    "# Compute the number of defaults\n",
    "for i in range(1000):\n",
    "    n_defaults[i] = perform_bernoulli_trials(100,0.05)\n",
    "\n",
    "\n",
    "# Plot the histogram with default number of bins; label your axes\n",
    "_ = plt.hist(n_defaults, density=True)\n",
    "_ = plt.xlabel('number of defaults out of 100 loans')\n",
    "_ = plt.ylabel('probability')\n",
    "\n",
    "# Show the plot\n",
    "plt.show()"
   ]
  },
  {
   "cell_type": "markdown",
   "metadata": {},
   "source": [
    "## Will the bank fail?\n",
    "Plot the number of defaults you got from the previous exercise, in your namespace as n_defaults, as a CDF. The ecdf() function you wrote in the first chapter is available.\n",
    "\n",
    "If interest rates are such that the bank will lose money if 10 or more of its loans are defaulted upon, what is the probability that the bank will lose money?"
   ]
  },
  {
   "cell_type": "code",
   "execution_count": 10,
   "metadata": {},
   "outputs": [],
   "source": [
    "def ecdf(data):\n",
    "    \"\"\"Compute ECDF for a one-dimensional array of measurements.\"\"\"\n",
    "    # Number of data points: n\n",
    "    n = len(data)\n",
    "    # x-data for the ECDF: x\n",
    "    x = np.sort(data)\n",
    "    # y-data for the ECDF: y\n",
    "    y = np.arange(1, n+1) / n\n",
    "    return x, y"
   ]
  },
  {
   "cell_type": "code",
   "execution_count": 11,
   "metadata": {},
   "outputs": [
    {
     "data": {
      "image/png": "[encoded data removed]",
      "text/plain": [
       "<Figure size 432x288 with 1 Axes>"
      ]
     },
     "metadata": {
      "needs_background": "light"
     },
     "output_type": "display_data"
    },
    {
     "name": "stdout",
     "output_type": "stream",
     "text": [
      "Probability of losing money = 0.022\n"
     ]
    }
   ],
   "source": [
    "# Compute ECDF: x, y\n",
    "\n",
    "x,y = ecdf(n_defaults)\n",
    "# Plot the ECDF with labeled axes\n",
    "\n",
    "\n",
    "_ = plt.plot(x, y, marker='.', linestyle='none')\n",
    "_ = plt.xlabel('value')\n",
    "_ = plt.ylabel('ECDF')\n",
    "\n",
    "# Show the plot\n",
    "plt.show()\n",
    "\n",
    "# Compute the number of 100-loan simulations with 10 or more defaults: n_lose_money\n",
    "\n",
    "n_lose_money = np.sum(n_defaults >=10)\n",
    "\n",
    "# Compute and print probability of losing money\n",
    "print('Probability of losing money =', n_lose_money / len(n_defaults))"
   ]
  },
  {
   "cell_type": "markdown",
   "metadata": {},
   "source": [
    "As we might expect, we most likely get 5/100 defaults. But we still have about a 2% chance of getting 10 or more defaults out of 100 loans."
   ]
  },
  {
   "cell_type": "markdown",
   "metadata": {},
   "source": [
    "---\n",
    "# Probability distributions and stories: The Binomial distribution"
   ]
  },
  {
   "cell_type": "markdown",
   "metadata": {},
   "source": [
    "## Probability mass function (PMF)\n",
    "- The set of probabilities of discrete outcomes\n"
   ]
  },
  {
   "cell_type": "markdown",
   "metadata": {},
   "source": [
    "## Discrete Uniform PMF\n",
    "\n",
    "![](https://i.imgur.com/C4epsfh.png)\n"
   ]
  },
  {
   "cell_type": "markdown",
   "metadata": {},
   "source": [
    "# Probability distribution\n",
    "- A mathematical description of outcomes\n",
    "\n",
    "\n",
    "## Discrete Uniform distribution: the story\n",
    "- The outcome of rolling a single fair die is\n",
    "Discrete Uniformly distributed.\n",
    "\n",
    "## Binomial distribution: the story\n",
    "\n",
    "- The number $r$ of successes in $n$ Bernoulli trials with\n",
    "probability $p$ of success, is Binomially distributed\n",
    "- The number $r$ of heads in 4 coin flips with probability\n",
    "`0.5` of heads, is Binomially distributed"
   ]
  },
  {
   "cell_type": "markdown",
   "metadata": {},
   "source": [
    "## Sampling from the Binomial distribution\n",
    "\n",
    "`np.random.binomial(4, 0.5)`  \n",
    "- number of bernully trials `4`( coin flips)\n",
    "\n",
    "- and the probability of success (heads) .5"
   ]
  },
  {
   "cell_type": "code",
   "execution_count": 16,
   "metadata": {},
   "outputs": [
    {
     "data": {
      "text/plain": [
       "2"
      ]
     },
     "execution_count": 16,
     "metadata": {},
     "output_type": "execute_result"
    }
   ],
   "source": [
    "# number of bernoulli tris( con flips) 4\n",
    "# probability of siccess (heads) 0.5\n",
    "np.random.binomial(4, 0.5) "
   ]
  },
  {
   "cell_type": "code",
   "execution_count": 13,
   "metadata": {},
   "outputs": [
    {
     "data": {
      "text/plain": [
       "array([2, 2, 2, 2, 2, 3, 3, 2, 2, 0])"
      ]
     },
     "execution_count": 13,
     "metadata": {},
     "output_type": "execute_result"
    }
   ],
   "source": [
    "# how many numbers to sample from binomial distrivution\n",
    "np.random.binomial(4, 0.5, size=10)  # how many numbers to sample out tof the binomial distribution"
   ]
  },
  {
   "cell_type": "markdown",
   "metadata": {},
   "source": [
    "## The Binomial PMF\n",
    "\n",
    "To be able to plot the binomial PMF. we'll draw 10,000 samples from a Binomial distribution where we do 60 Bernoulli triasl witth a probability of success of 0.1"
   ]
  },
  {
   "cell_type": "code",
   "execution_count": 18,
   "metadata": {},
   "outputs": [
    {
     "data": {
      "text/plain": [
       "array([4, 7, 6, ..., 3, 2, 6])"
      ]
     },
     "execution_count": 18,
     "metadata": {},
     "output_type": "execute_result"
    }
   ],
   "source": [
    "samples = np.random.binomial(60, 0.1, size=10000)\n",
    "samples"
   ]
  },
  {
   "cell_type": "code",
   "execution_count": 21,
   "metadata": {},
   "outputs": [
    {
     "data": {
      "text/plain": [
       "<matplotlib.axes._subplots.AxesSubplot at 0x7f7f65ebb588>"
      ]
     },
     "execution_count": 21,
     "metadata": {},
     "output_type": "execute_result"
    },
    {
     "data": {
      "image/png": "[encoded data removed]",
      "text/plain": [
       "<Figure size 432x288 with 1 Axes>"
      ]
     },
     "metadata": {
      "needs_background": "light"
     },
     "output_type": "display_data"
    }
   ],
   "source": [
    "sns.kdeplot(samples, cumulative=True)"
   ]
  },
  {
   "cell_type": "code",
   "execution_count": 20,
   "metadata": {},
   "outputs": [
    {
     "data": {
      "text/plain": [
       "<matplotlib.axes._subplots.AxesSubplot at 0x7f7f63d40f60>"
      ]
     },
     "execution_count": 20,
     "metadata": {},
     "output_type": "execute_result"
    },
    {
     "data": {
      "image/png": "[encoded data removed]",
      "text/plain": [
       "<Figure size 432x288 with 1 Axes>"
      ]
     },
     "metadata": {
      "needs_background": "light"
     },
     "output_type": "display_data"
    }
   ],
   "source": [
    "import seaborn as sns\n",
    "sns.distplot(samples,kde=False)"
   ]
  },
  {
   "cell_type": "markdown",
   "metadata": {},
   "source": [
    "# The Binomial CDF"
   ]
  },
  {
   "cell_type": "code",
   "execution_count": 22,
   "metadata": {},
   "outputs": [],
   "source": [
    "def ecdf(data):\n",
    "    \"\"\"Compute ECDF for a one-dimensional array of measurements.\"\"\"\n",
    "    # Number of data points: n\n",
    "    n = len(data)\n",
    "    # x-data for the ECDF: x\n",
    "    x = np.sort(data)\n",
    "    # y-data for the ECDF: y\n",
    "    y = np.arange(1, n+1) / n\n",
    "    return x, y"
   ]
  },
  {
   "cell_type": "code",
   "execution_count": 23,
   "metadata": {},
   "outputs": [
    {
     "data": {
      "image/png": "[encoded data removed]",
      "text/plain": [
       "<Figure size 432x288 with 1 Axes>"
      ]
     },
     "metadata": {},
     "output_type": "display_data"
    }
   ],
   "source": [
    "import matplotlib.pyplot as plt\n",
    "import seaborn as sns\n",
    "sns.set()\n",
    "x, y = ecdf(samples)\n",
    "_ = plt.plot(x, y, marker='.', linestyle='none')\n",
    "plt.margins(0.02)\n",
    "_ = plt.xlabel('number of successes')\n",
    "_ = plt.ylabel('CDF')\n",
    "plt.show()"
   ]
  },
  {
   "cell_type": "markdown",
   "metadata": {},
   "source": [
    "# Let’s practice!"
   ]
  },
  {
   "cell_type": "markdown",
   "metadata": {},
   "source": [
    "## Sampling out of the Binomial distribution\n",
    "Compute the probability mass function for the number of defaults we would expect for 100 loans as in the last section, but instead of simulating all of the Bernoulli trials, perform the sampling using np.random.binomial(). This is identical to the calculation you did in the last set of exercises using your custom-written perform_bernoulli_trials() function, but far more computationally efficient. Given this extra efficiency, we will take 10,000 samples instead of 1000. After taking the samples, plot the CDF as last time. This CDF that you are plotting is that of the Binomial distribution.\n",
    "\n",
    "Note: For this exercise and all going forward, the random number generator is pre-seeded for you (with np.random.seed(42)) to save you typing that each time."
   ]
  },
  {
   "cell_type": "code",
   "execution_count": 24,
   "metadata": {},
   "outputs": [
    {
     "data": {
      "image/png": "[encoded data removed]",
      "text/plain": [
       "<Figure size 432x288 with 1 Axes>"
      ]
     },
     "metadata": {},
     "output_type": "display_data"
    }
   ],
   "source": [
    "# Take 10,000 samples out of the binomial distribution: n_defaults\n",
    "n_defaults = np.random.binomial(n=100, p=0.05,size=10000)\n",
    "\n",
    "# Compute CDF: x, y\n",
    "x,y = ecdf(n_defaults)\n",
    "\n",
    "# Plot the CDF with axis labels\n",
    "\n",
    "\n",
    "_ = plt.plot(x, y, marker='.', linestyle='none')\n",
    "_ = plt.xlabel('# of defaults out of 100 loans')\n",
    "_ = plt.ylabel('ECDF')\n",
    "\n",
    "\n",
    "# Show the plot\n",
    "\n",
    "plt.show()"
   ]
  },
  {
   "cell_type": "markdown",
   "metadata": {},
   "source": [
    "## Plotting the Binomial PMF\n",
    "As mentioned in the video, plotting a nice looking PMF requires a bit of matplotlib trickery that we will not go into here. Instead, we will plot the PMF of the Binomial distribution as a histogram with skills you have already learned. The trick is setting up the edges of the bins to pass to plt.hist() via the bins keyword argument. We want the bins centered on the integers. So, the edges of the bins should be -0.5, 0.5, 1.5, 2.5, ... up to max(n_defaults) + 1.5. You can generate an array like this using np.arange() and then subtracting 0.5 from the array.\n",
    "\n",
    "You have already sampled out of the Binomial distribution during your exercises on loan defaults, and the resulting samples are in the NumPy array n_defaults."
   ]
  },
  {
   "cell_type": "code",
   "execution_count": 25,
   "metadata": {},
   "outputs": [
    {
     "data": {
      "image/png": "[encoded data removed]",
      "text/plain": [
       "<Figure size 432x288 with 1 Axes>"
      ]
     },
     "metadata": {},
     "output_type": "display_data"
    }
   ],
   "source": [
    "# Compute bin edges: bins\n",
    "bins = np.arange(0, max(n_defaults) + 1.5) - 0.5\n",
    "\n",
    "# Generate histogram\n",
    "_ = plt.hist(n_defaults, density=True, bins=bins)\n",
    "\n",
    "\n",
    "# Set margins\n",
    "plt.margins(0.02)\n",
    "\n",
    "\n",
    "# Label axes\n",
    "\n",
    "_ = plt.xlabel('value')\n",
    "_ = plt.ylabel('Binomial PMF')\n",
    "\n",
    "# Show the plot\n",
    "\n",
    "plt.show()"
   ]
  },
  {
   "cell_type": "markdown",
   "metadata": {},
   "source": [
    "---\n",
    "\n",
    "---\n",
    "\n",
    "# Poisson processes and the Poisson distribution\n",
    "\n",
    "## Poisson process\n",
    "\n",
    "- The timing of the next event is completely\n",
    "independent of when the previous event happened\n",
    "\n",
    "## Examples of Poisson processes\n",
    "\n",
    "- Natural births in a given hospital\n",
    "- Hit on a website during a given hour\n",
    "- Meteor strikes\n",
    "- Molecular collisions in a gas\n",
    "- Aviation incidents\n",
    "- Buses in Poissonville\n",
    "\n",
    "## Poisson distribution\n",
    "\n",
    "\n",
    "\n",
    "- The number r of arrivals of a Poisson process in a\n",
    "given time interval with average rate of λ arrivals\n",
    "per interval is Poisson distributed.\n",
    "\n",
    "- The number r of hits on a website in one hour with\n",
    "an average hit rate of 6 hits per hour is Poisson\n",
    "distributed"
   ]
  },
  {
   "cell_type": "markdown",
   "metadata": {},
   "source": [
    "## Poisson PMF\n",
    "\n",
    "![](https://i.imgur.com/jk1N7Ak.png)\n"
   ]
  },
  {
   "cell_type": "markdown",
   "metadata": {},
   "source": [
    "## Poisson Distribution\n",
    "\n",
    "- Limit of the Binomial distribution for low\n",
    "probability of success and large number of trials.\n",
    "\n",
    "\n",
    "- That is, for rare events.\n",
    "\n"
   ]
  },
  {
   "cell_type": "markdown",
   "metadata": {},
   "source": [
    "## The Poisson CDF\n",
    "\n",
    "- "
   ]
  },
  {
   "cell_type": "code",
   "execution_count": 26,
   "metadata": {},
   "outputs": [
    {
     "data": {
      "image/png": "[encoded data removed]",
      "text/plain": [
       "<Figure size 432x288 with 1 Axes>"
      ]
     },
     "metadata": {},
     "output_type": "display_data"
    }
   ],
   "source": [
    "samples = np.random.poisson(6, size=10000)\n",
    "x, y = ecdf(samples)\n",
    "_ = plt.plot(x, y, marker='.', linestyle='none')\n",
    "plt.margins(0.02)\n",
    "_ = plt.xlabel('number of successes')\n",
    "_ = plt.ylabel('CDF')\n",
    "plt.show()"
   ]
  },
  {
   "cell_type": "markdown",
   "metadata": {},
   "source": [
    "# Let’s practice!\n"
   ]
  },
  {
   "cell_type": "markdown",
   "metadata": {},
   "source": [
    "## Relationship between Binomial and Poisson distributions\n",
    "You just heard that the Poisson distribution is a limit of the Binomial distribution for rare events. This makes sense if you think about the stories. Say we do a Bernoulli trial every minute for an hour, each with a success probability of 0.1. We would do 60 trials, and the number of successes is Binomially distributed, and we would expect to get about 6 successes. This is just like the Poisson story we discussed in the video, where we get on average 6 hits on a website per hour. So, the Poisson distribution with arrival rate equal to np approximates a Binomial distribution for n Bernoulli trials with probability p of success (with n large and p small). Importantly, the Poisson distribution is often simpler to work with because it has only one parameter instead of two for the Binomial distribution.\n",
    "\n",
    "Let's explore these two distributions computationally. You will compute the mean and standard deviation of samples from a Poisson distribution with an arrival rate of 10. Then, you will compute the mean and standard deviation of samples from a Binomial distribution with parameters n and p such that np=10."
   ]
  },
  {
   "cell_type": "code",
   "execution_count": 27,
   "metadata": {},
   "outputs": [
    {
     "name": "stdout",
     "output_type": "stream",
     "text": [
      "Poisson:      9.9904 3.216909672340832\n",
      "n = 20 Binom: 10.0457 2.2485131776353904\n",
      "n = 100 Binom: 10.034 3.033355238016148\n",
      "n = 1000 Binom: 9.9791 3.1798841472607147\n"
     ]
    }
   ],
   "source": [
    "# Draw 10,000 samples out of Poisson distribution: samples_poisson\n",
    "\n",
    "samples_poisson = np.random.poisson(10, size=10000)\n",
    "# Print the mean and standard deviation\n",
    "print('Poisson:     ', np.mean(samples_poisson),\n",
    "                       np.std(samples_poisson))\n",
    "\n",
    "# Specify values of n and p to consider for Binomial: n, p\n",
    "n= [20,100,1000]\n",
    "p = [0.5, 0.1, 0.01]\n",
    "\n",
    "\n",
    "# Draw 10,000 samples for each n,p pair: samples_binomial\n",
    "for i in range(3):\n",
    "    samples_binomial = np.random.binomial(n[i],p[i],size=10000)\n",
    "\n",
    "    # Print results\n",
    "    print('n =', n[i], 'Binom:', np.mean(samples_binomial),\n",
    "                                 np.std(samples_binomial))\n"
   ]
  },
  {
   "cell_type": "markdown",
   "metadata": {},
   "source": [
    "## How many no-hitters in a season?\n",
    "In baseball, a no-hitter is a game in which a pitcher does not allow the other team to get a hit. This is a rare event, and since the beginning of the so-called modern era of baseball (starting in 1901), there have only been 251 of them through the 2015 season in over 200,000 games. The ECDF of the number of no-hitters in a season is shown to the right. Which probability distribution would be appropriate to describe the number of no-hitters we would expect in a given season?\n",
    "\n",
    "Note: The no-hitter data set was scraped and calculated from the data sets available at retrosheet.org (license).\n",
    "\n",
    "\n",
    "\n",
    "![](https://i.imgur.com/MpJq3Jg.png)\n",
    "\n",
    "\n",
    "\n",
    "Possible Answers\n",
    "- Discrete uniform\n",
    "- Binomial\n",
    "- Poisson\n",
    "- ***Both Binomial and Poisson, though Poisson is easier to model and compute.***\n",
    "- Both Binomial and Poisson, though Binomial is easier to model and compute.\n",
    "\n",
    "---\n",
    "\n",
    "Correct! When we have rare events (low p, high n), the Binomial distribution is Poisson. This has a single parameter, the mean number of successes per time interval, in our case the mean number of no-hitters per season."
   ]
  },
  {
   "cell_type": "markdown",
   "metadata": {},
   "source": [
    "## Was 2015 anomalous?\n",
    "1990 and 2015 featured the most no-hitters of any season of baseball (there were seven). Given that there are on average 251/115 no-hitters per season, what is the probability of having seven or more in a season?"
   ]
  },
  {
   "cell_type": "code",
   "execution_count": 28,
   "metadata": {},
   "outputs": [
    {
     "name": "stdout",
     "output_type": "stream",
     "text": [
      "Probability of seven or more no-hitters: 0.0076\n"
     ]
    }
   ],
   "source": [
    "# Draw 10,000 samples out of Poisson distribution: n_nohitters\n",
    "n_nohitters = np.random.poisson(251/115, size=10000)\n",
    "\n",
    "# Compute number of samples that are seven or greater: n_large\n",
    "n_large = np.sum(n_nohitters >=7)\n",
    "\n",
    "# Compute probability of getting seven or more: p_large\n",
    "p_large = n_large/10000\n",
    "\n",
    "# Print the result\n",
    "print('Probability of seven or more no-hitters:', p_large)"
   ]
  },
  {
   "cell_type": "code",
   "execution_count": null,
   "metadata": {},
   "outputs": [],
   "source": []
  }
 ],
 "metadata": {
  "kernelspec": {
   "display_name": "Python 3",
   "language": "python",
   "name": "python3"
  },
  "language_info": {
   "codemirror_mode": {
    "name": "ipython",
    "version": 3
   },
   "file_extension": ".py",
   "mimetype": "text/x-python",
   "name": "python",
   "nbconvert_exporter": "python",
   "pygments_lexer": "ipython3",
   "version": "3.6.8"
  }
 },
 "nbformat": 4,
 "nbformat_minor": 2
}
