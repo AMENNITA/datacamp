{
 "cells": [
  {
   "cell_type": "markdown",
   "metadata": {},
   "source": [
    "Statistical inference rests upon probability. Because we can very rarely say anything meaningful with absolute certainty from data, we use probabilistic language to make quantitative statements about data. In this chapter, you will learn how to think probabilistically about discrete quantities, those that can only take certain values, like integers. It is an important first step in building the probabilistic language necessary to think statistically."
   ]
  },
  {
   "cell_type": "markdown",
   "metadata": {},
   "source": [
    "# Probabilistic logic and statistical inference\n",
    "\n",
    "\n",
    "## 50 measurements of petal length\n",
    "\n",
    "![](https://i.imgur.com/m9A3MmT.png)\n",
    "\n",
    "![](https://i.imgur.com/TVZWCY9.png)\n",
    "\n",
    "![](https://i.imgur.com/MLhAbEC.png)\n"
   ]
  },
  {
   "cell_type": "markdown",
   "metadata": {},
   "source": [
    "# Let’s practice!"
   ]
  },
  {
   "cell_type": "code",
   "execution_count": null,
   "metadata": {},
   "outputs": [],
   "source": []
  },
  {
   "cell_type": "markdown",
   "metadata": {},
   "source": [
    "# Random number generators and hacker statistics\n",
    "\n",
    "## Hacker statistics\n",
    "\n",
    "Uses simulated repeated measurements to compute\n",
    "probabilities\n",
    "\n",
    "\n",
    "\n",
    "## The `np.random` module\n",
    "\n",
    "- Suite of functions based on random number generation\n",
    "-  np.random.random():\n",
    "     - draw a number between 0 and 1\n",
    "     \n",
    "     \n",
    "## Bernoulli trial\n",
    "\n",
    "An experiment that has two options,\n",
    "\"success\" (True) and \"failure\" (False).\n",
    "\n",
    "\n",
    "## Random number seed\n",
    "\n",
    "- Integer fed into random number generating\n",
    "algorithm\n",
    "- Manually seed random number generator if\n",
    "you need reproducibility\n",
    "- Specified using np.random.seed()"
   ]
  },
  {
   "cell_type": "markdown",
   "metadata": {},
   "source": [
    "## Simulating 4 coin flips"
   ]
  },
  {
   "cell_type": "code",
   "execution_count": 1,
   "metadata": {},
   "outputs": [
    {
     "data": {
      "text/plain": [
       "array([0.37454012, 0.95071431, 0.73199394, 0.59865848])"
      ]
     },
     "execution_count": 1,
     "metadata": {},
     "output_type": "execute_result"
    }
   ],
   "source": [
    "In [1]: import numpy as np\n",
    "In [2]: np.random.seed(42)\n",
    "In [3]: random_numbers = np.random.random(size=4)\n",
    "In [4]: random_numbers"
   ]
  },
  {
   "cell_type": "code",
   "execution_count": 2,
   "metadata": {},
   "outputs": [],
   "source": [
    "heads = random_numbers < 0.5"
   ]
  },
  {
   "cell_type": "code",
   "execution_count": 4,
   "metadata": {},
   "outputs": [
    {
     "data": {
      "text/plain": [
       "array([ True, False, False, False])"
      ]
     },
     "execution_count": 4,
     "metadata": {},
     "output_type": "execute_result"
    }
   ],
   "source": [
    "heads"
   ]
  },
  {
   "cell_type": "code",
   "execution_count": 3,
   "metadata": {},
   "outputs": [
    {
     "data": {
      "text/plain": [
       "1"
      ]
     },
     "execution_count": 3,
     "metadata": {},
     "output_type": "execute_result"
    }
   ],
   "source": [
    "np.sum(heads)"
   ]
  },
  {
   "cell_type": "markdown",
   "metadata": {},
   "source": [
    "## Hacker stats probabilities\n",
    "\n",
    "- Determine how to simulate data\n",
    "- Simulate many many times\n",
    "- Probability is approximately fraction of trials\n",
    "with the outcome of interest"
   ]
  },
  {
   "cell_type": "markdown",
   "metadata": {},
   "source": [
    "# Let’s practice!"
   ]
  },
  {
   "cell_type": "code",
   "execution_count": null,
   "metadata": {},
   "outputs": [],
   "source": []
  },
  {
   "cell_type": "code",
   "execution_count": null,
   "metadata": {},
   "outputs": [],
   "source": []
  },
  {
   "cell_type": "code",
   "execution_count": null,
   "metadata": {},
   "outputs": [],
   "source": []
  },
  {
   "cell_type": "code",
   "execution_count": null,
   "metadata": {},
   "outputs": [],
   "source": []
  },
  {
   "cell_type": "code",
   "execution_count": null,
   "metadata": {},
   "outputs": [],
   "source": []
  },
  {
   "cell_type": "markdown",
   "metadata": {},
   "source": [
    "# Probability distributions and stories: The Binomial distribution"
   ]
  },
  {
   "cell_type": "markdown",
   "metadata": {},
   "source": [
    "## Probability mass function (PMF)\n",
    "- ● The set of probabilities of discrete outcomes"
   ]
  },
  {
   "cell_type": "markdown",
   "metadata": {},
   "source": [
    "## Discrete Uniform PMF\n",
    "\n",
    "![](https://i.imgur.com/C4epsfh.png)\n"
   ]
  },
  {
   "cell_type": "markdown",
   "metadata": {},
   "source": [
    "## Probability distribution\n",
    "- A mathematical description of outcomes\n",
    "\n",
    "\n",
    "## Discrete Uniform distribution: the story\n",
    "- The outcome of rolling a single fair die is\n",
    "Discrete Uniformly distributed.\n",
    "\n",
    "## Binomial distribution: the story\n",
    "\n",
    "- The number r of successes in n Bernoulli trials with\n",
    "probability p of success, is Binomially distributed\n",
    "- The number r of heads in 4 coin flips with probability\n",
    "0.5 of heads, is Binomially distributed"
   ]
  },
  {
   "cell_type": "markdown",
   "metadata": {},
   "source": [
    "## Sampling from the Binomial distribution"
   ]
  },
  {
   "cell_type": "code",
   "execution_count": 6,
   "metadata": {},
   "outputs": [
    {
     "data": {
      "text/plain": [
       "1"
      ]
     },
     "execution_count": 6,
     "metadata": {},
     "output_type": "execute_result"
    }
   ],
   "source": [
    "np.random.binomial(4, 0.5)"
   ]
  },
  {
   "cell_type": "code",
   "execution_count": 7,
   "metadata": {},
   "outputs": [
    {
     "data": {
      "text/plain": [
       "array([0, 3, 2, 3, 0, 4, 3, 1, 1, 1])"
      ]
     },
     "execution_count": 7,
     "metadata": {},
     "output_type": "execute_result"
    }
   ],
   "source": [
    "np.random.binomial(4, 0.5, size=10)\n"
   ]
  },
  {
   "cell_type": "markdown",
   "metadata": {},
   "source": [
    "## The Binomial PMF"
   ]
  },
  {
   "cell_type": "code",
   "execution_count": 8,
   "metadata": {},
   "outputs": [],
   "source": [
    "samples = np.random.binomial(60, 0.1, size=10000)"
   ]
  },
  {
   "cell_type": "markdown",
   "metadata": {},
   "source": [
    "# The Binomial CDF"
   ]
  },
  {
   "cell_type": "code",
   "execution_count": 10,
   "metadata": {},
   "outputs": [],
   "source": [
    "def ecdf(data):\n",
    "    \"\"\"Compute ECDF for a one-dimensional array of measurements.\"\"\"\n",
    "    # Number of data points: n\n",
    "    n = len(data)\n",
    "    # x-data for the ECDF: x\n",
    "    x = np.sort(data)\n",
    "    # y-data for the ECDF: y\n",
    "    y = np.arange(1, n+1) / n\n",
    "    return x, y"
   ]
  },
  {
   "cell_type": "code",
   "execution_count": 11,
   "metadata": {},
   "outputs": [
    {
     "data": {
      "image/png": "[encoded data removed]",
      "text/plain": [
       "<matplotlib.figure.Figure at 0x7f9a10b400b8>"
      ]
     },
     "metadata": {},
     "output_type": "display_data"
    }
   ],
   "source": [
    "In [1]: import matplotlib.pyplot as plt\n",
    "In [2]: import seaborn as sns\n",
    "In [3]: sns.set()\n",
    "In [4]: x, y = ecdf(samples)\n",
    "In [5]: _ = plt.plot(x, y, marker='.', linestyle='none')\n",
    "In [6]: plt.margins(0.02)\n",
    "In [7]: _ = plt.xlabel('number of successes')\n",
    "In [8]: _ = plt.ylabel('CDF')\n",
    "In [9]: plt.show()"
   ]
  },
  {
   "cell_type": "markdown",
   "metadata": {},
   "source": [
    "# Let’s practice!"
   ]
  },
  {
   "cell_type": "code",
   "execution_count": null,
   "metadata": {},
   "outputs": [],
   "source": []
  },
  {
   "cell_type": "code",
   "execution_count": null,
   "metadata": {},
   "outputs": [],
   "source": []
  },
  {
   "cell_type": "code",
   "execution_count": null,
   "metadata": {},
   "outputs": [],
   "source": []
  },
  {
   "cell_type": "code",
   "execution_count": null,
   "metadata": {},
   "outputs": [],
   "source": []
  },
  {
   "cell_type": "code",
   "execution_count": null,
   "metadata": {},
   "outputs": [],
   "source": []
  },
  {
   "cell_type": "code",
   "execution_count": null,
   "metadata": {},
   "outputs": [],
   "source": []
  },
  {
   "cell_type": "markdown",
   "metadata": {},
   "source": [
    "# Poisson processes and the Poisson distribution\n",
    "\n",
    "## Poisson process\n",
    "\n",
    "- The timing of the next event is completely\n",
    "independent of when the previous event happened\n",
    "\n",
    "## Examples of Poisson processes\n",
    "\n",
    "- Natural births in a given hospital\n",
    "- Hit on a website during a given hour\n",
    "- Meteor strikes\n",
    "- Molecular collisions in a gas\n",
    "- Aviation incidents\n",
    "- Buses in Poissonville\n",
    "\n",
    "## Poisson distribution\n",
    "\n",
    "\n",
    "\n",
    "- The number r of arrivals of a Poisson process in a\n",
    "given time interval with average rate of λ arrivals\n",
    "per interval is Poisson distributed.\n",
    "\n",
    "- The number r of hits on a website in one hour with\n",
    "an average hit rate of 6 hits per hour is Poisson\n",
    "distributed"
   ]
  },
  {
   "cell_type": "markdown",
   "metadata": {},
   "source": [
    "## Poisson PMF\n",
    "\n",
    "![](https://i.imgur.com/jk1N7Ak.png)\n"
   ]
  },
  {
   "cell_type": "markdown",
   "metadata": {},
   "source": [
    "## Poisson Distribution\n",
    "\n",
    "- Limit of the Binomial distribution for low\n",
    "probability of success and large number of trials.\n",
    "\n",
    "\n",
    "- That is, for rare events.\n",
    "\n"
   ]
  },
  {
   "cell_type": "markdown",
   "metadata": {},
   "source": [
    "## The Poisson CDF"
   ]
  },
  {
   "cell_type": "code",
   "execution_count": 12,
   "metadata": {},
   "outputs": [
    {
     "data": {
      "image/png": "[encoded data removed]",
      "text/plain": [
       "<matplotlib.figure.Figure at 0x7f99f291ed30>"
      ]
     },
     "metadata": {},
     "output_type": "display_data"
    }
   ],
   "source": [
    "In [1]: samples = np.random.poisson(6, size=10000)\n",
    "In [2]: x, y = ecdf(samples)\n",
    "In [3]: _ = plt.plot(x, y, marker='.', linestyle='none')\n",
    "In [4]: plt.margins(0.02)\n",
    "In [5]: _ = plt.xlabel('number of successes')\n",
    "In [6]: _ = plt.ylabel('CDF')\n",
    "In [7]: plt.show()"
   ]
  },
  {
   "cell_type": "markdown",
   "metadata": {},
   "source": [
    "# Let’s practice!"
   ]
  },
  {
   "cell_type": "code",
   "execution_count": null,
   "metadata": {},
   "outputs": [],
   "source": []
  },
  {
   "cell_type": "code",
   "execution_count": null,
   "metadata": {},
   "outputs": [],
   "source": []
  },
  {
   "cell_type": "code",
   "execution_count": null,
   "metadata": {},
   "outputs": [],
   "source": []
  },
  {
   "cell_type": "code",
   "execution_count": null,
   "metadata": {},
   "outputs": [],
   "source": []
  },
  {
   "cell_type": "code",
   "execution_count": null,
   "metadata": {},
   "outputs": [],
   "source": []
  },
  {
   "cell_type": "code",
   "execution_count": null,
   "metadata": {},
   "outputs": [],
   "source": []
  }
 ],
 "metadata": {
  "kernelspec": {
   "display_name": "Python [conda env:datacamp]",
   "language": "python",
   "name": "conda-env-datacamp-py"
  },
  "language_info": {
   "codemirror_mode": {
    "name": "ipython",
    "version": 3
   },
   "file_extension": ".py",
   "mimetype": "text/x-python",
   "name": "python",
   "nbconvert_exporter": "python",
   "pygments_lexer": "ipython3",
   "version": "3.6.4"
  }
 },
 "nbformat": 4,
 "nbformat_minor": 2
}
