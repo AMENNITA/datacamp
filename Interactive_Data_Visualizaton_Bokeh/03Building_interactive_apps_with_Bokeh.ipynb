{
 "cells": [
  {
   "cell_type": "markdown",
   "metadata": {
    "collapsed": true
   },
   "source": [
    "Bokeh server applications let you connect all of the powerful Python libraries for analytics and data science, such as NumPy and Pandas, to rich interactive Bokeh visualizations. Learn about Bokeh's built-in widgets, how to add them to Bokeh documents alongside plots, and how to connect everything to real python code using the Bokeh server"
   ]
  },
  {
   "cell_type": "markdown",
   "metadata": {},
   "source": [
    "\n",
    "```python\n",
    "from bokeh.io import curdoc\n",
    "\n",
    "# create plots and widgets\n",
    "\n",
    "# add callbacks\n",
    "\n",
    "\n",
    "# arrange plots and widgets in layouts\n",
    "\n",
    "\n",
    "currdoc().add_root(layouts)\n",
    "\n",
    "```\n",
    "\n",
    "save `myapp.py`\n",
    "\n",
    "run : \n",
    "```bash\n",
    "bokeh serve -- show myapp.py\n",
    "\n",
    "```\n",
    "#### directory style apps runsimilary\n",
    "\n",
    "```bash\n",
    "\n",
    "bokeh serve --show myappdir.\n",
    "```"
   ]
  },
  {
   "cell_type": "code",
   "execution_count": 1,
   "metadata": {},
   "outputs": [
    {
     "data": {
      "text/html": [
       "\n",
       "    <div class=\"bk-root\">\n",
       "        <a href=\"https://bokeh.pydata.org\" target=\"_blank\" class=\"bk-logo bk-logo-small bk-logo-notebook\"></a>\n",
       "        <span id=\"3ae93049-45e5-43ae-bdf3-0f07e558d802\">Loading BokehJS ...</span>\n",
       "    </div>"
      ]
     },
     "metadata": {},
     "output_type": "display_data"
    },
    {
     "data": {
      "application/javascript": [
       "\n",
       "(function(root) {\n",
       "  function now() {\n",
       "    return new Date();\n",
       "  }\n",
       "\n",
       "  var force = true;\n",
       "\n",
       "  if (typeof (root._bokeh_onload_callbacks) === \"undefined\" || force === true) {\n",
       "    root._bokeh_onload_callbacks = [];\n",
       "    root._bokeh_is_loading = undefined;\n",
       "  }\n",
       "\n",
       "  var JS_MIME_TYPE = 'application/javascript';\n",
       "  var HTML_MIME_TYPE = 'text/html';\n",
       "  var EXEC_MIME_TYPE = 'application/vnd.bokehjs_exec.v0+json';\n",
       "  var CLASS_NAME = 'output_bokeh rendered_html';\n",
       "\n",
       "  /**\n",
       "   * Render data to the DOM node\n",
       "   */\n",
       "  function render(props, node) {\n",
       "    var script = document.createElement(\"script\");\n",
       "    node.appendChild(script);\n",
       "  }\n",
       "\n",
       "  /**\n",
       "   * Handle when an output is cleared or removed\n",
       "   */\n",
       "  function handleClearOutput(event, handle) {\n",
       "    var cell = handle.cell;\n",
       "\n",
       "    var id = cell.output_area._bokeh_element_id;\n",
       "    var server_id = cell.output_area._bokeh_server_id;\n",
       "    // Clean up Bokeh references\n",
       "    if (id !== undefined) {\n",
       "      Bokeh.index[id].model.document.clear();\n",
       "      delete Bokeh.index[id];\n",
       "    }\n",
       "\n",
       "    if (server_id !== undefined) {\n",
       "      // Clean up Bokeh references\n",
       "      var cmd = \"from bokeh.io.state import curstate; print(curstate().uuid_to_server['\" + server_id + \"'].get_sessions()[0].document.roots[0]._id)\";\n",
       "      cell.notebook.kernel.execute(cmd, {\n",
       "        iopub: {\n",
       "          output: function(msg) {\n",
       "            var element_id = msg.content.text.trim();\n",
       "            Bokeh.index[element_id].model.document.clear();\n",
       "            delete Bokeh.index[element_id];\n",
       "          }\n",
       "        }\n",
       "      });\n",
       "      // Destroy server and session\n",
       "      var cmd = \"import bokeh.io.notebook as ion; ion.destroy_server('\" + server_id + \"')\";\n",
       "      cell.notebook.kernel.execute(cmd);\n",
       "    }\n",
       "  }\n",
       "\n",
       "  /**\n",
       "   * Handle when a new output is added\n",
       "   */\n",
       "  function handleAddOutput(event, handle) {\n",
       "    var output_area = handle.output_area;\n",
       "    var output = handle.output;\n",
       "\n",
       "    // limit handleAddOutput to display_data with EXEC_MIME_TYPE content only\n",
       "    if ((output.output_type != \"display_data\") || (!output.data.hasOwnProperty(EXEC_MIME_TYPE))) {\n",
       "      return\n",
       "    }\n",
       "\n",
       "    var toinsert = output_area.element.find(\".\" + CLASS_NAME.split(' ')[0]);\n",
       "\n",
       "    if (output.metadata[EXEC_MIME_TYPE][\"id\"] !== undefined) {\n",
       "      toinsert[0].firstChild.textContent = output.data[JS_MIME_TYPE];\n",
       "      // store reference to embed id on output_area\n",
       "      output_area._bokeh_element_id = output.metadata[EXEC_MIME_TYPE][\"id\"];\n",
       "    }\n",
       "    if (output.metadata[EXEC_MIME_TYPE][\"server_id\"] !== undefined) {\n",
       "      var bk_div = document.createElement(\"div\");\n",
       "      bk_div.innerHTML = output.data[HTML_MIME_TYPE];\n",
       "      var script_attrs = bk_div.children[0].attributes;\n",
       "      for (var i = 0; i < script_attrs.length; i++) {\n",
       "        toinsert[0].firstChild.setAttribute(script_attrs[i].name, script_attrs[i].value);\n",
       "      }\n",
       "      // store reference to server id on output_area\n",
       "      output_area._bokeh_server_id = output.metadata[EXEC_MIME_TYPE][\"server_id\"];\n",
       "    }\n",
       "  }\n",
       "\n",
       "  function register_renderer(events, OutputArea) {\n",
       "\n",
       "    function append_mime(data, metadata, element) {\n",
       "      // create a DOM node to render to\n",
       "      var toinsert = this.create_output_subarea(\n",
       "        metadata,\n",
       "        CLASS_NAME,\n",
       "        EXEC_MIME_TYPE\n",
       "      );\n",
       "      this.keyboard_manager.register_events(toinsert);\n",
       "      // Render to node\n",
       "      var props = {data: data, metadata: metadata[EXEC_MIME_TYPE]};\n",
       "      render(props, toinsert[0]);\n",
       "      element.append(toinsert);\n",
       "      return toinsert\n",
       "    }\n",
       "\n",
       "    /* Handle when an output is cleared or removed */\n",
       "    events.on('clear_output.CodeCell', handleClearOutput);\n",
       "    events.on('delete.Cell', handleClearOutput);\n",
       "\n",
       "    /* Handle when a new output is added */\n",
       "    events.on('output_added.OutputArea', handleAddOutput);\n",
       "\n",
       "    /**\n",
       "     * Register the mime type and append_mime function with output_area\n",
       "     */\n",
       "    OutputArea.prototype.register_mime_type(EXEC_MIME_TYPE, append_mime, {\n",
       "      /* Is output safe? */\n",
       "      safe: true,\n",
       "      /* Index of renderer in `output_area.display_order` */\n",
       "      index: 0\n",
       "    });\n",
       "  }\n",
       "\n",
       "  // register the mime type if in Jupyter Notebook environment and previously unregistered\n",
       "  if (root.Jupyter !== undefined) {\n",
       "    var events = require('base/js/events');\n",
       "    var OutputArea = require('notebook/js/outputarea').OutputArea;\n",
       "\n",
       "    if (OutputArea.prototype.mime_types().indexOf(EXEC_MIME_TYPE) == -1) {\n",
       "      register_renderer(events, OutputArea);\n",
       "    }\n",
       "  }\n",
       "\n",
       "  \n",
       "  if (typeof (root._bokeh_timeout) === \"undefined\" || force === true) {\n",
       "    root._bokeh_timeout = Date.now() + 5000;\n",
       "    root._bokeh_failed_load = false;\n",
       "  }\n",
       "\n",
       "  var NB_LOAD_WARNING = {'data': {'text/html':\n",
       "     \"<div style='background-color: #fdd'>\\n\"+\n",
       "     \"<p>\\n\"+\n",
       "     \"BokehJS does not appear to have successfully loaded. If loading BokehJS from CDN, this \\n\"+\n",
       "     \"may be due to a slow or bad network connection. Possible fixes:\\n\"+\n",
       "     \"</p>\\n\"+\n",
       "     \"<ul>\\n\"+\n",
       "     \"<li>re-rerun `output_notebook()` to attempt to load from CDN again, or</li>\\n\"+\n",
       "     \"<li>use INLINE resources instead, as so:</li>\\n\"+\n",
       "     \"</ul>\\n\"+\n",
       "     \"<code>\\n\"+\n",
       "     \"from bokeh.resources import INLINE\\n\"+\n",
       "     \"output_notebook(resources=INLINE)\\n\"+\n",
       "     \"</code>\\n\"+\n",
       "     \"</div>\"}};\n",
       "\n",
       "  function display_loaded() {\n",
       "    var el = document.getElementById(\"3ae93049-45e5-43ae-bdf3-0f07e558d802\");\n",
       "    if (el != null) {\n",
       "      el.textContent = \"BokehJS is loading...\";\n",
       "    }\n",
       "    if (root.Bokeh !== undefined) {\n",
       "      if (el != null) {\n",
       "        el.textContent = \"BokehJS \" + root.Bokeh.version + \" successfully loaded.\";\n",
       "      }\n",
       "    } else if (Date.now() < root._bokeh_timeout) {\n",
       "      setTimeout(display_loaded, 100)\n",
       "    }\n",
       "  }\n",
       "\n",
       "\n",
       "  function run_callbacks() {\n",
       "    try {\n",
       "      root._bokeh_onload_callbacks.forEach(function(callback) { callback() });\n",
       "    }\n",
       "    finally {\n",
       "      delete root._bokeh_onload_callbacks\n",
       "    }\n",
       "    console.info(\"Bokeh: all callbacks have finished\");\n",
       "  }\n",
       "\n",
       "  function load_libs(js_urls, callback) {\n",
       "    root._bokeh_onload_callbacks.push(callback);\n",
       "    if (root._bokeh_is_loading > 0) {\n",
       "      console.log(\"Bokeh: BokehJS is being loaded, scheduling callback at\", now());\n",
       "      return null;\n",
       "    }\n",
       "    if (js_urls == null || js_urls.length === 0) {\n",
       "      run_callbacks();\n",
       "      return null;\n",
       "    }\n",
       "    console.log(\"Bokeh: BokehJS not loaded, scheduling load and callback at\", now());\n",
       "    root._bokeh_is_loading = js_urls.length;\n",
       "    for (var i = 0; i < js_urls.length; i++) {\n",
       "      var url = js_urls[i];\n",
       "      var s = document.createElement('script');\n",
       "      s.src = url;\n",
       "      s.async = false;\n",
       "      s.onreadystatechange = s.onload = function() {\n",
       "        root._bokeh_is_loading--;\n",
       "        if (root._bokeh_is_loading === 0) {\n",
       "          console.log(\"Bokeh: all BokehJS libraries loaded\");\n",
       "          run_callbacks()\n",
       "        }\n",
       "      };\n",
       "      s.onerror = function() {\n",
       "        console.warn(\"failed to load library \" + url);\n",
       "      };\n",
       "      console.log(\"Bokeh: injecting script tag for BokehJS library: \", url);\n",
       "      document.getElementsByTagName(\"head\")[0].appendChild(s);\n",
       "    }\n",
       "  };var element = document.getElementById(\"3ae93049-45e5-43ae-bdf3-0f07e558d802\");\n",
       "  if (element == null) {\n",
       "    console.log(\"Bokeh: ERROR: autoload.js configured with elementid '3ae93049-45e5-43ae-bdf3-0f07e558d802' but no matching script tag was found. \")\n",
       "    return false;\n",
       "  }\n",
       "\n",
       "  var js_urls = [\"https://cdn.pydata.org/bokeh/release/bokeh-0.12.14.min.js\", \"https://cdn.pydata.org/bokeh/release/bokeh-widgets-0.12.14.min.js\", \"https://cdn.pydata.org/bokeh/release/bokeh-tables-0.12.14.min.js\", \"https://cdn.pydata.org/bokeh/release/bokeh-gl-0.12.14.min.js\"];\n",
       "\n",
       "  var inline_js = [\n",
       "    function(Bokeh) {\n",
       "      Bokeh.set_log_level(\"info\");\n",
       "    },\n",
       "    \n",
       "    function(Bokeh) {\n",
       "      \n",
       "    },\n",
       "    function(Bokeh) {\n",
       "      console.log(\"Bokeh: injecting CSS: https://cdn.pydata.org/bokeh/release/bokeh-0.12.14.min.css\");\n",
       "      Bokeh.embed.inject_css(\"https://cdn.pydata.org/bokeh/release/bokeh-0.12.14.min.css\");\n",
       "      console.log(\"Bokeh: injecting CSS: https://cdn.pydata.org/bokeh/release/bokeh-widgets-0.12.14.min.css\");\n",
       "      Bokeh.embed.inject_css(\"https://cdn.pydata.org/bokeh/release/bokeh-widgets-0.12.14.min.css\");\n",
       "      console.log(\"Bokeh: injecting CSS: https://cdn.pydata.org/bokeh/release/bokeh-tables-0.12.14.min.css\");\n",
       "      Bokeh.embed.inject_css(\"https://cdn.pydata.org/bokeh/release/bokeh-tables-0.12.14.min.css\");\n",
       "    }\n",
       "  ];\n",
       "\n",
       "  function run_inline_js() {\n",
       "    \n",
       "    if ((root.Bokeh !== undefined) || (force === true)) {\n",
       "      for (var i = 0; i < inline_js.length; i++) {\n",
       "        inline_js[i].call(root, root.Bokeh);\n",
       "      }if (force === true) {\n",
       "        display_loaded();\n",
       "      }} else if (Date.now() < root._bokeh_timeout) {\n",
       "      setTimeout(run_inline_js, 100);\n",
       "    } else if (!root._bokeh_failed_load) {\n",
       "      console.log(\"Bokeh: BokehJS failed to load within specified timeout.\");\n",
       "      root._bokeh_failed_load = true;\n",
       "    } else if (force !== true) {\n",
       "      var cell = $(document.getElementById(\"3ae93049-45e5-43ae-bdf3-0f07e558d802\")).parents('.cell').data().cell;\n",
       "      cell.output_area.append_execute_result(NB_LOAD_WARNING)\n",
       "    }\n",
       "\n",
       "  }\n",
       "\n",
       "  if (root._bokeh_is_loading === 0) {\n",
       "    console.log(\"Bokeh: BokehJS loaded, going straight to plotting\");\n",
       "    run_inline_js();\n",
       "  } else {\n",
       "    load_libs(js_urls, function() {\n",
       "      console.log(\"Bokeh: BokehJS plotting callback run at\", now());\n",
       "      run_inline_js();\n",
       "    });\n",
       "  }\n",
       "}(window));"
      ],
      "application/vnd.bokehjs_load.v0+json": "\n(function(root) {\n  function now() {\n    return new Date();\n  }\n\n  var force = true;\n\n  if (typeof (root._bokeh_onload_callbacks) === \"undefined\" || force === true) {\n    root._bokeh_onload_callbacks = [];\n    root._bokeh_is_loading = undefined;\n  }\n\n  \n\n  \n  if (typeof (root._bokeh_timeout) === \"undefined\" || force === true) {\n    root._bokeh_timeout = Date.now() + 5000;\n    root._bokeh_failed_load = false;\n  }\n\n  var NB_LOAD_WARNING = {'data': {'text/html':\n     \"<div style='background-color: #fdd'>\\n\"+\n     \"<p>\\n\"+\n     \"BokehJS does not appear to have successfully loaded. If loading BokehJS from CDN, this \\n\"+\n     \"may be due to a slow or bad network connection. Possible fixes:\\n\"+\n     \"</p>\\n\"+\n     \"<ul>\\n\"+\n     \"<li>re-rerun `output_notebook()` to attempt to load from CDN again, or</li>\\n\"+\n     \"<li>use INLINE resources instead, as so:</li>\\n\"+\n     \"</ul>\\n\"+\n     \"<code>\\n\"+\n     \"from bokeh.resources import INLINE\\n\"+\n     \"output_notebook(resources=INLINE)\\n\"+\n     \"</code>\\n\"+\n     \"</div>\"}};\n\n  function display_loaded() {\n    var el = document.getElementById(\"3ae93049-45e5-43ae-bdf3-0f07e558d802\");\n    if (el != null) {\n      el.textContent = \"BokehJS is loading...\";\n    }\n    if (root.Bokeh !== undefined) {\n      if (el != null) {\n        el.textContent = \"BokehJS \" + root.Bokeh.version + \" successfully loaded.\";\n      }\n    } else if (Date.now() < root._bokeh_timeout) {\n      setTimeout(display_loaded, 100)\n    }\n  }\n\n\n  function run_callbacks() {\n    try {\n      root._bokeh_onload_callbacks.forEach(function(callback) { callback() });\n    }\n    finally {\n      delete root._bokeh_onload_callbacks\n    }\n    console.info(\"Bokeh: all callbacks have finished\");\n  }\n\n  function load_libs(js_urls, callback) {\n    root._bokeh_onload_callbacks.push(callback);\n    if (root._bokeh_is_loading > 0) {\n      console.log(\"Bokeh: BokehJS is being loaded, scheduling callback at\", now());\n      return null;\n    }\n    if (js_urls == null || js_urls.length === 0) {\n      run_callbacks();\n      return null;\n    }\n    console.log(\"Bokeh: BokehJS not loaded, scheduling load and callback at\", now());\n    root._bokeh_is_loading = js_urls.length;\n    for (var i = 0; i < js_urls.length; i++) {\n      var url = js_urls[i];\n      var s = document.createElement('script');\n      s.src = url;\n      s.async = false;\n      s.onreadystatechange = s.onload = function() {\n        root._bokeh_is_loading--;\n        if (root._bokeh_is_loading === 0) {\n          console.log(\"Bokeh: all BokehJS libraries loaded\");\n          run_callbacks()\n        }\n      };\n      s.onerror = function() {\n        console.warn(\"failed to load library \" + url);\n      };\n      console.log(\"Bokeh: injecting script tag for BokehJS library: \", url);\n      document.getElementsByTagName(\"head\")[0].appendChild(s);\n    }\n  };var element = document.getElementById(\"3ae93049-45e5-43ae-bdf3-0f07e558d802\");\n  if (element == null) {\n    console.log(\"Bokeh: ERROR: autoload.js configured with elementid '3ae93049-45e5-43ae-bdf3-0f07e558d802' but no matching script tag was found. \")\n    return false;\n  }\n\n  var js_urls = [\"https://cdn.pydata.org/bokeh/release/bokeh-0.12.14.min.js\", \"https://cdn.pydata.org/bokeh/release/bokeh-widgets-0.12.14.min.js\", \"https://cdn.pydata.org/bokeh/release/bokeh-tables-0.12.14.min.js\", \"https://cdn.pydata.org/bokeh/release/bokeh-gl-0.12.14.min.js\"];\n\n  var inline_js = [\n    function(Bokeh) {\n      Bokeh.set_log_level(\"info\");\n    },\n    \n    function(Bokeh) {\n      \n    },\n    function(Bokeh) {\n      console.log(\"Bokeh: injecting CSS: https://cdn.pydata.org/bokeh/release/bokeh-0.12.14.min.css\");\n      Bokeh.embed.inject_css(\"https://cdn.pydata.org/bokeh/release/bokeh-0.12.14.min.css\");\n      console.log(\"Bokeh: injecting CSS: https://cdn.pydata.org/bokeh/release/bokeh-widgets-0.12.14.min.css\");\n      Bokeh.embed.inject_css(\"https://cdn.pydata.org/bokeh/release/bokeh-widgets-0.12.14.min.css\");\n      console.log(\"Bokeh: injecting CSS: https://cdn.pydata.org/bokeh/release/bokeh-tables-0.12.14.min.css\");\n      Bokeh.embed.inject_css(\"https://cdn.pydata.org/bokeh/release/bokeh-tables-0.12.14.min.css\");\n    }\n  ];\n\n  function run_inline_js() {\n    \n    if ((root.Bokeh !== undefined) || (force === true)) {\n      for (var i = 0; i < inline_js.length; i++) {\n        inline_js[i].call(root, root.Bokeh);\n      }if (force === true) {\n        display_loaded();\n      }} else if (Date.now() < root._bokeh_timeout) {\n      setTimeout(run_inline_js, 100);\n    } else if (!root._bokeh_failed_load) {\n      console.log(\"Bokeh: BokehJS failed to load within specified timeout.\");\n      root._bokeh_failed_load = true;\n    } else if (force !== true) {\n      var cell = $(document.getElementById(\"3ae93049-45e5-43ae-bdf3-0f07e558d802\")).parents('.cell').data().cell;\n      cell.output_area.append_execute_result(NB_LOAD_WARNING)\n    }\n\n  }\n\n  if (root._bokeh_is_loading === 0) {\n    console.log(\"Bokeh: BokehJS loaded, going straight to plotting\");\n    run_inline_js();\n  } else {\n    load_libs(js_urls, function() {\n      console.log(\"Bokeh: BokehJS plotting callback run at\", now());\n      run_inline_js();\n    });\n  }\n}(window));"
     },
     "metadata": {},
     "output_type": "display_data"
    }
   ],
   "source": [
    "from bokeh.io import output_file, show,output_notebook\n",
    "output_notebook()  # show on notebook instead\n"
   ]
  },
  {
   "cell_type": "markdown",
   "metadata": {},
   "source": [
    "# Lets practice"
   ]
  },
  {
   "cell_type": "markdown",
   "metadata": {},
   "source": [
    "# Using the current document\n"
   ]
  },
  {
   "cell_type": "code",
   "execution_count": 2,
   "metadata": {},
   "outputs": [],
   "source": [
    "# Perform necessary imports\n",
    "from bokeh.io import curdoc\n",
    "from bokeh.plotting import figure\n",
    "\n",
    "# Create a new plot: plot\n",
    "plot = figure()\n",
    "\n",
    "# Add a line to the plot\n",
    "plot.line([1,2,3,4,5],[2,5,4,6,7])\n",
    "\n",
    "# Add the plot to the current document\n",
    "curdoc().add_root(plot)\n"
   ]
  },
  {
   "cell_type": "markdown",
   "metadata": {},
   "source": [
    "# Add a single slider\n"
   ]
  },
  {
   "cell_type": "code",
   "execution_count": 3,
   "metadata": {},
   "outputs": [
    {
     "data": {
      "text/html": [
       "\n",
       "<div class=\"bk-root\">\n",
       "    <div class=\"bk-plotdiv\" id=\"ff00ffa3-7de8-449b-96e1-fb090e69c644\"></div>\n",
       "</div>"
      ]
     },
     "metadata": {},
     "output_type": "display_data"
    },
    {
     "data": {
      "application/javascript": [
       "(function(root) {\n",
       "  function embed_document(root) {\n",
       "    \n",
       "  var docs_json = {\"9bcd3a96-b355-4efb-96ed-ed50b984be8d\":{\"roots\":{\"references\":[{\"attributes\":{\"children\":[{\"id\":\"65bfc812-c147-4742-8079-77de525b4bcf\",\"type\":\"Slider\"}]},\"id\":\"10e40af9-0d54-4a1e-bf34-5fc944982ceb\",\"type\":\"WidgetBox\"},{\"attributes\":{\"callback\":null,\"end\":10,\"start\":0,\"step\":0.1,\"title\":\"my slider\",\"value\":2},\"id\":\"65bfc812-c147-4742-8079-77de525b4bcf\",\"type\":\"Slider\"}],\"root_ids\":[\"10e40af9-0d54-4a1e-bf34-5fc944982ceb\"]},\"title\":\"Bokeh Application\",\"version\":\"0.12.14\"}};\n",
       "  var render_items = [{\"docid\":\"9bcd3a96-b355-4efb-96ed-ed50b984be8d\",\"elementid\":\"ff00ffa3-7de8-449b-96e1-fb090e69c644\",\"modelid\":\"10e40af9-0d54-4a1e-bf34-5fc944982ceb\"}];\n",
       "  root.Bokeh.embed.embed_items_notebook(docs_json, render_items);\n",
       "\n",
       "  }\n",
       "  if (root.Bokeh !== undefined) {\n",
       "    embed_document(root);\n",
       "  } else {\n",
       "    var attempts = 0;\n",
       "    var timer = setInterval(function(root) {\n",
       "      if (root.Bokeh !== undefined) {\n",
       "        embed_document(root);\n",
       "        clearInterval(timer);\n",
       "      }\n",
       "      attempts++;\n",
       "      if (attempts > 100) {\n",
       "        console.log(\"Bokeh: ERROR: Unable to run BokehJS code because BokehJS library is missing\")\n",
       "        clearInterval(timer);\n",
       "      }\n",
       "    }, 10, root)\n",
       "  }\n",
       "})(window);"
      ],
      "application/vnd.bokehjs_exec.v0+json": ""
     },
     "metadata": {
      "application/vnd.bokehjs_exec.v0+json": {
       "id": "10e40af9-0d54-4a1e-bf34-5fc944982ceb"
      }
     },
     "output_type": "display_data"
    }
   ],
   "source": [
    "# Perform the necessary imports\n",
    "from bokeh.io import curdoc\n",
    "from bokeh.layouts import widgetbox\n",
    "from bokeh.models import Slider\n",
    "\n",
    "# Create a slider: slider\n",
    "slider = Slider(title='my slider', start=0, end=10, step=0.1, value=2)\n",
    "\n",
    "# Create a widgetbox layout: layout\n",
    "layout = widgetbox(slider)\n",
    "\n",
    "# Add the layout to the current document\n",
    "curdoc().add_root(layout)\n",
    "show(layout)"
   ]
  },
  {
   "cell_type": "markdown",
   "metadata": {},
   "source": [
    "# Multiple sliders in one document\n"
   ]
  },
  {
   "cell_type": "code",
   "execution_count": 4,
   "metadata": {},
   "outputs": [
    {
     "data": {
      "text/html": [
       "\n",
       "<div class=\"bk-root\">\n",
       "    <div class=\"bk-plotdiv\" id=\"fc40ebf9-6224-4eb5-bdad-d67238db34f3\"></div>\n",
       "</div>"
      ]
     },
     "metadata": {},
     "output_type": "display_data"
    },
    {
     "data": {
      "application/javascript": [
       "(function(root) {\n",
       "  function embed_document(root) {\n",
       "    \n",
       "  var docs_json = {\"85f62928-3503-4b90-87f0-ae91e7beaf24\":{\"roots\":{\"references\":[{\"attributes\":{\"callback\":null,\"end\":100,\"start\":10,\"title\":\"slider2\",\"value\":20},\"id\":\"6a3cfa91-1564-4875-a7b8-6f8a7dd8398d\",\"type\":\"Slider\"},{\"attributes\":{\"children\":[{\"id\":\"c1969fc0-ef8f-4d5c-9464-3340046c5541\",\"type\":\"Slider\"},{\"id\":\"6a3cfa91-1564-4875-a7b8-6f8a7dd8398d\",\"type\":\"Slider\"}]},\"id\":\"9c06e6f3-9e6d-4607-904d-7d831791b14f\",\"type\":\"WidgetBox\"},{\"attributes\":{\"callback\":null,\"end\":10,\"start\":0,\"step\":0.1,\"title\":\"slider1\",\"value\":2},\"id\":\"c1969fc0-ef8f-4d5c-9464-3340046c5541\",\"type\":\"Slider\"}],\"root_ids\":[\"9c06e6f3-9e6d-4607-904d-7d831791b14f\"]},\"title\":\"Bokeh Application\",\"version\":\"0.12.14\"}};\n",
       "  var render_items = [{\"docid\":\"85f62928-3503-4b90-87f0-ae91e7beaf24\",\"elementid\":\"fc40ebf9-6224-4eb5-bdad-d67238db34f3\",\"modelid\":\"9c06e6f3-9e6d-4607-904d-7d831791b14f\"}];\n",
       "  root.Bokeh.embed.embed_items_notebook(docs_json, render_items);\n",
       "\n",
       "  }\n",
       "  if (root.Bokeh !== undefined) {\n",
       "    embed_document(root);\n",
       "  } else {\n",
       "    var attempts = 0;\n",
       "    var timer = setInterval(function(root) {\n",
       "      if (root.Bokeh !== undefined) {\n",
       "        embed_document(root);\n",
       "        clearInterval(timer);\n",
       "      }\n",
       "      attempts++;\n",
       "      if (attempts > 100) {\n",
       "        console.log(\"Bokeh: ERROR: Unable to run BokehJS code because BokehJS library is missing\")\n",
       "        clearInterval(timer);\n",
       "      }\n",
       "    }, 10, root)\n",
       "  }\n",
       "})(window);"
      ],
      "application/vnd.bokehjs_exec.v0+json": ""
     },
     "metadata": {
      "application/vnd.bokehjs_exec.v0+json": {
       "id": "9c06e6f3-9e6d-4607-904d-7d831791b14f"
      }
     },
     "output_type": "display_data"
    }
   ],
   "source": [
    "# Perform necessary imports\n",
    "from bokeh.io import curdoc\n",
    "from bokeh.layouts import widgetbox\n",
    "from bokeh.models import Slider\n",
    "\n",
    "# Create first slider: slider1\n",
    "slider1 = Slider(title='slider1', start=0, end=10, step=0.1, value=2)\n",
    "\n",
    "# Create second slider: slider2\n",
    "slider2 = Slider(title='slider2', start=10, end=100, step=1, value=20)\n",
    "\n",
    "# Add slider1 and slider2 to a widgetbox\n",
    "layout = widgetbox(slider1,slider2)\n",
    "\n",
    "# Add the layout to the current document\n",
    "curdoc().add_root(layout)\n",
    "\n",
    "show(layout)"
   ]
  },
  {
   "cell_type": "markdown",
   "metadata": {},
   "source": [
    "---\n",
    "# Connecting sliders to plots\n"
   ]
  },
  {
   "cell_type": "code",
   "execution_count": 6,
   "metadata": {},
   "outputs": [
    {
     "data": {
      "text/html": [
       "\n",
       "<div class=\"bk-root\">\n",
       "    <div class=\"bk-plotdiv\" id=\"668e31a9-cf6b-4d3e-a9df-17223001ee1c\"></div>\n",
       "</div>"
      ]
     },
     "metadata": {},
     "output_type": "display_data"
    },
    {
     "data": {
      "application/javascript": [
       "(function(root) {\n",
       "  function embed_document(root) {\n",
       "    \n",
       "  var docs_json = {\"2f5c47ec-9b72-4192-afd7-57d538d18cf1\":{\"roots\":{\"references\":[{\"attributes\":{\"plot\":null,\"text\":\"\"},\"id\":\"7931288e-3251-48c3-a1e6-b368e74be834\",\"type\":\"Title\"},{\"attributes\":{\"bottom_units\":\"screen\",\"fill_alpha\":{\"value\":0.5},\"fill_color\":{\"value\":\"lightgrey\"},\"left_units\":\"screen\",\"level\":\"overlay\",\"line_alpha\":{\"value\":1.0},\"line_color\":{\"value\":\"black\"},\"line_dash\":[4,4],\"line_width\":{\"value\":2},\"plot\":null,\"render_mode\":\"css\",\"right_units\":\"screen\",\"top_units\":\"screen\"},\"id\":\"a9e8f36a-883e-44bb-bb8f-88b81b9a8f70\",\"type\":\"BoxAnnotation\"},{\"attributes\":{},\"id\":\"68dcb7a3-46f8-4c18-b811-6910e2894b62\",\"type\":\"BasicTickFormatter\"},{\"attributes\":{},\"id\":\"f6abefc9-c239-40d8-bceb-ef1f37b49da8\",\"type\":\"BasicTickFormatter\"},{\"attributes\":{\"fill_alpha\":{\"value\":0.1},\"fill_color\":{\"value\":\"#1f77b4\"},\"line_alpha\":{\"value\":0.1},\"line_color\":{\"value\":\"#1f77b4\"},\"x\":{\"field\":\"x\"},\"y\":{\"field\":\"y\"}},\"id\":\"5c47d1a6-8050-4107-b904-9f7233061ca4\",\"type\":\"Circle\"},{\"attributes\":{},\"id\":\"42e18708-e4b1-46e6-9d11-9c5dcbbecc1b\",\"type\":\"WheelZoomTool\"},{\"attributes\":{\"children\":[{\"id\":\"9053b531-6328-41ae-a05e-80a82e35c164\",\"type\":\"Slider\"}]},\"id\":\"9bc1d6c4-fdae-4a45-bd79-f4a15ba0b88d\",\"type\":\"WidgetBox\"},{\"attributes\":{\"callback\":null,\"column_names\":[\"x\",\"y\"],\"data\":{\"x\":{\"__ndarray__\":\"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\",\"dtype\":\"float64\",\"shape\":[300]},\"y\":{\"__ndarray__\":\"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\",\"dtype\":\"float64\",\"shape\":[300]}}},\"id\":\"0db1ebc8-e0b9-4fcc-bfdd-02af2b2e85bc\",\"type\":\"ColumnDataSource\"},{\"attributes\":{\"overlay\":{\"id\":\"a9e8f36a-883e-44bb-bb8f-88b81b9a8f70\",\"type\":\"BoxAnnotation\"}},\"id\":\"4220291a-dc07-429d-9f0b-be4fbf41afc1\",\"type\":\"BoxZoomTool\"},{\"attributes\":{\"dimension\":1,\"plot\":{\"id\":\"8a28b3b8-4612-49c5-96f9-f328fabcf4f4\",\"subtype\":\"Figure\",\"type\":\"Plot\"},\"ticker\":{\"id\":\"ca6d7b56-f15b-46d5-8c4b-3d73eaaf5d79\",\"type\":\"BasicTicker\"}},\"id\":\"64df5ae6-30c6-4f50-8ded-6c213295de6f\",\"type\":\"Grid\"},{\"attributes\":{},\"id\":\"9a6f2bd0-b3d2-4be4-bc40-fb9ece84595c\",\"type\":\"ResetTool\"},{\"attributes\":{\"below\":[{\"id\":\"b6cc34a4-6d6e-407b-87b6-9fa647de2e4d\",\"type\":\"LinearAxis\"}],\"left\":[{\"id\":\"c64416d4-f08f-41d6-80f0-21c3a60492a3\",\"type\":\"LinearAxis\"}],\"renderers\":[{\"id\":\"b6cc34a4-6d6e-407b-87b6-9fa647de2e4d\",\"type\":\"LinearAxis\"},{\"id\":\"a6942fc0-8b78-4184-be22-d73e2fb65de3\",\"type\":\"Grid\"},{\"id\":\"c64416d4-f08f-41d6-80f0-21c3a60492a3\",\"type\":\"LinearAxis\"},{\"id\":\"64df5ae6-30c6-4f50-8ded-6c213295de6f\",\"type\":\"Grid\"},{\"id\":\"a9e8f36a-883e-44bb-bb8f-88b81b9a8f70\",\"type\":\"BoxAnnotation\"},{\"id\":\"d16108e2-3165-47a5-a90d-20b1107328fa\",\"type\":\"GlyphRenderer\"}],\"title\":{\"id\":\"7931288e-3251-48c3-a1e6-b368e74be834\",\"type\":\"Title\"},\"toolbar\":{\"id\":\"3388837b-3b00-4074-9a7b-83fb6f1e09ee\",\"type\":\"Toolbar\"},\"x_range\":{\"id\":\"ee94bb2a-87dc-4c76-8bd3-62c01ab66121\",\"type\":\"DataRange1d\"},\"x_scale\":{\"id\":\"8c2b552e-2172-494d-a01b-944951e710aa\",\"type\":\"LinearScale\"},\"y_range\":{\"id\":\"32c3bea7-2b82-4f95-8a4f-aac0213c6abd\",\"type\":\"DataRange1d\"},\"y_scale\":{\"id\":\"e0e766fc-5ae5-4e1f-aa55-9651879dd2aa\",\"type\":\"LinearScale\"}},\"id\":\"8a28b3b8-4612-49c5-96f9-f328fabcf4f4\",\"subtype\":\"Figure\",\"type\":\"Plot\"},{\"attributes\":{\"children\":[{\"id\":\"9bc1d6c4-fdae-4a45-bd79-f4a15ba0b88d\",\"type\":\"WidgetBox\"},{\"id\":\"8a28b3b8-4612-49c5-96f9-f328fabcf4f4\",\"subtype\":\"Figure\",\"type\":\"Plot\"}]},\"id\":\"9566806d-3d6c-4378-9e62-b39efd0992c3\",\"type\":\"Column\"},{\"attributes\":{},\"id\":\"ca6d7b56-f15b-46d5-8c4b-3d73eaaf5d79\",\"type\":\"BasicTicker\"},{\"attributes\":{\"data_source\":{\"id\":\"0db1ebc8-e0b9-4fcc-bfdd-02af2b2e85bc\",\"type\":\"ColumnDataSource\"},\"glyph\":{\"id\":\"34e9d4b7-8234-44ed-aa89-4c4525d77a94\",\"type\":\"Circle\"},\"hover_glyph\":null,\"muted_glyph\":null,\"nonselection_glyph\":{\"id\":\"5c47d1a6-8050-4107-b904-9f7233061ca4\",\"type\":\"Circle\"},\"selection_glyph\":null,\"view\":{\"id\":\"9b2bbe57-2dc3-4bb9-a854-7b1c71347c23\",\"type\":\"CDSView\"}},\"id\":\"d16108e2-3165-47a5-a90d-20b1107328fa\",\"type\":\"GlyphRenderer\"},{\"attributes\":{\"callback\":null,\"end\":1000,\"start\":100,\"step\":10,\"title\":\"Number of points\",\"value\":300},\"id\":\"9053b531-6328-41ae-a05e-80a82e35c164\",\"type\":\"Slider\"},{\"attributes\":{\"fill_color\":{\"value\":\"#1f77b4\"},\"line_color\":{\"value\":\"#1f77b4\"},\"x\":{\"field\":\"x\"},\"y\":{\"field\":\"y\"}},\"id\":\"34e9d4b7-8234-44ed-aa89-4c4525d77a94\",\"type\":\"Circle\"},{\"attributes\":{},\"id\":\"ad5f2c63-e4d5-4c54-a8e5-0252b01a30c3\",\"type\":\"HelpTool\"},{\"attributes\":{\"callback\":null},\"id\":\"32c3bea7-2b82-4f95-8a4f-aac0213c6abd\",\"type\":\"DataRange1d\"},{\"attributes\":{},\"id\":\"8c2b552e-2172-494d-a01b-944951e710aa\",\"type\":\"LinearScale\"},{\"attributes\":{},\"id\":\"305f9989-f53d-4a10-b4ca-bf2da7073a88\",\"type\":\"PanTool\"},{\"attributes\":{\"callback\":null},\"id\":\"ee94bb2a-87dc-4c76-8bd3-62c01ab66121\",\"type\":\"DataRange1d\"},{\"attributes\":{\"active_drag\":\"auto\",\"active_inspect\":\"auto\",\"active_scroll\":\"auto\",\"active_tap\":\"auto\",\"tools\":[{\"id\":\"305f9989-f53d-4a10-b4ca-bf2da7073a88\",\"type\":\"PanTool\"},{\"id\":\"42e18708-e4b1-46e6-9d11-9c5dcbbecc1b\",\"type\":\"WheelZoomTool\"},{\"id\":\"4220291a-dc07-429d-9f0b-be4fbf41afc1\",\"type\":\"BoxZoomTool\"},{\"id\":\"6d56d269-1f78-4fd2-be13-c105b0220716\",\"type\":\"SaveTool\"},{\"id\":\"9a6f2bd0-b3d2-4be4-bc40-fb9ece84595c\",\"type\":\"ResetTool\"},{\"id\":\"ad5f2c63-e4d5-4c54-a8e5-0252b01a30c3\",\"type\":\"HelpTool\"}]},\"id\":\"3388837b-3b00-4074-9a7b-83fb6f1e09ee\",\"type\":\"Toolbar\"},{\"attributes\":{\"formatter\":{\"id\":\"68dcb7a3-46f8-4c18-b811-6910e2894b62\",\"type\":\"BasicTickFormatter\"},\"plot\":{\"id\":\"8a28b3b8-4612-49c5-96f9-f328fabcf4f4\",\"subtype\":\"Figure\",\"type\":\"Plot\"},\"ticker\":{\"id\":\"ca6d7b56-f15b-46d5-8c4b-3d73eaaf5d79\",\"type\":\"BasicTicker\"}},\"id\":\"c64416d4-f08f-41d6-80f0-21c3a60492a3\",\"type\":\"LinearAxis\"},{\"attributes\":{},\"id\":\"e0e766fc-5ae5-4e1f-aa55-9651879dd2aa\",\"type\":\"LinearScale\"},{\"attributes\":{\"source\":{\"id\":\"0db1ebc8-e0b9-4fcc-bfdd-02af2b2e85bc\",\"type\":\"ColumnDataSource\"}},\"id\":\"9b2bbe57-2dc3-4bb9-a854-7b1c71347c23\",\"type\":\"CDSView\"},{\"attributes\":{\"plot\":{\"id\":\"8a28b3b8-4612-49c5-96f9-f328fabcf4f4\",\"subtype\":\"Figure\",\"type\":\"Plot\"},\"ticker\":{\"id\":\"0540a8f5-1028-4ce1-98e4-2564439794e6\",\"type\":\"BasicTicker\"}},\"id\":\"a6942fc0-8b78-4184-be22-d73e2fb65de3\",\"type\":\"Grid\"},{\"attributes\":{},\"id\":\"6d56d269-1f78-4fd2-be13-c105b0220716\",\"type\":\"SaveTool\"},{\"attributes\":{},\"id\":\"0540a8f5-1028-4ce1-98e4-2564439794e6\",\"type\":\"BasicTicker\"},{\"attributes\":{\"formatter\":{\"id\":\"f6abefc9-c239-40d8-bceb-ef1f37b49da8\",\"type\":\"BasicTickFormatter\"},\"plot\":{\"id\":\"8a28b3b8-4612-49c5-96f9-f328fabcf4f4\",\"subtype\":\"Figure\",\"type\":\"Plot\"},\"ticker\":{\"id\":\"0540a8f5-1028-4ce1-98e4-2564439794e6\",\"type\":\"BasicTicker\"}},\"id\":\"b6cc34a4-6d6e-407b-87b6-9fa647de2e4d\",\"type\":\"LinearAxis\"}],\"root_ids\":[\"9566806d-3d6c-4378-9e62-b39efd0992c3\"]},\"title\":\"Bokeh Application\",\"version\":\"0.12.14\"}};\n",
       "  var render_items = [{\"docid\":\"2f5c47ec-9b72-4192-afd7-57d538d18cf1\",\"elementid\":\"668e31a9-cf6b-4d3e-a9df-17223001ee1c\",\"modelid\":\"9566806d-3d6c-4378-9e62-b39efd0992c3\"}];\n",
       "  root.Bokeh.embed.embed_items_notebook(docs_json, render_items);\n",
       "\n",
       "  }\n",
       "  if (root.Bokeh !== undefined) {\n",
       "    embed_document(root);\n",
       "  } else {\n",
       "    var attempts = 0;\n",
       "    var timer = setInterval(function(root) {\n",
       "      if (root.Bokeh !== undefined) {\n",
       "        embed_document(root);\n",
       "        clearInterval(timer);\n",
       "      }\n",
       "      attempts++;\n",
       "      if (attempts > 100) {\n",
       "        console.log(\"Bokeh: ERROR: Unable to run BokehJS code because BokehJS library is missing\")\n",
       "        clearInterval(timer);\n",
       "      }\n",
       "    }, 10, root)\n",
       "  }\n",
       "})(window);"
      ],
      "application/vnd.bokehjs_exec.v0+json": ""
     },
     "metadata": {
      "application/vnd.bokehjs_exec.v0+json": {
       "id": "9566806d-3d6c-4378-9e62-b39efd0992c3"
      }
     },
     "output_type": "display_data"
    }
   ],
   "source": [
    "from bokeh.io import curdoc\n",
    "from bokeh.layouts import column\n",
    "from bokeh.models import ColumnDataSource,Slider\n",
    "from bokeh.plotting import figure\n",
    "from numpy.random import random\n",
    "\n",
    "N=300\n",
    "\n",
    "source = ColumnDataSource(data={'x': random(N), 'y': random(N)})\n",
    "\n",
    "#  Create plots and wiegets\n",
    "plot = figure()\n",
    "\n",
    "plot.circle(x= 'x', y = 'y', source = source)\n",
    "\n",
    "\n",
    "slider = Slider(start =100, end=1000, value=N, step = 10, title= 'Number of points')\n",
    "\n",
    "\n",
    "# add callback to widgets\n",
    "\n",
    "def callback(attr, old, new):\n",
    "    N = slider.value\n",
    "    source.data = {'x': random(N), 'y': random(N)}\n",
    "    \n",
    "slider.on_change('value', callback)\n",
    "\n",
    "\n",
    "# arrange plots and widgets in layouts\n",
    "layout = column(slider,plot)\n",
    "\n",
    "\n",
    "curdoc().add_root(layout)\n",
    "show(layout)"
   ]
  },
  {
   "cell_type": "code",
   "execution_count": null,
   "metadata": {},
   "outputs": [],
   "source": [
    "\n"
   ]
  },
  {
   "cell_type": "code",
   "execution_count": null,
   "metadata": {},
   "outputs": [],
   "source": []
  },
  {
   "cell_type": "code",
   "execution_count": null,
   "metadata": {},
   "outputs": [],
   "source": []
  },
  {
   "cell_type": "code",
   "execution_count": null,
   "metadata": {},
   "outputs": [],
   "source": []
  }
 ],
 "metadata": {
  "kernelspec": {
   "display_name": "Python [conda env:datacamp]",
   "language": "python",
   "name": "conda-env-datacamp-py"
  },
  "language_info": {
   "codemirror_mode": {
    "name": "ipython",
    "version": 3
   },
   "file_extension": ".py",
   "mimetype": "text/x-python",
   "name": "python",
   "nbconvert_exporter": "python",
   "pygments_lexer": "ipython3",
   "version": "3.6.4"
  }
 },
 "nbformat": 4,
 "nbformat_minor": 2
}
